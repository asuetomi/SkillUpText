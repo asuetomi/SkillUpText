{
 "cells": [
  {
   "cell_type": "markdown",
   "metadata": {},
   "source": [
    "## 8.1 OS"
   ]
  },
  {
   "cell_type": "markdown",
   "metadata": {},
   "source": [
    "### ファイルのパス名操作を OS 互換で行う"
   ]
  },
  {
   "cell_type": "code",
   "execution_count": 1,
   "metadata": {},
   "outputs": [
    {
     "output_type": "execute_result",
     "data": {
      "text/plain": "'C:\\\\Users\\\\a_sue\\\\.conda\\\\envs\\\\MySQL\\\\lib\\\\random.py'"
     },
     "metadata": {},
     "execution_count": 1
    }
   ],
   "source": [
    "import random\n",
    "path_to_random = random.__file__\n",
    "path_to_random"
   ]
  },
  {
   "cell_type": "code",
   "execution_count": 2,
   "metadata": {},
   "outputs": [
    {
     "output_type": "execute_result",
     "data": {
      "text/plain": "False"
     },
     "metadata": {},
     "execution_count": 2
    }
   ],
   "source": [
    "import os\n",
    "os.path.isdir(path_to_random)"
   ]
  },
  {
   "cell_type": "code",
   "execution_count": 3,
   "metadata": {},
   "outputs": [
    {
     "output_type": "execute_result",
     "data": {
      "text/plain": "True"
     },
     "metadata": {},
     "execution_count": 3
    }
   ],
   "source": [
    "os.path.isfile(path_to_random)"
   ]
  },
  {
   "cell_type": "code",
   "execution_count": 7,
   "metadata": {},
   "outputs": [
    {
     "output_type": "execute_result",
     "data": {
      "text/plain": "'C:\\\\Users\\\\a_sue\\\\.conda\\\\envs\\\\MySQL\\\\lib'"
     },
     "metadata": {},
     "execution_count": 7
    }
   ],
   "source": [
    "parent_path_name = os.path.dirname(path_to_random)\n",
    "parent_path_name"
   ]
  },
  {
   "cell_type": "code",
   "execution_count": 8,
   "metadata": {},
   "outputs": [
    {
     "output_type": "execute_result",
     "data": {
      "text/plain": "'random.py'"
     },
     "metadata": {},
     "execution_count": 8
    }
   ],
   "source": [
    "os.path.basename(path_to_random)"
   ]
  },
  {
   "cell_type": "code",
   "execution_count": 9,
   "metadata": {},
   "outputs": [
    {
     "output_type": "execute_result",
     "data": {
      "text/plain": "'lib'"
     },
     "metadata": {},
     "execution_count": 9
    }
   ],
   "source": [
    "os.path.basename(parent_path_name)"
   ]
  },
  {
   "cell_type": "code",
   "execution_count": 11,
   "metadata": {},
   "outputs": [
    {
     "output_type": "execute_result",
     "data": {
      "text/plain": "('C:\\\\Users\\\\a_sue\\\\.conda\\\\envs\\\\MySQL\\\\lib', 'random.py')"
     },
     "metadata": {},
     "execution_count": 11
    }
   ],
   "source": [
    "dir_path_name, file_name = os.path.split(path_to_random)\n",
    "dir_path_name, file_name"
   ]
  },
  {
   "cell_type": "code",
   "execution_count": 12,
   "metadata": {},
   "outputs": [
    {
     "output_type": "execute_result",
     "data": {
      "text/plain": "'C:\\\\Users\\\\a_sue\\\\.conda\\\\envs\\\\MySQL\\\\lib\\\\random.py'"
     },
     "metadata": {},
     "execution_count": 12
    }
   ],
   "source": [
    "os.path.join(dir_path_name, file_name)"
   ]
  },
  {
   "cell_type": "code",
   "execution_count": 13,
   "metadata": {},
   "outputs": [
    {
     "output_type": "execute_result",
     "data": {
      "text/plain": "27557"
     },
     "metadata": {},
     "execution_count": 13
    }
   ],
   "source": [
    "os.path.getsize(path_to_random)"
   ]
  },
  {
   "cell_type": "markdown",
   "metadata": {},
   "source": [
    "### ファイルやディレクトリの操作"
   ]
  },
  {
   "cell_type": "code",
   "execution_count": 15,
   "metadata": {},
   "outputs": [
    {
     "output_type": "stream",
     "name": "stdout",
     "text": "os.getcwd():  c:\\Users\\a_sue\\OneDrive\\workspace\\SkillUpText\n"
    }
   ],
   "source": [
    "initial_dir = os.getcwd()\n",
    "print('os.getcwd(): ', initial_dir)"
   ]
  },
  {
   "cell_type": "code",
   "execution_count": 16,
   "metadata": {},
   "outputs": [],
   "source": [
    "my_dir = \"os_practice\"\n",
    "os.mkdir(my_dir)"
   ]
  },
  {
   "cell_type": "code",
   "execution_count": 17,
   "metadata": {},
   "outputs": [],
   "source": [
    "os.chdir(my_dir)"
   ]
  },
  {
   "cell_type": "code",
   "execution_count": 18,
   "metadata": {},
   "outputs": [
    {
     "output_type": "stream",
     "name": "stdout",
     "text": "os.getcwd():  c:\\Users\\a_sue\\OneDrive\\workspace\\SkillUpText\\os_practice\n"
    }
   ],
   "source": [
    "print('os.getcwd(): ', os.getcwd())"
   ]
  },
  {
   "cell_type": "code",
   "execution_count": 19,
   "metadata": {},
   "outputs": [],
   "source": [
    "file_name = \"os_test.txt\"\n",
    "with open(file_name, \"w\") as f:\n",
    "    f.write(\"Live in the present.\")"
   ]
  },
  {
   "cell_type": "code",
   "execution_count": 20,
   "metadata": {},
   "outputs": [
    {
     "output_type": "stream",
     "name": "stdout",
     "text": "listdir():  ['os_test.txt']\n"
    }
   ],
   "source": [
    "print(\"listdir(): \", os.listdir())"
   ]
  },
  {
   "cell_type": "code",
   "execution_count": 21,
   "metadata": {},
   "outputs": [
    {
     "output_type": "stream",
     "name": "stdout",
     "text": "listdir():  ['.ipynb_checkpoints', '.vscode', 'Chapter_2.ipynb', 'Chapter_4.ipynb', 'Chapter_5.ipynb', 'Chapter_6.ipynb', 'Chapter_7.ipynb', 'Chapter_8.ipynb', 'my_math.py', 'my_math2.py', 'my_module.py', 'my_module1.py', 'my_module2.py', 'my_package', 'os_practice', 'out_text.txt', 'some.txt', 'test.txt', '__pycache__']\n"
    }
   ],
   "source": [
    "print(\"listdir(): \", os.listdir(\"..\"))"
   ]
  },
  {
   "cell_type": "code",
   "execution_count": 22,
   "metadata": {},
   "outputs": [],
   "source": [
    "new_file_name = \"new_os_test.txt\"\n",
    "os.rename(file_name, new_file_name)"
   ]
  },
  {
   "cell_type": "code",
   "execution_count": 23,
   "metadata": {},
   "outputs": [
    {
     "output_type": "stream",
     "name": "stdout",
     "text": "listdir():  ['new_os_test.txt']\n"
    }
   ],
   "source": [
    "print(\"listdir(): \", os.listdir())"
   ]
  },
  {
   "cell_type": "code",
   "execution_count": 24,
   "metadata": {},
   "outputs": [],
   "source": [
    "os.remove(new_file_name)"
   ]
  },
  {
   "cell_type": "code",
   "execution_count": 25,
   "metadata": {},
   "outputs": [
    {
     "output_type": "stream",
     "name": "stdout",
     "text": "listdir():  []\n"
    }
   ],
   "source": [
    "print(\"listdir(): \", os.listdir())"
   ]
  },
  {
   "cell_type": "code",
   "execution_count": 26,
   "metadata": {},
   "outputs": [],
   "source": [
    "os.chdir(initial_dir)"
   ]
  },
  {
   "cell_type": "code",
   "execution_count": 27,
   "metadata": {},
   "outputs": [
    {
     "output_type": "stream",
     "name": "stdout",
     "text": "os.getcwd():  c:\\Users\\a_sue\\OneDrive\\workspace\\SkillUpText\n"
    }
   ],
   "source": [
    "print('os.getcwd(): ', os.getcwd())"
   ]
  },
  {
   "cell_type": "code",
   "execution_count": 28,
   "metadata": {},
   "outputs": [
    {
     "output_type": "execute_result",
     "data": {
      "text/plain": "'os_practice'"
     },
     "metadata": {},
     "execution_count": 28
    }
   ],
   "source": [
    "my_dir"
   ]
  },
  {
   "cell_type": "code",
   "execution_count": 29,
   "metadata": {},
   "outputs": [],
   "source": [
    "os.rmdir(my_dir)"
   ]
  },
  {
   "cell_type": "code",
   "execution_count": 30,
   "metadata": {},
   "outputs": [
    {
     "output_type": "execute_result",
     "data": {
      "text/plain": "False"
     },
     "metadata": {},
     "execution_count": 30
    }
   ],
   "source": [
    "os.path.exists(my_dir)"
   ]
  },
  {
   "cell_type": "markdown",
   "metadata": {},
   "source": [
    "### プロセス管理"
   ]
  },
  {
   "cell_type": "code",
   "execution_count": 31,
   "metadata": {},
   "outputs": [
    {
     "output_type": "stream",
     "name": "stdout",
     "text": "os.getcwd():  c:\\Users\\a_sue\\OneDrive\\workspace\\SkillUpText\n"
    }
   ],
   "source": [
    "os.system('mkdir today')\n",
    "print('os.getcwd(): ', os.getcwd())"
   ]
  },
  {
   "cell_type": "code",
   "execution_count": 33,
   "metadata": {},
   "outputs": [
    {
     "output_type": "stream",
     "name": "stdout",
     "text": "ディレクトリ today があります。これを消去します。\nディレクトリ today を消去しました。\n"
    }
   ],
   "source": [
    "if os.path.exists(\"today\"):\n",
    "    print(\"ディレクトリ today があります。これを消去します。\")\n",
    "    os.rmdir(\"today\")\n",
    "    print(\"ディレクトリ today を消去しました。\")"
   ]
  },
  {
   "cell_type": "markdown",
   "metadata": {},
   "source": [
    "### プロセスに関する情報を取得、操作する"
   ]
  },
  {
   "cell_type": "code",
   "execution_count": 34,
   "metadata": {},
   "outputs": [
    {
     "output_type": "stream",
     "name": "stdout",
     "text": "environ({'ALLUSERSPROFILE': 'C:\\\\ProgramData', 'AMD_ENTRYPOINT': 'vs/workbench/services/extensions/node/extensionHostProcess', 'APPDATA': 'C:\\\\Users\\\\a_sue\\\\AppData\\\\Roaming', 'APPLICATION_INSIGHTS_NO_DIAGNOSTIC_CHANNEL': 'true', 'COMMONPROGRAMFILES': 'C:\\\\Program Files\\\\Common Files', 'COMMONPROGRAMFILES(X86)': 'C:\\\\Program Files (x86)\\\\Common Files', 'COMMONPROGRAMW6432': 'C:\\\\Program Files\\\\Common Files', 'COMPUTERNAME': 'TPE470', 'COMSPEC': 'C:\\\\WINDOWS\\\\system32\\\\cmd.exe', 'CONDA_DEFAULT_ENV': 'base', 'CONDA_EXE': 'C:\\\\Program Files\\\\Anaconda3\\\\Scripts\\\\conda.exe', 'CONDA_PREFIX': 'C:\\\\Program Files\\\\Anaconda3', 'CONDA_PROMPT_MODIFIER': '(base) ', 'CONDA_PYTHON_EXE': 'C:\\\\Program Files\\\\Anaconda3\\\\python.exe', 'CONDA_SHLVL': '1', 'CONFIGSETROOT': 'C:\\\\WINDOWS\\\\ConfigSetRoot', 'CUDA_PATH': 'C:\\\\Program Files\\\\NVIDIA GPU Computing Toolkit\\\\CUDA\\\\v7.5', 'CUDA_PATH_V7_5': 'C:\\\\Program Files\\\\NVIDIA GPU Computing Toolkit\\\\CUDA\\\\v7.5', 'CUDA_PATH_V8_0': 'C:\\\\Program Files\\\\NVIDIA GPU Computing Toolkit\\\\CUDA\\\\v8.0', 'DOCKER_TOOLBOX_INSTALL_PATH': 'C:\\\\Program Files\\\\Docker Toolbox', 'DRIVERDATA': 'C:\\\\Windows\\\\System32\\\\Drivers\\\\DriverData', 'ELECTRON_RUN_AS_NODE': '1', 'ESET_OPTIONS': '                                                                                                                                                                                                                                                                                                                                                                                                                                                                                                                               ', 'ES_HOME': 'C:\\\\Program Files\\\\Elastic\\\\Elasticsearch\\\\6.5.0\\\\', 'ES_PATH_CONF': 'C:\\\\ProgramData\\\\Elastic\\\\Elasticsearch\\\\config', 'FPS_BROWSER_APP_PROFILE_STRING': 'Internet Explorer', 'FPS_BROWSER_USER_PROFILE_STRING': 'Default', 'FSHARPINSTALLDIR': 'C:\\\\Program Files (x86)\\\\Microsoft SDKs\\\\F#\\\\4.1\\\\Framework\\\\v4.0\\\\', 'GOROOT': 'C:\\\\Go\\\\', 'HOME': 'C:\\\\Users\\\\a_sue', 'HOMEDRIVE': 'C:', 'HOMEPATH': '\\\\Users\\\\a_sue', 'JAVA_HOME': 'C:\\\\Program Files\\\\Java\\\\jre1.8.0_191', 'LOCALAPPDATA': 'C:\\\\Users\\\\a_sue\\\\AppData\\\\Local', 'LOGONSERVER': '\\\\\\\\TPE470', 'MOZ_PLUGIN_PATH': 'C:\\\\Program Files (x86)\\\\Nuance\\\\Power PDF 21\\\\Bin', 'MSMPI_BIN': 'C:\\\\Program Files\\\\Microsoft MPI\\\\Bin\\\\', 'NUMBER_OF_PROCESSORS': '4', 'NVCUDASAMPLES7_5_ROOT': 'C:\\\\ProgramData\\\\NVIDIA Corporation\\\\CUDA Samples\\\\v7.5', 'NVCUDASAMPLES8_0_ROOT': 'C:\\\\ProgramData\\\\NVIDIA Corporation\\\\CUDA Samples\\\\v8.0', 'NVCUDASAMPLES_ROOT': 'C:\\\\ProgramData\\\\NVIDIA Corporation\\\\CUDA Samples\\\\v7.5', 'NVTOOLSEXT_PATH': 'C:\\\\Program Files\\\\NVIDIA Corporation\\\\NvToolsExt\\\\', 'ONEDRIVE': 'C:\\\\Users\\\\a_sue\\\\OneDrive', 'ONEDRIVECONSUMER': 'C:\\\\Users\\\\a_sue\\\\OneDrive', 'OS': 'Windows_NT', 'PATH': 'C:\\\\Users\\\\a_sue\\\\.conda\\\\envs\\\\MySQL\\\\lib\\\\site-packages\\\\pywin32_system32;C:\\\\Program Files\\\\Anaconda3;C:\\\\Program Files\\\\Anaconda3\\\\Library\\\\mingw-w64\\\\bin;C:\\\\Program Files\\\\Anaconda3\\\\Library\\\\usr\\\\bin;C:\\\\Program Files\\\\Anaconda3\\\\Library\\\\bin;C:\\\\Program Files\\\\Anaconda3\\\\Scripts;C:\\\\Program Files\\\\Anaconda3\\\\bin;C:\\\\Program Files\\\\Anaconda3\\\\condabin;C:\\\\Program Files\\\\Anaconda3\\\\condabin\\\\;C:\\\\Program Files (x86)\\\\Common Files\\\\Oracle\\\\Java\\\\javapath;C:\\\\Program Files\\\\NVIDIA GPU Computing Toolkit\\\\CUDA\\\\v7.5\\\\bin;C:\\\\Program Files\\\\NVIDIA GPU Computing Toolkit\\\\CUDA\\\\v7.5\\\\libnvvp;C:\\\\Program Files\\\\NVIDIA GPU Computing Toolkit\\\\CUDA\\\\v8.0\\\\bin;C:\\\\Program Files\\\\NVIDIA GPU Computing Toolkit\\\\CUDA\\\\v8.0\\\\libnvvp;C:\\\\Program Files\\\\Microsoft MPI\\\\Bin\\\\;C:\\\\Windows\\\\system32;C:\\\\Windows;C:\\\\Windows\\\\System32\\\\Wbem;C:\\\\Windows\\\\System32\\\\WindowsPowerShell\\\\v1.0\\\\;C:\\\\Program Files (x86)\\\\NVIDIA Corporation\\\\PhysX\\\\Common;C:\\\\Program Files (x86)\\\\Common Files\\\\Sony Shared\\\\FeliCaLibrary;C:\\\\Program Files\\\\Common Files\\\\Sony Shared\\\\FeliCaLibrary;C:\\\\Program Files (x86)\\\\Common Files\\\\Sony Shared\\\\FeliCaNFCLibrary;C:\\\\Program Files\\\\Common Files\\\\Sony Shared\\\\FeliCaNFCLibrary;C:\\\\Program Files\\\\Microsoft SQL Server\\\\130\\\\Tools\\\\Binn\\\\;C:\\\\Program Files\\\\dotnet\\\\;C:\\\\Program Files\\\\Anaconda3;C:\\\\Program Files\\\\Anaconda3\\\\Scripts;C:\\\\Program Files\\\\Anaconda3\\\\Library\\\\bin;C:\\\\Program Files\\\\Anaconda2;C:\\\\Program Files\\\\Anaconda2\\\\Scripts;C:\\\\Program Files\\\\Anaconda2\\\\Library\\\\bin;C:\\\\Program Files (x86)\\\\Common Files\\\\Acronis\\\\VirtualFile\\\\;C:\\\\Program Files (x86)\\\\Common Files\\\\Acronis\\\\VirtualFile64\\\\;C:\\\\Program Files (x86)\\\\Common Files\\\\Acronis\\\\SnapAPI\\\\;C:\\\\Program Files\\\\juman;C:\\\\Program Files\\\\knp;C:\\\\WINDOWS\\\\system32;C:\\\\WINDOWS;C:\\\\WINDOWS\\\\System32\\\\Wbem;C:\\\\WINDOWS\\\\System32\\\\WindowsPowerShell\\\\v1.0\\\\;C:\\\\Program Files\\\\WinMerge;C:\\\\Go\\\\bin;C:\\\\WINDOWS\\\\System32\\\\OpenSSH\\\\;C:\\\\Program Files\\\\Git\\\\cmd;C:\\\\Program Files\\\\Java\\\\jre1.8.0_191\\\\bin;C:\\\\Program Files\\\\TortoiseSVN\\\\bin;C:\\\\Program Files\\\\TortoiseGit\\\\bin;C:\\\\Program Files\\\\Microsoft SQL Server\\\\Client SDK\\\\ODBC\\\\170\\\\Tools\\\\Binn\\\\;C:\\\\Program Files\\\\NVIDIA Corporation\\\\NVIDIA NvDLISR;C:\\\\Program Files\\\\PowerShell\\\\6\\\\;C:\\\\WINDOWS\\\\system32;C:\\\\WINDOWS;C:\\\\WINDOWS\\\\System32\\\\Wbem;C:\\\\WINDOWS\\\\System32\\\\WindowsPowerShell\\\\v1.0\\\\;C:\\\\WINDOWS\\\\System32\\\\OpenSSH\\\\;c:\\\\Program Files (x86)\\\\Intel\\\\Intel(R) Management Engine Components\\\\DAL;c:\\\\Program Files\\\\Intel\\\\Intel(R) Management Engine Components\\\\DAL;C:\\\\Users\\\\a_sue\\\\.conda\\\\envs\\\\MySQL\\\\Scripts;C:\\\\Program Files\\\\MySQL\\\\MySQL Shell 8.0\\\\bin\\\\;C:\\\\Users\\\\a_sue\\\\AppData\\\\Local\\\\Programs\\\\Microsoft VS Code\\\\bin;C:\\\\Users\\\\a_sue\\\\AppData\\\\Local\\\\Microsoft\\\\WindowsApps;', 'PATHEXT': '.COM;.EXE;.BAT;.CMD;.VBS;.VBE;.JS;.JSE;.WSF;.WSH;.MSC', 'PIPE_LOGGING': 'true', 'PROCESSOR_ARCHITECTURE': 'AMD64', 'PROCESSOR_IDENTIFIER': 'Intel64 Family 6 Model 142 Stepping 9, GenuineIntel', 'PROCESSOR_LEVEL': '6', 'PROCESSOR_REVISION': '8e09', 'PROGRAMDATA': 'C:\\\\ProgramData', 'PROGRAMFILES': 'C:\\\\Program Files', 'PROGRAMFILES(X86)': 'C:\\\\Program Files (x86)', 'PROGRAMW6432': 'C:\\\\Program Files', 'PROMPT': '(base) $P$G', 'PSMODULEPATH': 'C:\\\\Program Files\\\\WindowsPowerShell\\\\Modules;C:\\\\WINDOWS\\\\system32\\\\WindowsPowerShell\\\\v1.0\\\\Modules', 'PUBLIC': 'C:\\\\Users\\\\Public', 'PYTHONIOENCODING': '932', 'PYTHONPATH': 'c:\\\\Users\\\\a_sue\\\\.vscode\\\\extensions\\\\ms-python.python-2020.5.80290\\\\pythonFiles;c:\\\\Users\\\\a_sue\\\\.vscode\\\\extensions\\\\ms-python.python-2020.5.80290\\\\pythonFiles\\\\lib\\\\python', 'PYTHONUNBUFFERED': '1', 'PYTHONWARNINGS': 'ignore', 'SESSIONNAME': 'Console', 'SYSTEMDRIVE': 'C:', 'SYSTEMROOT': 'C:\\\\WINDOWS', 'TEMP': 'C:\\\\Users\\\\a_sue\\\\AppData\\\\Local\\\\Temp', 'TMP': 'C:\\\\Users\\\\a_sue\\\\AppData\\\\Local\\\\Temp', 'USERDOMAIN': 'TPE470', 'USERDOMAIN_ROAMINGPROFILE': 'TPE470', 'USERNAME': 'a_sue', 'USERPROFILE': 'C:\\\\Users\\\\a_sue', 'VBOX_MSI_INSTALL_PATH': 'C:\\\\Program Files\\\\Oracle\\\\VirtualBox\\\\', 'VERBOSE_LOGGING': 'true', 'VS140COMNTOOLS': 'C:\\\\Program Files (x86)\\\\Microsoft Visual Studio\\\\Shared\\\\14.0\\\\Common7\\\\Tools\\\\', 'VS150COMCOMNTOOLS': 'C:\\\\Program Files (x86)\\\\Microsoft Visual Studio\\\\2019\\\\Community\\\\Common7\\\\Tools\\\\', 'VSCODE_CWD': 'C:\\\\Users\\\\a_sue\\\\AppData\\\\Local\\\\Programs\\\\Microsoft VS Code', 'VSCODE_HANDLES_UNCAUGHT_ERRORS': 'true', 'VSCODE_IPC_HOOK': '\\\\\\\\.\\\\pipe\\\\95aecbbff3cf210e4bade6882bf1e826-1.45.1-main-sock', 'VSCODE_IPC_HOOK_EXTHOST': '\\\\\\\\.\\\\pipe\\\\vscode-ipc-e6917288-8477-47d0-910b-50bd6df83bef-sock', 'VSCODE_LOGS': 'C:\\\\Users\\\\a_sue\\\\AppData\\\\Roaming\\\\Code\\\\logs\\\\20200527T191637', 'VSCODE_LOG_STACK': 'false', 'VSCODE_NLS_CONFIG': '{\"locale\":\"ja\",\"availableLanguages\":{\"*\":\"ja\"},\"_languagePackId\":\"193347e7dea200b55efc93e273acfb6c.ja\",\"_translationsConfigFile\":\"C:\\\\\\\\Users\\\\\\\\a_sue\\\\\\\\AppData\\\\\\\\Roaming\\\\\\\\Code\\\\\\\\clp\\\\\\\\193347e7dea200b55efc93e273acfb6c.ja\\\\\\\\tcf.json\",\"_cacheRoot\":\"C:\\\\\\\\Users\\\\\\\\a_sue\\\\\\\\AppData\\\\\\\\Roaming\\\\\\\\Code\\\\\\\\clp\\\\\\\\193347e7dea200b55efc93e273acfb6c.ja\",\"_resolvedLanguagePackCoreLocation\":\"C:\\\\\\\\Users\\\\\\\\a_sue\\\\\\\\AppData\\\\\\\\Roaming\\\\\\\\Code\\\\\\\\clp\\\\\\\\193347e7dea200b55efc93e273acfb6c.ja\\\\\\\\5763d909d5f12fe19f215cbfdd29a91c0fa9208a\",\"_corruptedFile\":\"C:\\\\\\\\Users\\\\\\\\a_sue\\\\\\\\AppData\\\\\\\\Roaming\\\\\\\\Code\\\\\\\\clp\\\\\\\\193347e7dea200b55efc93e273acfb6c.ja\\\\\\\\corrupted.info\",\"_languagePackSupport\":true}', 'VSCODE_NODE_CACHED_DATA_DIR': 'C:\\\\Users\\\\a_sue\\\\AppData\\\\Roaming\\\\Code\\\\CachedData\\\\5763d909d5f12fe19f215cbfdd29a91c0fa9208a', 'VSCODE_PID': '26532', 'WINDIR': 'C:\\\\WINDOWS', 'JPY_INTERRUPT_EVENT': '5080', 'IPY_INTERRUPT_EVENT': '5080', 'JPY_PARENT_PID': '5060', 'TERM': 'xterm-color', 'CLICOLOR': '1', 'PAGER': 'cat', 'GIT_PAGER': 'cat', 'MPLBACKEND': 'module://ipykernel.pylab.backend_inline'})\n"
    }
   ],
   "source": [
    "print(os.environ)"
   ]
  },
  {
   "cell_type": "code",
   "execution_count": 38,
   "metadata": {},
   "outputs": [
    {
     "output_type": "execute_result",
     "data": {
      "text/plain": "'C:\\\\Users\\\\a_sue'"
     },
     "metadata": {},
     "execution_count": 38
    }
   ],
   "source": [
    "os.environ['HOME']"
   ]
  },
  {
   "cell_type": "code",
   "execution_count": 39,
   "metadata": {},
   "outputs": [
    {
     "output_type": "execute_result",
     "data": {
      "text/plain": "'C:\\\\Users\\\\a_sue'"
     },
     "metadata": {},
     "execution_count": 39
    }
   ],
   "source": [
    "os.getenv('HOME')"
   ]
  },
  {
   "cell_type": "markdown",
   "metadata": {},
   "source": [
    "### 問題.1\n",
    "カレントディレクトリに save_dir というディレクトリが存在するかを調べ、存在するときは存在することを表示し、存在しなければ作成して、作成したことを表示する関数を作成して下さい。\n",
    "関数の名前は prepare_dir() としてください。"
   ]
  },
  {
   "cell_type": "code",
   "execution_count": 47,
   "metadata": {},
   "outputs": [
    {
     "output_type": "stream",
     "name": "stdout",
     "text": "ディレクトリ save_dir は存在します。\n"
    }
   ],
   "source": [
    "dir_name = 'save_dir'\n",
    "def prepare_dir():\n",
    "    if os.path.exists(dir_name):\n",
    "        print('ディレクトリ {} は存在します。'.format(dir_name))\n",
    "    else:\n",
    "        os.mkdir(dir_name)\n",
    "        print('ディレクトリ {} を作成しました。'.format(dir_name))\n",
    "\n",
    "prepare_dir()"
   ]
  },
  {
   "cell_type": "code",
   "execution_count": 45,
   "metadata": {},
   "outputs": [],
   "source": [
    "os.rmdir(dir_name)"
   ]
  },
  {
   "cell_type": "code",
   "execution_count": 55,
   "metadata": {},
   "outputs": [],
   "source": [
    "def prepare_dir(dir_name = 'save_dir'):\n",
    "    if os.path.exists(dir_name):\n",
    "        print('ディレクトリ {} は存在します。'.format(dir_name))\n",
    "    else:\n",
    "        os.mkdir(dir_name)\n",
    "        print('ディレクトリ {} を作成しました。'.format(dir_name))\n"
   ]
  },
  {
   "cell_type": "code",
   "execution_count": 52,
   "metadata": {},
   "outputs": [],
   "source": [
    "os.rmdir(dir_name)"
   ]
  },
  {
   "cell_type": "code",
   "execution_count": 53,
   "metadata": {},
   "outputs": [
    {
     "output_type": "stream",
     "name": "stdout",
     "text": "ディレクトリ save_dir を作成しました。\n"
    }
   ],
   "source": [
    "prepare_dir()"
   ]
  },
  {
   "cell_type": "code",
   "execution_count": 54,
   "metadata": {},
   "outputs": [
    {
     "output_type": "stream",
     "name": "stdout",
     "text": "ディレクトリ save_dir は存在します。\n"
    }
   ],
   "source": [
    "prepare_dir()"
   ]
  },
  {
   "cell_type": "markdown",
   "metadata": {},
   "source": [
    "### 問題.2\n",
    "問題.1 で作成したディレクトリ save_dir の存在を確認して、存在していればそのことを報告し、ディレクトリを消去して消去したことを報告し、存在しなければ存在しないことを報告する関数を作成して下さい。\n",
    "関数名は delete_dir() として下さい。"
   ]
  },
  {
   "cell_type": "code",
   "execution_count": 56,
   "metadata": {},
   "outputs": [],
   "source": [
    "import os\n",
    "def delete_dir(dir_name = 'save_dir'):\n",
    "    if os.path.exists(dir_name):\n",
    "        print('ディレクトリ {} は存在します。'.format(dir_name))\n",
    "        os.rmdir(dir_name)\n",
    "        print('ディレクトリ {} を消去しました。'.format(dir_name))\n",
    "    else:\n",
    "        print('ディレクトリ {} は存在しません。'.format(dir_name))\n",
    "\n"
   ]
  },
  {
   "cell_type": "code",
   "execution_count": 57,
   "metadata": {},
   "outputs": [
    {
     "output_type": "stream",
     "name": "stdout",
     "text": "ディレクトリ save_dir は存在します。\nディレクトリ save_dir を消去しました。\n"
    }
   ],
   "source": [
    "delete_dir()"
   ]
  },
  {
   "cell_type": "code",
   "execution_count": 59,
   "metadata": {},
   "outputs": [
    {
     "output_type": "stream",
     "name": "stdout",
     "text": "ディレクトリ save_dir は存在しません。\n"
    }
   ],
   "source": [
    "delete_dir()"
   ]
  },
  {
   "cell_type": "code",
   "execution_count": 60,
   "metadata": {},
   "outputs": [
    {
     "output_type": "stream",
     "name": "stdout",
     "text": "ディレクトリ save_dir を作成しました。\n"
    }
   ],
   "source": [
    "prepare_dir()"
   ]
  },
  {
   "cell_type": "code",
   "execution_count": 61,
   "metadata": {},
   "outputs": [
    {
     "output_type": "stream",
     "name": "stdout",
     "text": "ディレクトリ save_dir は存在します。\n"
    }
   ],
   "source": [
    "prepare_dir()"
   ]
  },
  {
   "cell_type": "markdown",
   "metadata": {},
   "source": [
    "## 8.2 pathlib"
   ]
  },
  {
   "cell_type": "markdown",
   "metadata": {},
   "source": [
    "### Path オブジェクト"
   ]
  },
  {
   "cell_type": "code",
   "execution_count": 1,
   "metadata": {},
   "outputs": [],
   "source": [
    "import pathlib\n",
    "p = pathlib.Path('.')"
   ]
  },
  {
   "cell_type": "code",
   "execution_count": 4,
   "metadata": {},
   "outputs": [],
   "source": [
    "file = pathlib.Path('sample.txt')"
   ]
  },
  {
   "cell_type": "code",
   "execution_count": 5,
   "metadata": {},
   "outputs": [
    {
     "output_type": "execute_result",
     "data": {
      "text/plain": "WindowsPath('sample.txt')"
     },
     "metadata": {},
     "execution_count": 5
    }
   ],
   "source": [
    "file"
   ]
  },
  {
   "cell_type": "code",
   "execution_count": 7,
   "metadata": {},
   "outputs": [
    {
     "output_type": "execute_result",
     "data": {
      "text/plain": "WindowsPath('C:/Users/a_sue/OneDrive/workspace/SkillUpText')"
     },
     "metadata": {},
     "execution_count": 7
    }
   ],
   "source": [
    "p.resolve()"
   ]
  },
  {
   "cell_type": "code",
   "execution_count": 9,
   "metadata": {},
   "outputs": [
    {
     "output_type": "execute_result",
     "data": {
      "text/plain": "'sample.txt'"
     },
     "metadata": {},
     "execution_count": 9
    }
   ],
   "source": [
    "import pathlib\n",
    "p = pathlib.Path('sample.txt')\n",
    "str(p)"
   ]
  },
  {
   "cell_type": "code",
   "execution_count": 10,
   "metadata": {},
   "outputs": [
    {
     "output_type": "stream",
     "name": "stdout",
     "text": ".ipynb_checkpoints\n.vscode\nChapter_2.ipynb\nChapter_4.ipynb\nChapter_5.ipynb\nChapter_6.ipynb\nChapter_7.ipynb\nChapter_8.ipynb\nmy_math.py\nmy_math2.py\nmy_module.py\nmy_module1.py\nmy_module2.py\nmy_package\nout_text.txt\nsave_dir\nsome.txt\ntest.txt\n__pycache__\n"
    }
   ],
   "source": [
    "import pathlib\n",
    "p = pathlib.Path('.')\n",
    "for fd in p.iterdir():\n",
    "    print(fd)"
   ]
  },
  {
   "cell_type": "code",
   "execution_count": 11,
   "metadata": {},
   "outputs": [
    {
     "output_type": "stream",
     "name": "stdout",
     "text": "[WindowsPath('my_math.py'), WindowsPath('my_math2.py'), WindowsPath('my_module.py'), WindowsPath('my_module1.py'), WindowsPath('my_module2.py')]\n"
    }
   ],
   "source": [
    "import pathlib\n",
    "p = pathlib.Path('.')\n",
    "print(list(p.glob('*.py')))"
   ]
  },
  {
   "cell_type": "code",
   "execution_count": 12,
   "metadata": {},
   "outputs": [
    {
     "output_type": "stream",
     "name": "stdout",
     "text": "False\n"
    }
   ],
   "source": [
    "import pathlib\n",
    "file = pathlib.Path('aaa/bbb.txt')\n",
    "print(file.exists())"
   ]
  },
  {
   "cell_type": "code",
   "execution_count": 15,
   "metadata": {},
   "outputs": [
    {
     "output_type": "stream",
     "name": "stdout",
     "text": "False\n"
    }
   ],
   "source": [
    "import pathlib\n",
    "p = pathlib.Path('aaa/bbb.txt')\n",
    "print(p.is_file())"
   ]
  },
  {
   "cell_type": "code",
   "execution_count": 16,
   "metadata": {},
   "outputs": [
    {
     "output_type": "stream",
     "name": "stdout",
     "text": "False\n"
    }
   ],
   "source": [
    "import pathlib\n",
    "p = pathlib.Path('aaa/bbb.txt')\n",
    "print(p.is_dir())"
   ]
  },
  {
   "cell_type": "code",
   "execution_count": 17,
   "metadata": {},
   "outputs": [
    {
     "output_type": "stream",
     "name": "stdout",
     "text": "\\aaa\\bbb.txt\n"
    }
   ],
   "source": [
    "import pathlib\n",
    "root = pathlib.Path('/')\n",
    "pp = root / 'aaa' / 'bbb.txt'\n",
    "print(pp)"
   ]
  },
  {
   "cell_type": "code",
   "execution_count": 19,
   "metadata": {},
   "outputs": [
    {
     "output_type": "stream",
     "name": "stdout",
     "text": "\\aaa\\bbb.txt\n"
    }
   ],
   "source": [
    "import pathlib\n",
    "p = pathlib.Path('/')\n",
    "pp2 = p.joinpath('aaa', 'bbb.txt')\n",
    "print(pp2)"
   ]
  },
  {
   "cell_type": "code",
   "execution_count": 20,
   "metadata": {},
   "outputs": [
    {
     "output_type": "stream",
     "name": "stdout",
     "text": "c:\\Users\\a_sue\\OneDrive\\workspace\\SkillUpText\\..\n"
    }
   ],
   "source": [
    "import pathlib\n",
    "p = pathlib.Path('.')\n",
    "pp2 = p.joinpath('..')\n",
    "print(pp2.absolute())"
   ]
  },
  {
   "cell_type": "code",
   "execution_count": 21,
   "metadata": {},
   "outputs": [
    {
     "output_type": "stream",
     "name": "stdout",
     "text": "C:\\Users\\a_sue\\OneDrive\\workspace\n"
    }
   ],
   "source": [
    "print(pp2.resolve())"
   ]
  },
  {
   "cell_type": "markdown",
   "metadata": {},
   "source": [
    "### 問題.1\n",
    "次のプログラムを実行すると、どのような結果が得られるでしょうか？"
   ]
  },
  {
   "cell_type": "code",
   "execution_count": 24,
   "metadata": {},
   "outputs": [
    {
     "output_type": "stream",
     "name": "stdout",
     "text": "Chapter_2.ipynb\nChapter_4.ipynb\nChapter_5.ipynb\nChapter_6.ipynb\nChapter_7.ipynb\nChapter_8.ipynb\nmy_math.py\nmy_math2.py\nmy_module.py\nmy_module1.py\nmy_module2.py\nout_text.txt\nsome.txt\ntest.txt\n"
    }
   ],
   "source": [
    "import pathlib\n",
    "p = pathlib.Path('.')\n",
    "for pf in p.iterdir():\n",
    "    if pf.is_file():\n",
    "        print(str(pf))"
   ]
  },
  {
   "cell_type": "markdown",
   "metadata": {},
   "source": [
    "### 問題.2\n",
    "カレントディレクトリにアル、名前が「a」で始まるディレクトリの一覧を表示するプログラムを書いてください。"
   ]
  },
  {
   "cell_type": "code",
   "execution_count": 2,
   "metadata": {},
   "outputs": [
    {
     "output_type": "stream",
     "name": "stdout",
     "text": "my_package\n"
    }
   ],
   "source": [
    "import pathlib\n",
    "p = pathlib.Path('.')\n",
    "for fp in list(p.glob('m*')):\n",
    "    if fp.is_dir():\n",
    "        print(fp)"
   ]
  },
  {
   "cell_type": "code",
   "execution_count": 3,
   "metadata": {},
   "outputs": [
    {
     "output_type": "stream",
     "name": "stdout",
     "text": "my_package\n"
    }
   ],
   "source": [
    "import pathlib\n",
    "p = pathlib.Path('.')\n",
    "for fp in p.glob('m*'):\n",
    "    if fp.is_dir():\n",
    "        print(fp)"
   ]
  },
  {
   "cell_type": "markdown",
   "metadata": {},
   "source": [
    "## 8.3 collections"
   ]
  },
  {
   "cell_type": "markdown",
   "metadata": {},
   "source": [
    "### defaultdict"
   ]
  },
  {
   "cell_type": "code",
   "execution_count": 4,
   "metadata": {},
   "outputs": [
    {
     "output_type": "execute_result",
     "data": {
      "text/plain": "{'す': 1, 'も': 8, 'の': 1, 'う': 1, 'ち': 1}"
     },
     "metadata": {},
     "execution_count": 4
    }
   ],
   "source": [
    "data = 'すもももももももものうち'\n",
    "count_dic = {}\n",
    "for v in data:\n",
    "    if v in count_dic:\n",
    "        count_dic[v] += 1\n",
    "    else:\n",
    "        count_dic[v] = 1\n",
    "count_dic"
   ]
  },
  {
   "cell_type": "code",
   "execution_count": 5,
   "metadata": {},
   "outputs": [
    {
     "output_type": "execute_result",
     "data": {
      "text/plain": "defaultdict(int, {'す': 1, 'も': 8, 'の': 1, 'う': 1, 'ち': 1})"
     },
     "metadata": {},
     "execution_count": 5
    }
   ],
   "source": [
    "import collections\n",
    "count_dic = collections.defaultdict(int)\n",
    "for v in data:\n",
    "    count_dic[v] += 1\n",
    "count_dic"
   ]
  },
  {
   "cell_type": "code",
   "execution_count": 7,
   "metadata": {},
   "outputs": [
    {
     "output_type": "execute_result",
     "data": {
      "text/plain": "defaultdict(list,\n            {'す': ['す'],\n             'も': ['も', 'も', 'も', 'も', 'も', 'も', 'も', 'も'],\n             'の': ['の'],\n             'う': ['う'],\n             'ち': ['ち']})"
     },
     "metadata": {},
     "execution_count": 7
    }
   ],
   "source": [
    "import collections\n",
    "count_dic = collections.defaultdict(list)\n",
    "for v in data:\n",
    "    count_dic[v].append(v)\n",
    "count_dic"
   ]
  },
  {
   "cell_type": "code",
   "execution_count": 8,
   "metadata": {},
   "outputs": [
    {
     "output_type": "execute_result",
     "data": {
      "text/plain": "{'す': ['す'],\n 'も': ['も', 'も', 'も', 'も', 'も', 'も', 'も', 'も'],\n 'の': ['の'],\n 'う': ['う'],\n 'ち': ['ち']}"
     },
     "metadata": {},
     "execution_count": 8
    }
   ],
   "source": [
    "count_dic = {}\n",
    "for v in data:\n",
    "    count_dic.setdefault(v, []).append(v)\n",
    "count_dic"
   ]
  },
  {
   "cell_type": "markdown",
   "metadata": {},
   "source": [
    "### Counter"
   ]
  },
  {
   "cell_type": "code",
   "execution_count": 9,
   "metadata": {},
   "outputs": [
    {
     "output_type": "execute_result",
     "data": {
      "text/plain": "Counter({'す': 1, 'も': 8, 'の': 1, 'う': 1, 'ち': 1})"
     },
     "metadata": {},
     "execution_count": 9
    }
   ],
   "source": [
    "counter = collections.Counter(data)\n",
    "counter"
   ]
  },
  {
   "cell_type": "code",
   "execution_count": 10,
   "metadata": {},
   "outputs": [
    {
     "output_type": "execute_result",
     "data": {
      "text/plain": "1"
     },
     "metadata": {},
     "execution_count": 10
    }
   ],
   "source": [
    "counter['す']"
   ]
  },
  {
   "cell_type": "code",
   "execution_count": 11,
   "metadata": {},
   "outputs": [
    {
     "output_type": "execute_result",
     "data": {
      "text/plain": "0"
     },
     "metadata": {},
     "execution_count": 11
    }
   ],
   "source": [
    "counter['ぽ']"
   ]
  },
  {
   "cell_type": "code",
   "execution_count": 12,
   "metadata": {},
   "outputs": [
    {
     "output_type": "execute_result",
     "data": {
      "text/plain": "[('も', 8), ('す', 1), ('の', 1), ('う', 1), ('ち', 1)]"
     },
     "metadata": {},
     "execution_count": 12
    }
   ],
   "source": [
    "counter.most_common()"
   ]
  },
  {
   "cell_type": "code",
   "execution_count": 13,
   "metadata": {},
   "outputs": [
    {
     "output_type": "execute_result",
     "data": {
      "text/plain": "[('も', 8)]"
     },
     "metadata": {},
     "execution_count": 13
    }
   ],
   "source": [
    "counter.most_common(1)"
   ]
  },
  {
   "cell_type": "markdown",
   "metadata": {},
   "source": [
    "### namedtuple"
   ]
  },
  {
   "cell_type": "code",
   "execution_count": 14,
   "metadata": {},
   "outputs": [
    {
     "output_type": "stream",
     "name": "stdout",
     "text": "も 8\n"
    }
   ],
   "source": [
    "top = counter.most_common()[0]\n",
    "print(top[0], top[1])"
   ]
  },
  {
   "cell_type": "code",
   "execution_count": 15,
   "metadata": {},
   "outputs": [],
   "source": [
    "CharCount = collections.namedtuple('CharCount', ['char', 'count'])"
   ]
  },
  {
   "cell_type": "code",
   "execution_count": 16,
   "metadata": {},
   "outputs": [
    {
     "output_type": "execute_result",
     "data": {
      "text/plain": "CharCount(char='も', count=8)"
     },
     "metadata": {},
     "execution_count": 16
    }
   ],
   "source": [
    "mo = CharCount('も', 8)\n",
    "mo"
   ]
  },
  {
   "cell_type": "code",
   "execution_count": 17,
   "metadata": {},
   "outputs": [
    {
     "output_type": "stream",
     "name": "stdout",
     "text": "も 8\n"
    }
   ],
   "source": [
    "print(mo.char, mo.count)"
   ]
  },
  {
   "cell_type": "code",
   "execution_count": 18,
   "metadata": {},
   "outputs": [
    {
     "output_type": "error",
     "ename": "AttributeError",
     "evalue": "can't set attribute",
     "traceback": [
      "\u001b[1;31m---------------------------------------------------------------------------\u001b[0m",
      "\u001b[1;31mAttributeError\u001b[0m                            Traceback (most recent call last)",
      "\u001b[1;32m<ipython-input-18-af54518a07c5>\u001b[0m in \u001b[0;36m<module>\u001b[1;34m\u001b[0m\n\u001b[1;32m----> 1\u001b[1;33m \u001b[0mmo\u001b[0m\u001b[1;33m.\u001b[0m\u001b[0mcount\u001b[0m \u001b[1;33m+=\u001b[0m \u001b[1;36m3\u001b[0m\u001b[1;33m\u001b[0m\u001b[1;33m\u001b[0m\u001b[0m\n\u001b[0m",
      "\u001b[1;31mAttributeError\u001b[0m: can't set attribute"
     ]
    }
   ],
   "source": [
    "mo.count += 3"
   ]
  },
  {
   "cell_type": "code",
   "execution_count": 19,
   "metadata": {},
   "outputs": [
    {
     "output_type": "execute_result",
     "data": {
      "text/plain": "[CharCount(char='も', count=8),\n CharCount(char='す', count=1),\n CharCount(char='の', count=1),\n CharCount(char='う', count=1),\n CharCount(char='ち', count=1)]"
     },
     "metadata": {},
     "execution_count": 19
    }
   ],
   "source": [
    "cc_list = [CharCount(*v) for v in counter.most_common()]\n",
    "cc_list"
   ]
  },
  {
   "cell_type": "markdown",
   "metadata": {},
   "source": [
    "### 問題.1\n",
    "文字列を受け取って、使われている文字数を数え、1回しか出てこない文字を返すプログラムを作って下さい。\n",
    "入力する文字列は、この節の例文を使用しても構いません。"
   ]
  },
  {
   "cell_type": "code",
   "execution_count": 23,
   "metadata": {},
   "outputs": [
    {
     "output_type": "execute_result",
     "data": {
      "text/plain": "['す', 'の', 'う', 'ち']"
     },
     "metadata": {},
     "execution_count": 23
    }
   ],
   "source": [
    "import collections\n",
    "data = 'すもももももももものうち'\n",
    "count = collections.Counter(data)\n",
    "res_dict = collections.defaultdict(list)\n",
    "for ch, cnt in count.items():\n",
    "    res_dict[cnt].append(ch)\n",
    "res_dict[1]"
   ]
  },
  {
   "cell_type": "code",
   "execution_count": 24,
   "metadata": {},
   "outputs": [
    {
     "output_type": "execute_result",
     "data": {
      "text/plain": "['す', 'の', 'う', 'ち']"
     },
     "metadata": {},
     "execution_count": 24
    }
   ],
   "source": [
    "count = collections.Counter(data)\n",
    "[v[0] for v in count.items() if v[1] == 1]"
   ]
  },
  {
   "cell_type": "markdown",
   "metadata": {},
   "source": [
    "## 8.4 re"
   ]
  },
  {
   "cell_type": "code",
   "execution_count": 25,
   "metadata": {},
   "outputs": [],
   "source": [
    "super_express = ['Nozomi3', 'Nozomi64', 'Nozomi150', 'Hikari440', 'Hikari538', 'Kodama730']"
   ]
  },
  {
   "cell_type": "code",
   "execution_count": 27,
   "metadata": {},
   "outputs": [
    {
     "output_type": "execute_result",
     "data": {
      "text/plain": "[('Nozomi', 3),\n ('Nozomi', 64),\n ('Nozomi', 150),\n ('Hikari', 440),\n ('Hikari', 538),\n ('Kodama', 730)]"
     },
     "metadata": {},
     "execution_count": 27
    }
   ],
   "source": [
    "def splitter(value, sp):\n",
    "    res = value.split(sp)\n",
    "    if len(res) == 2:\n",
    "        return (sp, int(res[1]))\n",
    "    return None\n",
    "\n",
    "result = []\n",
    "for v in super_express:\n",
    "    for s in ['Nozomi', 'Hikari', 'Kodama']:\n",
    "        temp = splitter(v, s)\n",
    "        if temp is not None:\n",
    "            result.append(temp)\n",
    "\n",
    "result"
   ]
  },
  {
   "cell_type": "code",
   "execution_count": 29,
   "metadata": {},
   "outputs": [
    {
     "output_type": "execute_result",
     "data": {
      "text/plain": "[('Nozomi', 3),\n ('Nozomi', 64),\n ('Nozomi', 150),\n ('Hikari', 440),\n ('Hikari', 538),\n ('Kodama', 730)]"
     },
     "metadata": {},
     "execution_count": 29
    }
   ],
   "source": [
    "import re\n",
    "\n",
    "result = []\n",
    "for v in super_express:\n",
    "    g = re.search(r'([a-zA-Z]+)(\\d+)', v)\n",
    "    result.append((g.group(1), int(g.group(2))))\n",
    "\n",
    "result"
   ]
  },
  {
   "cell_type": "code",
   "execution_count": 30,
   "metadata": {},
   "outputs": [
    {
     "output_type": "stream",
     "name": "stdout",
     "text": "ozomi/3\nozomi/64\nozomi/150\nikari/440\nikari/538\nodama/730\n"
    }
   ],
   "source": [
    "for v in super_express:\n",
    "    g = re.search('([a-z]+)(\\d+)', v)\n",
    "    print(g.group(1), int(g.group(2)), sep =\"/\")"
   ]
  },
  {
   "cell_type": "code",
   "execution_count": 31,
   "metadata": {},
   "outputs": [
    {
     "output_type": "stream",
     "name": "stdout",
     "text": "Nozomi/3\nNozomi6/4\nNozomi15/0\nHikari44/0\nHikari53/8\nKodama73/0\n"
    }
   ],
   "source": [
    "for v in super_express:\n",
    "    g = re.search('(\\w+)(\\d+)', v)\n",
    "    print(g.group(1), int(g.group(2)), sep =\"/\")"
   ]
  },
  {
   "cell_type": "code",
   "execution_count": 32,
   "metadata": {},
   "outputs": [
    {
     "output_type": "stream",
     "name": "stdout",
     "text": "Nozomi/3\nNozomi/64\nNozomi/150\nHikari/440\nHikari/538\nKodama/730\n"
    }
   ],
   "source": [
    "for v in super_express:\n",
    "    g = re.search('(\\D+)(\\d+)', v)\n",
    "    print(g.group(1), int(g.group(2)), sep =\"/\")"
   ]
  },
  {
   "cell_type": "code",
   "execution_count": 33,
   "metadata": {},
   "outputs": [
    {
     "output_type": "stream",
     "name": "stdout",
     "text": "Nozomi/3\nNozomi/64\nNozomi/150\nHikari/440\nHikari/538\nKodama/730\n"
    }
   ],
   "source": [
    "for v in super_express:\n",
    "    g = re.search('([^0-9]+)(\\d+)', v)\n",
    "    print(g.group(1), int(g.group(2)), sep =\"/\")"
   ]
  },
  {
   "cell_type": "code",
   "execution_count": 34,
   "metadata": {},
   "outputs": [
    {
     "output_type": "stream",
     "name": "stdout",
     "text": "のぞみ/3\nのぞみ/64\nのぞみ/150\nひかり/440\nひかり/538\nこだま/730\n"
    }
   ],
   "source": [
    "super_express_jp = ['のぞみ3', 'のぞみ64', 'のぞみ150', 'ひかり440', 'ひかり538', 'こだま730']\n",
    "\n",
    "for v in super_express_jp:\n",
    "    g = re.search('([^0-9]+)(\\d+)', v)\n",
    "    print(g.group(1), int(g.group(2)), sep =\"/\")"
   ]
  },
  {
   "cell_type": "code",
   "execution_count": 36,
   "metadata": {},
   "outputs": [
    {
     "output_type": "stream",
     "name": "stdout",
     "text": "のぞみ\nのぞみ\nのぞみ\nひかり\nひかり\nこだま\n"
    }
   ],
   "source": [
    "for v in super_express_jp:\n",
    "    g = re.search('([^0-9]+)(\\d+)', v)\n",
    "    print(g.group(1))"
   ]
  },
  {
   "cell_type": "markdown",
   "metadata": {},
   "source": [
    "### 問題.1\n",
    "次の文章から、半角英字、ハイフン、数字が組み合わさった単語をすべて抜き出して下さい。\n",
    "\n",
    "\n",
    "かなり昔の RX-7 で東京駅まで送ってもらい、成田空港から Boeing787 で高松空港まで行き、帰りはN700系で岡山から戻りました。"
   ]
  },
  {
   "cell_type": "code",
   "execution_count": 52,
   "metadata": {},
   "outputs": [
    {
     "output_type": "stream",
     "name": "stdout",
     "text": "<re.Match object; span=(6, 10), match='RX-7'>\n"
    }
   ],
   "source": [
    "text = 'かなり昔の RX-7 で東京駅まで送ってもらい、成田空港から Boeing787 で高松空港まで行き、帰りはN700系で岡山から戻りました。'\n",
    "\n",
    "import re\n",
    "\n",
    "g = re.search('[-a-zA-Z0-9]+', text)\n",
    "print(g)"
   ]
  },
  {
   "cell_type": "code",
   "execution_count": 53,
   "metadata": {},
   "outputs": [
    {
     "output_type": "stream",
     "name": "stdout",
     "text": "RX-7\nBoeing787\nN700\n"
    }
   ],
   "source": [
    "text = 'かなり昔の RX-7 で東京駅まで送ってもらい、成田空港から Boeing787 で高松空港まで行き、帰りはN700系で岡山から戻りました。'\n",
    "\n",
    "import re\n",
    "\n",
    "g = re.findall('[-a-zA-Z0-9]+', text)\n",
    "for v in g:\n",
    "    print(v)"
   ]
  },
  {
   "cell_type": "markdown",
   "metadata": {},
   "source": [
    "## 8.5 math/statistics"
   ]
  },
  {
   "cell_type": "markdown",
   "metadata": {},
   "source": [
    "### 定数"
   ]
  },
  {
   "cell_type": "code",
   "execution_count": 55,
   "metadata": {},
   "outputs": [
    {
     "output_type": "execute_result",
     "data": {
      "text/plain": "3.141592653589793"
     },
     "metadata": {},
     "execution_count": 55
    }
   ],
   "source": [
    "import math\n",
    "math.pi"
   ]
  },
  {
   "cell_type": "code",
   "execution_count": 56,
   "metadata": {},
   "outputs": [
    {
     "output_type": "execute_result",
     "data": {
      "text/plain": "2.718281828459045"
     },
     "metadata": {},
     "execution_count": 56
    }
   ],
   "source": [
    "math.e"
   ]
  },
  {
   "cell_type": "code",
   "execution_count": 57,
   "metadata": {},
   "outputs": [
    {
     "output_type": "execute_result",
     "data": {
      "text/plain": "inf"
     },
     "metadata": {},
     "execution_count": 57
    }
   ],
   "source": [
    "math.inf"
   ]
  },
  {
   "cell_type": "code",
   "execution_count": 59,
   "metadata": {},
   "outputs": [
    {
     "output_type": "execute_result",
     "data": {
      "text/plain": "float"
     },
     "metadata": {},
     "execution_count": 59
    }
   ],
   "source": [
    "type(math.inf)"
   ]
  },
  {
   "cell_type": "code",
   "execution_count": 60,
   "metadata": {},
   "outputs": [
    {
     "output_type": "execute_result",
     "data": {
      "text/plain": "nan"
     },
     "metadata": {},
     "execution_count": 60
    }
   ],
   "source": [
    "math.nan"
   ]
  },
  {
   "cell_type": "code",
   "execution_count": 61,
   "metadata": {},
   "outputs": [
    {
     "output_type": "execute_result",
     "data": {
      "text/plain": "float"
     },
     "metadata": {},
     "execution_count": 61
    }
   ],
   "source": [
    "type(math.nan)"
   ]
  },
  {
   "cell_type": "code",
   "execution_count": 62,
   "metadata": {},
   "outputs": [
    {
     "output_type": "execute_result",
     "data": {
      "text/plain": "True"
     },
     "metadata": {},
     "execution_count": 62
    }
   ],
   "source": [
    "math.inf == math.inf"
   ]
  },
  {
   "cell_type": "code",
   "execution_count": 63,
   "metadata": {},
   "outputs": [
    {
     "output_type": "execute_result",
     "data": {
      "text/plain": "False"
     },
     "metadata": {},
     "execution_count": 63
    }
   ],
   "source": [
    "math.nan == math.nan"
   ]
  },
  {
   "cell_type": "markdown",
   "metadata": {},
   "source": [
    "### 定数の演算"
   ]
  },
  {
   "cell_type": "code",
   "execution_count": 64,
   "metadata": {},
   "outputs": [
    {
     "output_type": "execute_result",
     "data": {
      "text/plain": "True"
     },
     "metadata": {},
     "execution_count": 64
    }
   ],
   "source": [
    "math.isfinite(0.0)"
   ]
  },
  {
   "cell_type": "code",
   "execution_count": 65,
   "metadata": {},
   "outputs": [
    {
     "output_type": "execute_result",
     "data": {
      "text/plain": "False"
     },
     "metadata": {},
     "execution_count": 65
    }
   ],
   "source": [
    "math.isfinite(math.inf)"
   ]
  },
  {
   "cell_type": "code",
   "execution_count": 66,
   "metadata": {},
   "outputs": [
    {
     "output_type": "execute_result",
     "data": {
      "text/plain": "False"
     },
     "metadata": {},
     "execution_count": 66
    }
   ],
   "source": [
    "math.isfinite(math.nan)"
   ]
  },
  {
   "cell_type": "code",
   "execution_count": 67,
   "metadata": {},
   "outputs": [
    {
     "output_type": "execute_result",
     "data": {
      "text/plain": "True"
     },
     "metadata": {},
     "execution_count": 67
    }
   ],
   "source": [
    "math.isinf(math.inf)"
   ]
  },
  {
   "cell_type": "code",
   "execution_count": 68,
   "metadata": {},
   "outputs": [
    {
     "output_type": "execute_result",
     "data": {
      "text/plain": "True"
     },
     "metadata": {},
     "execution_count": 68
    }
   ],
   "source": [
    "math.isnan(math.nan)"
   ]
  },
  {
   "cell_type": "markdown",
   "metadata": {},
   "source": [
    "### 数値の比較"
   ]
  },
  {
   "cell_type": "code",
   "execution_count": 69,
   "metadata": {},
   "outputs": [
    {
     "output_type": "execute_result",
     "data": {
      "text/plain": "False"
     },
     "metadata": {},
     "execution_count": 69
    }
   ],
   "source": [
    "a = 0.3\n",
    "b = 0.1 + 0.1 + 0.1\n",
    "a == b"
   ]
  },
  {
   "cell_type": "code",
   "execution_count": 70,
   "metadata": {},
   "outputs": [
    {
     "output_type": "execute_result",
     "data": {
      "text/plain": "True"
     },
     "metadata": {},
     "execution_count": 70
    }
   ],
   "source": [
    "math.isclose(a, b)"
   ]
  },
  {
   "cell_type": "code",
   "execution_count": 71,
   "metadata": {},
   "outputs": [
    {
     "output_type": "stream",
     "name": "stdout",
     "text": "Help on built-in function isclose in module math:\n\nisclose(a, b, *, rel_tol=1e-09, abs_tol=0.0)\n    Determine whether two floating point numbers are close in value.\n    \n      rel_tol\n        maximum difference for being considered \"close\", relative to the\n        magnitude of the input values\n      abs_tol\n        maximum difference for being considered \"close\", regardless of the\n        magnitude of the input values\n    \n    Return True if a is close in value to b, and False otherwise.\n    \n    For the values to be considered close, the difference between them\n    must be smaller than at least one of the tolerances.\n    \n    -inf, inf and NaN behave similarly to the IEEE 754 Standard.  That\n    is, NaN is not close to anything, even itself.  inf and -inf are\n    only close to themselves.\n\n"
    }
   ],
   "source": [
    "help(math.isclose)"
   ]
  },
  {
   "cell_type": "code",
   "execution_count": 74,
   "metadata": {},
   "outputs": [
    {
     "output_type": "execute_result",
     "data": {
      "text/plain": "False"
     },
     "metadata": {},
     "execution_count": 74
    }
   ],
   "source": [
    "a = 0.0\n",
    "b = 1 / pow(2, 53)\n",
    "tol = 1 / pow(2, 50)\n",
    "math.isclose(a, b)"
   ]
  },
  {
   "cell_type": "code",
   "execution_count": 75,
   "metadata": {},
   "outputs": [
    {
     "output_type": "execute_result",
     "data": {
      "text/plain": "True"
     },
     "metadata": {},
     "execution_count": 75
    }
   ],
   "source": [
    "math.isclose(a, b, abs_tol=tol)"
   ]
  },
  {
   "cell_type": "code",
   "execution_count": 76,
   "metadata": {},
   "outputs": [
    {
     "output_type": "execute_result",
     "data": {
      "text/plain": "True"
     },
     "metadata": {},
     "execution_count": 76
    }
   ],
   "source": [
    "b = -1 / pow(2, 53)\n",
    "math.isclose(a, b, abs_tol=tol)"
   ]
  },
  {
   "cell_type": "markdown",
   "metadata": {},
   "source": [
    "### 統計関数"
   ]
  },
  {
   "cell_type": "code",
   "execution_count": 78,
   "metadata": {},
   "outputs": [
    {
     "output_type": "execute_result",
     "data": {
      "text/plain": "[0.2, 0.6, 0.1, 0.9, 0.2, 0.5, 0.8, 0.9, 0.6, 0.7, 0.5, 0.8, 0.2, 0.7, 0.6]"
     },
     "metadata": {},
     "execution_count": 78
    }
   ],
   "source": [
    "import random\n",
    "# seed に値を与えて乱数列を初期化すると、同じ環境であれば結果が再現します\n",
    "random.seed(85)\n",
    "\n",
    "data = [round(random.random(), 1) for i in range(15)]\n",
    "data"
   ]
  },
  {
   "cell_type": "code",
   "execution_count": 79,
   "metadata": {},
   "outputs": [
    {
     "output_type": "execute_result",
     "data": {
      "text/plain": "0.5533333333333333"
     },
     "metadata": {},
     "execution_count": 79
    }
   ],
   "source": [
    "sum(data) / len(data)"
   ]
  },
  {
   "cell_type": "code",
   "execution_count": 80,
   "metadata": {},
   "outputs": [
    {
     "output_type": "execute_result",
     "data": {
      "text/plain": "0.5533333333333333"
     },
     "metadata": {},
     "execution_count": 80
    }
   ],
   "source": [
    "import statistics\n",
    "statistics.mean(data)"
   ]
  },
  {
   "cell_type": "code",
   "execution_count": 81,
   "metadata": {},
   "outputs": [
    {
     "output_type": "execute_result",
     "data": {
      "text/plain": "0.6"
     },
     "metadata": {},
     "execution_count": 81
    }
   ],
   "source": [
    "statistics.median(data)"
   ]
  },
  {
   "cell_type": "code",
   "execution_count": 82,
   "metadata": {},
   "outputs": [
    {
     "output_type": "error",
     "ename": "StatisticsError",
     "evalue": "no unique mode; found 2 equally common values",
     "traceback": [
      "\u001b[1;31m---------------------------------------------------------------------------\u001b[0m",
      "\u001b[1;31mStatisticsError\u001b[0m                           Traceback (most recent call last)",
      "\u001b[1;32m<ipython-input-82-c2fb4b989cc7>\u001b[0m in \u001b[0;36m<module>\u001b[1;34m\u001b[0m\n\u001b[1;32m----> 1\u001b[1;33m \u001b[0mstatistics\u001b[0m\u001b[1;33m.\u001b[0m\u001b[0mmode\u001b[0m\u001b[1;33m(\u001b[0m\u001b[0mdata\u001b[0m\u001b[1;33m)\u001b[0m\u001b[1;33m\u001b[0m\u001b[1;33m\u001b[0m\u001b[0m\n\u001b[0m",
      "\u001b[1;32m~\\.conda\\envs\\MySQL\\lib\\statistics.py\u001b[0m in \u001b[0;36mmode\u001b[1;34m(data)\u001b[0m\n\u001b[0;32m    504\u001b[0m     \u001b[1;32melif\u001b[0m \u001b[0mtable\u001b[0m\u001b[1;33m:\u001b[0m\u001b[1;33m\u001b[0m\u001b[1;33m\u001b[0m\u001b[0m\n\u001b[0;32m    505\u001b[0m         raise StatisticsError(\n\u001b[1;32m--> 506\u001b[1;33m                 \u001b[1;34m'no unique mode; found %d equally common values'\u001b[0m \u001b[1;33m%\u001b[0m \u001b[0mlen\u001b[0m\u001b[1;33m(\u001b[0m\u001b[0mtable\u001b[0m\u001b[1;33m)\u001b[0m\u001b[1;33m\u001b[0m\u001b[1;33m\u001b[0m\u001b[0m\n\u001b[0m\u001b[0;32m    507\u001b[0m                 )\n\u001b[0;32m    508\u001b[0m     \u001b[1;32melse\u001b[0m\u001b[1;33m:\u001b[0m\u001b[1;33m\u001b[0m\u001b[1;33m\u001b[0m\u001b[0m\n",
      "\u001b[1;31mStatisticsError\u001b[0m: no unique mode; found 2 equally common values"
     ]
    }
   ],
   "source": [
    "statistics.mode(data)"
   ]
  },
  {
   "cell_type": "code",
   "execution_count": 83,
   "metadata": {},
   "outputs": [
    {
     "output_type": "execute_result",
     "data": {
      "text/plain": "[0.1, 0.2, 0.2, 0.2, 0.5, 0.5, 0.6, 0.6, 0.6, 0.7, 0.7, 0.8, 0.8, 0.9, 0.9]"
     },
     "metadata": {},
     "execution_count": 83
    }
   ],
   "source": [
    "sorted(data)"
   ]
  },
  {
   "cell_type": "code",
   "execution_count": 92,
   "metadata": {},
   "outputs": [
    {
     "output_type": "stream",
     "name": "stdout",
     "text": "0.8\n"
    },
    {
     "output_type": "execute_result",
     "data": {
      "text/plain": "[0.0, 0.1, 0.2, 0.2, 0.2, 0.5, 0.5, 0.5, 0.7, 0.8, 0.8, 0.8, 0.8, 0.9, 0.9]"
     },
     "metadata": {},
     "execution_count": 92
    }
   ],
   "source": [
    "data = [round(random.random(), 1) for i in range(15)]\n",
    "print(statistics.mode(data))\n",
    "sorted(data)\n"
   ]
  },
  {
   "cell_type": "markdown",
   "metadata": {},
   "source": [
    "### 問題.1\n",
    "円周率 π をシミュレーションで求めることを考えます。\n",
    "原点を中心として半径1の円とこれを取り囲む1辺が2の正方形を考えます。\n",
    "x 座標と y 座標がともにせいとなる第1象限だけを考え、ここにランダムに点を発生させます。\n",
    "図中で原点と点線で結ばれて折る点は、原点から距離 L にあり、L = (x^2 + y^2)^1/2 となります。\n",
    "importmath.pi との誤差が 1.0 × 10^-5(0.00001) より小さくなるまでに、いくつの点を発生させれば良いでしょうか。"
   ]
  },
  {
   "cell_type": "code",
   "execution_count": 94,
   "metadata": {},
   "outputs": [
    {
     "output_type": "stream",
     "name": "stdout",
     "text": "3.14158855451406\n6081\n"
    }
   ],
   "source": [
    "import math\n",
    "import random\n",
    "\n",
    "total = 0\n",
    "num_inside = 0\n",
    "sim_pi = 0\n",
    "while not math.isclose(sim_pi, math.pi, abs_tol=1e-5):\n",
    "    x = random.random()\n",
    "    y = random.random()\n",
    "    L = pow(x**2 + y**2, 0.5)\n",
    "    total += 1\n",
    "    if L <= 1:\n",
    "        num_inside += 1\n",
    "    sim_pi = 4 * num_inside / total\n",
    "print(sim_pi)\n",
    "print(total)"
   ]
  },
  {
   "cell_type": "markdown",
   "metadata": {},
   "source": [
    "## 8.6 datetime"
   ]
  },
  {
   "cell_type": "markdown",
   "metadata": {},
   "source": [
    "### 現在年月日の習得"
   ]
  },
  {
   "cell_type": "code",
   "execution_count": 1,
   "metadata": {},
   "outputs": [
    {
     "output_type": "execute_result",
     "data": {
      "text/plain": "datetime.date(2020, 6, 6)"
     },
     "metadata": {},
     "execution_count": 1
    }
   ],
   "source": [
    "from datetime import date\n",
    "day_now = date.today()\n",
    "day_now"
   ]
  },
  {
   "cell_type": "markdown",
   "metadata": {},
   "source": [
    "### 年月日の差分の取得"
   ]
  },
  {
   "cell_type": "code",
   "execution_count": 3,
   "metadata": {},
   "outputs": [
    {
     "output_type": "execute_result",
     "data": {
      "text/plain": "datetime.timedelta(days=14767)"
     },
     "metadata": {},
     "execution_count": 3
    }
   ],
   "source": [
    "xday = date(1980, 1, 1)\n",
    "td = day_now - xday\n",
    "td"
   ]
  },
  {
   "cell_type": "markdown",
   "metadata": {},
   "source": [
    "### 現在日時の取得"
   ]
  },
  {
   "cell_type": "code",
   "execution_count": 6,
   "metadata": {},
   "outputs": [
    {
     "output_type": "stream",
     "name": "stdout",
     "text": "2020-06-06 13:44:08.576926\n2020\n6\n6\n13\n44\n8\n576926\n"
    }
   ],
   "source": [
    "from datetime import datetime\n",
    "now = datetime.now()\n",
    "print(now)\n",
    "print(now.year)\n",
    "print(now.month)\n",
    "print(now.day)\n",
    "print(now.hour)\n",
    "print(now.minute)\n",
    "print(now.second)\n",
    "print(now.microsecond)"
   ]
  },
  {
   "cell_type": "markdown",
   "metadata": {},
   "source": [
    "### 日時の生成"
   ]
  },
  {
   "cell_type": "code",
   "execution_count": 8,
   "metadata": {},
   "outputs": [
    {
     "output_type": "execute_result",
     "data": {
      "text/plain": "datetime.datetime(2020, 9, 12, 12, 12, 21, 100)"
     },
     "metadata": {},
     "execution_count": 8
    }
   ],
   "source": [
    "datetime(2020, 9, 12, 12, 12, 21, 100)"
   ]
  },
  {
   "cell_type": "markdown",
   "metadata": {},
   "source": [
    "### datetime クラスメソッドとインスタンスメソッド"
   ]
  },
  {
   "cell_type": "code",
   "execution_count": 16,
   "metadata": {},
   "outputs": [
    {
     "output_type": "error",
     "ename": "AttributeError",
     "evalue": "module 'datetime' has no attribute 'now'",
     "traceback": [
      "\u001b[1;31m---------------------------------------------------------------------------\u001b[0m",
      "\u001b[1;31mAttributeError\u001b[0m                            Traceback (most recent call last)",
      "\u001b[1;32m<ipython-input-16-303321cc44a3>\u001b[0m in \u001b[0;36m<module>\u001b[1;34m\u001b[0m\n\u001b[1;32m----> 1\u001b[1;33m \u001b[0mdatetime\u001b[0m\u001b[1;33m.\u001b[0m\u001b[0mnow\u001b[0m\u001b[1;33m(\u001b[0m\u001b[1;33m)\u001b[0m\u001b[1;33m\u001b[0m\u001b[1;33m\u001b[0m\u001b[0m\n\u001b[0m",
      "\u001b[1;31mAttributeError\u001b[0m: module 'datetime' has no attribute 'now'"
     ]
    }
   ],
   "source": [
    "datetime.now()"
   ]
  },
  {
   "cell_type": "code",
   "execution_count": 17,
   "metadata": {},
   "outputs": [
    {
     "output_type": "execute_result",
     "data": {
      "text/plain": "datetime.datetime(2020, 6, 6, 5, 25, 35, 728249, tzinfo=datetime.timezone.utc)"
     },
     "metadata": {},
     "execution_count": 17
    }
   ],
   "source": [
    "import datetime\n",
    "dt_now = datetime.datetime.now(datetime.timezone.utc)\n",
    "dt_now"
   ]
  },
  {
   "cell_type": "code",
   "execution_count": 18,
   "metadata": {},
   "outputs": [
    {
     "output_type": "execute_result",
     "data": {
      "text/plain": "datetime.date(2020, 6, 6)"
     },
     "metadata": {},
     "execution_count": 18
    }
   ],
   "source": [
    "dt_now.date()"
   ]
  },
  {
   "cell_type": "code",
   "execution_count": 19,
   "metadata": {},
   "outputs": [
    {
     "output_type": "execute_result",
     "data": {
      "text/plain": "datetime.time(5, 25, 35, 728249)"
     },
     "metadata": {},
     "execution_count": 19
    }
   ],
   "source": [
    "dt_now.time()"
   ]
  },
  {
   "cell_type": "markdown",
   "metadata": {},
   "source": [
    "### 文字列時刻データを datetime に変換する"
   ]
  },
  {
   "cell_type": "code",
   "execution_count": 31,
   "metadata": {},
   "outputs": [
    {
     "output_type": "execute_result",
     "data": {
      "text/plain": "'English_United States.932'"
     },
     "metadata": {},
     "execution_count": 31
    }
   ],
   "source": [
    "import locale\n",
    "locale.setlocale(locale.LC_CTYPE, \"Japanese_Japan.932\")\n",
    "locale.setlocale(locale.LC_CTYPE, \"English_United States.932\")"
   ]
  },
  {
   "cell_type": "code",
   "execution_count": 32,
   "metadata": {},
   "outputs": [
    {
     "output_type": "execute_result",
     "data": {
      "text/plain": "datetime.datetime(2006, 11, 21, 16, 30)"
     },
     "metadata": {},
     "execution_count": 32
    }
   ],
   "source": [
    "import datetime\n",
    "dt = datetime.datetime.strptime(\"21/11/2006 16:30\", \"%d/%m/%Y %H:%M\")\n",
    "dt"
   ]
  },
  {
   "cell_type": "code",
   "execution_count": 33,
   "metadata": {},
   "outputs": [
    {
     "output_type": "execute_result",
     "data": {
      "text/plain": "'2006年11月21日 16時30分'"
     },
     "metadata": {},
     "execution_count": 33
    }
   ],
   "source": [
    "dt.strftime(\"%Y年%m月%d日 %H時%M分\")"
   ]
  },
  {
   "cell_type": "markdown",
   "metadata": {},
   "source": [
    "### datetime と timedelta の演算"
   ]
  },
  {
   "cell_type": "code",
   "execution_count": 36,
   "metadata": {},
   "outputs": [
    {
     "output_type": "execute_result",
     "data": {
      "text/plain": "datetime.datetime(2006, 11, 22, 16, 30)"
     },
     "metadata": {},
     "execution_count": 36
    }
   ],
   "source": [
    "import datetime\n",
    "t_delta = datetime.timedelta(days=1)\n",
    "dt = datetime.datetime.strptime(\"2006/11/21 16:30\", \"%Y/%m/%d %H:%M\")\n",
    "dt + t_delta"
   ]
  },
  {
   "cell_type": "markdown",
   "metadata": {},
   "source": [
    "### 問題.1\n",
    "'20180101120130' の文字列を 2018年01月05日 12時01分30秒として、datetime変数を生成して下さい。さらに、読み込んだ変数を再び '20180101120130' に変換して表示して下さい。"
   ]
  },
  {
   "cell_type": "code",
   "execution_count": 38,
   "metadata": {},
   "outputs": [
    {
     "output_type": "execute_result",
     "data": {
      "text/plain": "datetime.datetime(2018, 1, 1, 12, 1, 30)"
     },
     "metadata": {},
     "execution_count": 38
    }
   ],
   "source": [
    "import datetime\n",
    "dt = datetime.datetime.strptime('20180101120130', \"%Y%m%d%H%M%S\")\n",
    "dt"
   ]
  },
  {
   "cell_type": "code",
   "execution_count": 40,
   "metadata": {},
   "outputs": [
    {
     "output_type": "execute_result",
     "data": {
      "text/plain": "'20180101120130'"
     },
     "metadata": {},
     "execution_count": 40
    }
   ],
   "source": [
    "strdate = datetime.datetime.strftime(dt, \"%Y%m%d%H%M%S\")\n",
    "strdate"
   ]
  },
  {
   "cell_type": "markdown",
   "metadata": {},
   "source": [
    "## 8.7 json\n"
   ]
  },
  {
   "cell_type": "code",
   "execution_count": 19,
   "metadata": {},
   "outputs": [
    {
     "output_type": "execute_result",
     "data": {
      "text/plain": "'{\"0\": [1, 2, 3, 4, 5], \"1\": [6, 7, 8, 9, 10], \"2\": {\"a\": [11, 12, 13], \"b\": [14, 15, 16]}}'"
     },
     "metadata": {},
     "execution_count": 19
    }
   ],
   "source": [
    "import json\n",
    "x = {0: [1, 2, 3, 4, 5],\n",
    " 1: [6, 7, 8, 9, 10],\n",
    " 2: {\n",
    "    'a': [11, 12, 13], \n",
    "    'b': [14, 15, 16]\n",
    "    }}\n",
    "jds = json.dumps(x)\n",
    "jds"
   ]
  },
  {
   "cell_type": "code",
   "execution_count": 20,
   "metadata": {},
   "outputs": [
    {
     "output_type": "execute_result",
     "data": {
      "text/plain": "'{\"0\": [1, 2, 3, 4, 5], \"1\": [6, 7, 8, 9, 10], \"2\": [14, 15, 16]}'"
     },
     "metadata": {},
     "execution_count": 20
    }
   ],
   "source": [
    "import json\n",
    "x2 = {0: [1, 2, 3, 4, 5], 1: [6, 7, 8, 9, 10], 2: [14, 15, 16]}\n",
    "jds2 = json.dumps(x2)\n",
    "jds2"
   ]
  },
  {
   "cell_type": "code",
   "execution_count": 21,
   "metadata": {},
   "outputs": [
    {
     "output_type": "execute_result",
     "data": {
      "text/plain": "{'0': [1, 2, 3, 4, 5],\n '1': [6, 7, 8, 9, 10],\n '2': {'a': [11, 12, 13], 'b': [14, 15, 16]}}"
     },
     "metadata": {},
     "execution_count": 21
    }
   ],
   "source": [
    "x2 = json.loads(jds)\n",
    "x2"
   ]
  },
  {
   "cell_type": "code",
   "execution_count": 22,
   "metadata": {},
   "outputs": [],
   "source": [
    "import json\n",
    "with open('test1.json',  'w') as f:\n",
    "    json.dump(x, f)"
   ]
  },
  {
   "cell_type": "code",
   "execution_count": 23,
   "metadata": {},
   "outputs": [
    {
     "output_type": "execute_result",
     "data": {
      "text/plain": "{'0': [1, 2, 3, 4, 5],\n '1': [6, 7, 8, 9, 10],\n '2': {'a': [11, 12, 13], 'b': [14, 15, 16]}}"
     },
     "metadata": {},
     "execution_count": 23
    }
   ],
   "source": [
    "import json\n",
    "with open('test1.json',  'r') as f:\n",
    "    x3 = json.load(f)\n",
    "\n",
    "x3"
   ]
  },
  {
   "cell_type": "code",
   "execution_count": 24,
   "metadata": {},
   "outputs": [
    {
     "output_type": "stream",
     "name": "stdout",
     "text": "Not JSON Format\n"
    }
   ],
   "source": [
    "my_text = \"{'a':1\"\n",
    "try:\n",
    "    json.loads(my_text)\n",
    "except json.JSONDecodeError as r:\n",
    "    print('Not JSON Format')\n",
    "else:\n",
    "    print('JSON Formt')"
   ]
  },
  {
   "cell_type": "code",
   "execution_count": 26,
   "metadata": {},
   "outputs": [
    {
     "output_type": "stream",
     "name": "stdout",
     "text": "{\n    \"0\": [\n        1,\n        2,\n        3,\n        4,\n        5\n    ],\n    \"1\": [\n        6,\n        7,\n        8,\n        9,\n        10\n    ],\n    \"2\": {\n        \"a\": [\n            11,\n            12,\n            13\n        ],\n        \"b\": [\n            14,\n            15,\n            16\n        ]\n    }\n}\n"
    }
   ],
   "source": [
    "!python -m json.tool test1.json"
   ]
  },
  {
   "cell_type": "markdown",
   "metadata": {},
   "source": [
    "### 問題.1\n",
    "JSON形式の名簿データファイルを作成して下さい。名簿に登録するデータは、以下の恒星のものとします。名簿データをファイルに保存したら、再び別の変数の読み込んで、全要素を表示して下さい。\n",
    "~~~\n",
    "名前: tanaka, 年齢: 20, 血液型: A, 性別: 男性\n",
    "名前: satou, 年齢: 19, 血液型: A, 性別: 女性\n",
    "名前: suzuki, 年齢: 20, 血液型: AB, 性別: 男性\n",
    "~~~"
   ]
  },
  {
   "cell_type": "code",
   "execution_count": 5,
   "metadata": {},
   "outputs": [
    {
     "output_type": "stream",
     "name": "stdout",
     "text": "[{\"name\": \"tanaka\", \"age\": 20, \"blood type\": \"A\", \"sex\": \"male\"}, {\"name\": \"satou\", \"age\": 19, \"blood type\": \"A\", \"sex\": \"female\"}, {\"name\": \"suzuki\", \"age\": 20, \"blood type\": \"AB\", \"sex\": \"male\"}]\n"
    },
    {
     "output_type": "execute_result",
     "data": {
      "text/plain": "'[{\"name\": \"tanaka\", \"age\": 20, \"blood type\": \"A\", \"sex\": \"male\"}, {\"name\": \"satou\", \"age\": 19, \"blood type\": \"A\", \"sex\": \"female\"}, {\"name\": \"suzuki\", \"age\": 20, \"blood type\": \"AB\", \"sex\": \"male\"}]'"
     },
     "metadata": {},
     "execution_count": 5
    }
   ],
   "source": [
    "meibo = [{'name': 'tanaka', 'age': 20, 'blood type': 'A', 'sex': 'male'},\n",
    "        {'name': 'satou', 'age': 19, 'blood type': 'A', 'sex': 'female'},\n",
    "        {'name': 'suzuki', 'age': 20, 'blood type': 'AB', 'sex': 'male'}]\n",
    "\n",
    "import json\n",
    "\n",
    "meibo_json = json.dumps(meibo)\n",
    "print(meibo_json)\n",
    "with open('jsonmeibo.json', 'w') as f:\n",
    "    json.dump(meibo_json, f)\n",
    "\n",
    "with open('jsonmeibo.json', 'r') as f:\n",
    "    meibo_json2 = json.load(f)\n",
    "\n",
    "meibo_json2"
   ]
  },
  {
   "cell_type": "markdown",
   "metadata": {},
   "source": [
    "## 8.8 sqlite"
   ]
  },
  {
   "cell_type": "markdown",
   "metadata": {},
   "source": [
    "### データベースの作成、テーブルの作成"
   ]
  },
  {
   "cell_type": "code",
   "execution_count": 7,
   "metadata": {},
   "outputs": [
    {
     "output_type": "error",
     "ename": "OperationalError",
     "evalue": "table Employee already exists",
     "traceback": [
      "\u001b[1;31m---------------------------------------------------------------------------\u001b[0m",
      "\u001b[1;31mOperationalError\u001b[0m                          Traceback (most recent call last)",
      "\u001b[1;32m<ipython-input-7-a026273e5703>\u001b[0m in \u001b[0;36m<module>\u001b[1;34m\u001b[0m\n\u001b[0;32m     14\u001b[0m \u001b[1;31m# テーブルを作成\u001b[0m\u001b[1;33m\u001b[0m\u001b[1;33m\u001b[0m\u001b[1;33m\u001b[0m\u001b[0m\n\u001b[0;32m     15\u001b[0m \u001b[0msql\u001b[0m \u001b[1;33m=\u001b[0m \u001b[1;34m'create table Employee(name, email, department, position);'\u001b[0m\u001b[1;33m\u001b[0m\u001b[1;33m\u001b[0m\u001b[0m\n\u001b[1;32m---> 16\u001b[1;33m \u001b[0mcsr\u001b[0m\u001b[1;33m.\u001b[0m\u001b[0mexecute\u001b[0m\u001b[1;33m(\u001b[0m\u001b[0msql\u001b[0m\u001b[1;33m)\u001b[0m\u001b[1;33m\u001b[0m\u001b[1;33m\u001b[0m\u001b[0m\n\u001b[0m\u001b[0;32m     17\u001b[0m \u001b[1;33m\u001b[0m\u001b[0m\n\u001b[0;32m     18\u001b[0m \u001b[1;31m# 保存\u001b[0m\u001b[1;33m\u001b[0m\u001b[1;33m\u001b[0m\u001b[1;33m\u001b[0m\u001b[0m\n",
      "\u001b[1;31mOperationalError\u001b[0m: table Employee already exists"
     ]
    }
   ],
   "source": [
    "import sqlite3\n",
    "\n",
    "# sample.db という名前のデータ\n",
    "db = 'sample.db'\n",
    "\n",
    "# データベースに接続: Connection オブジェクトを作成\n",
    "# データベースがすでに存在するときはそのまま接続\n",
    "# データベースがないときは新しく作成して接続\n",
    "con = sqlite3.Connection(db)\n",
    "\n",
    "# カーソルオブジェクトを作成\n",
    "csr = con.cursor()\n",
    "\n",
    "# テーブルを作成\n",
    "sql = 'create table Employee(name, email, department, position);'\n",
    "csr.execute(sql)\n",
    "\n",
    "# 保存\n",
    "con.commit()\n",
    "\n",
    "# 接続を終了\n",
    "con.close()"
   ]
  },
  {
   "cell_type": "markdown",
   "metadata": {},
   "source": [
    "### データの追加・読み取り・更新・削除"
   ]
  },
  {
   "cell_type": "code",
   "execution_count": 8,
   "metadata": {},
   "outputs": [
    {
     "output_type": "stream",
     "name": "stdout",
     "text": "[('Yamada', 'yamada@abcxyz.co.jp', 'Sales', 'staff'), ('Suzuki', 'suzuki@abcxyz.co.jp', 'Development', 'staff')]\n[('Suzuki', 'suzuki@abcxyz.co.jp', 'Development', 'staff')]\n[('Suzuki', 'suzuki@abcxyz.co.jp', 'Development', 'Manager')]\n"
    }
   ],
   "source": [
    "import sqlite3\n",
    "\n",
    "# sample.db という名前のデータ\n",
    "db = 'sample.db'\n",
    "\n",
    "# データベースに接続\n",
    "con = sqlite3.Connection(db)\n",
    "\n",
    "# カーソルオブジェクトを作成\n",
    "csr = con.cursor()\n",
    "\n",
    "# テーブルにデータを格納\n",
    "sql = \"insert into Employee(name, email, department, position) \\\n",
    " values('Yamada', 'yamada@abcxyz.co.jp', 'Sales', 'staff');\"\n",
    "csr.execute(sql)\n",
    "sql = \"insert into Employee(name, email, department, position) \\\n",
    " values('Suzuki', 'suzuki@abcxyz.co.jp', 'Development', 'staff');\"\n",
    "csr.execute(sql)\n",
    "\n",
    "# この時点の内容を確認\n",
    "sql = \"select * from Employee;\"\n",
    "csr.execute(sql)\n",
    "print(csr.fetchall())\n",
    "\n",
    "# テーブルからデータを削除\n",
    "sql = \"delete from Employee where name ='Yamada';\"\n",
    "csr.execute(sql)\n",
    "\n",
    "# この時点の内容を確認\n",
    "sql = \"select * from Employee;\"\n",
    "csr.execute(sql)\n",
    "print(csr.fetchall())\n",
    "\n",
    "# テーブル中のデータを更新\n",
    "sql = \"update Employee set position ='Manager' where name = 'Suzuki';\"\n",
    "csr.execute(sql)\n",
    "\n",
    "# 保存\n",
    "con.commit()\n",
    "\n",
    "# 内容を読み取って表示\n",
    "sql = \"select * from Employee;\"\n",
    "csr.execute(sql)\n",
    "print(csr.fetchall())\n",
    "\n",
    "# 接続を終了\n",
    "con.close()"
   ]
  },
  {
   "cell_type": "markdown",
   "metadata": {},
   "source": [
    "### テーブルの削除"
   ]
  },
  {
   "cell_type": "code",
   "execution_count": 9,
   "metadata": {},
   "outputs": [
    {
     "output_type": "error",
     "ename": "ProgrammingError",
     "evalue": "Cannot operate on a closed database.",
     "traceback": [
      "\u001b[1;31m---------------------------------------------------------------------------\u001b[0m",
      "\u001b[1;31mProgrammingError\u001b[0m                          Traceback (most recent call last)",
      "\u001b[1;32m<ipython-input-9-28c38117db1b>\u001b[0m in \u001b[0;36m<module>\u001b[1;34m\u001b[0m\n\u001b[1;32m----> 1\u001b[1;33m \u001b[0mcsr\u001b[0m\u001b[1;33m.\u001b[0m\u001b[0mexecute\u001b[0m\u001b[1;33m(\u001b[0m\u001b[1;34m'drop table data_set'\u001b[0m\u001b[1;33m)\u001b[0m\u001b[1;33m\u001b[0m\u001b[1;33m\u001b[0m\u001b[0m\n\u001b[0m\u001b[0;32m      2\u001b[0m \u001b[0mcon\u001b[0m\u001b[1;33m.\u001b[0m\u001b[0mcommit\u001b[0m\u001b[1;33m(\u001b[0m\u001b[1;33m)\u001b[0m\u001b[1;33m\u001b[0m\u001b[1;33m\u001b[0m\u001b[0m\n",
      "\u001b[1;31mProgrammingError\u001b[0m: Cannot operate on a closed database."
     ]
    }
   ],
   "source": [
    "csr.execute('drop table data_set')\n",
    "con.commit()"
   ]
  },
  {
   "cell_type": "markdown",
   "metadata": {},
   "source": [
    "### 問題.1\n",
    "次のプログラムを実行した結果を確認してみましょう"
   ]
  },
  {
   "cell_type": "code",
   "execution_count": 10,
   "metadata": {},
   "outputs": [
    {
     "output_type": "stream",
     "name": "stdout",
     "text": "[('Ichiro', 'Lazer'), ('Jiro', None), ('Saburo', None)]\n"
    }
   ],
   "source": [
    "import sqlite3\n",
    "\n",
    "db = 'test.db'\n",
    "con = sqlite3.connect(db)\n",
    "csr = con.cursor()\n",
    "\n",
    "csr.execute('create table human(name, nickname);')\n",
    "\n",
    "csr.execute(\"insert into human(name) values('Ichiro');\")\n",
    "csr.execute(\"insert into human(name) values('Jiro');\")\n",
    "csr.execute(\"insert into human(name) values('Saburo');\")\n",
    "\n",
    "csr.execute(\"update human set nickname = 'Lazer' where name = 'Ichiro';\")\n",
    "\n",
    "csr.execute('select * from human;')\n",
    "print(csr.fetchall())\n",
    "\n",
    "con.commit()\n",
    "con.close()"
   ]
  },
  {
   "cell_type": "markdown",
   "metadata": {},
   "source": [
    "### 問題.2\n",
    "次のプログラムを実行した結果を確認してみましょう。なお、データベース 'test.db' には問題.1 実行後の結果が残っているものとします。"
   ]
  },
  {
   "cell_type": "code",
   "execution_count": 11,
   "metadata": {},
   "outputs": [
    {
     "output_type": "stream",
     "name": "stdout",
     "text": "[('Saburo', None)]\n"
    }
   ],
   "source": [
    "import sqlite3\n",
    "\n",
    "db = 'test.db'\n",
    "con = sqlite3.connect(db)\n",
    "csr = con.cursor()\n",
    "\n",
    "csr.execute(\"update human set nickname = 'Lazer' where name = 'Jiro';\")\n",
    "\n",
    "csr.execute(\"delete from human where nickname = 'Lazer';\")\n",
    "\n",
    "csr.execute('select * from human;')\n",
    "print(csr.fetchall())\n",
    "\n",
    "con.commit()\n",
    "con.close()"
   ]
  },
  {
   "cell_type": "markdown",
   "metadata": {},
   "source": [
    "## 8.9 decimal"
   ]
  },
  {
   "cell_type": "code",
   "execution_count": 13,
   "metadata": {},
   "outputs": [
    {
     "output_type": "execute_result",
     "data": {
      "text/plain": "0.30000000000000004"
     },
     "metadata": {},
     "execution_count": 13
    }
   ],
   "source": [
    "0.1 * 3"
   ]
  },
  {
   "cell_type": "code",
   "execution_count": 14,
   "metadata": {},
   "outputs": [
    {
     "output_type": "execute_result",
     "data": {
      "text/plain": "False"
     },
     "metadata": {},
     "execution_count": 14
    }
   ],
   "source": [
    "0.1 * 3 == 0.3"
   ]
  },
  {
   "cell_type": "code",
   "execution_count": 15,
   "metadata": {},
   "outputs": [],
   "source": [
    "from decimal import Decimal"
   ]
  },
  {
   "cell_type": "code",
   "execution_count": 17,
   "metadata": {},
   "outputs": [
    {
     "output_type": "stream",
     "name": "stdout",
     "text": "0.1 0.3\n"
    },
    {
     "output_type": "execute_result",
     "data": {
      "text/plain": "(Decimal('0.1'), Decimal('0.3'))"
     },
     "metadata": {},
     "execution_count": 17
    }
   ],
   "source": [
    "# 文字列型を引数に渡す\n",
    "d0 = Decimal('0.1')\n",
    "print(d0, d0 * 3)\n",
    "d0, d0 * 3"
   ]
  },
  {
   "cell_type": "code",
   "execution_count": 18,
   "metadata": {},
   "outputs": [
    {
     "output_type": "execute_result",
     "data": {
      "text/plain": "True"
     },
     "metadata": {},
     "execution_count": 18
    }
   ],
   "source": [
    "Decimal('0.1') * 3 == Decimal('0.3')"
   ]
  },
  {
   "cell_type": "code",
   "execution_count": 20,
   "metadata": {},
   "outputs": [
    {
     "output_type": "stream",
     "name": "stdout",
     "text": "0.1000000000000000055511151231257827021181583404541015625 0.3000000000000000166533453694\n"
    },
    {
     "output_type": "execute_result",
     "data": {
      "text/plain": "(Decimal('0.1000000000000000055511151231257827021181583404541015625'),\n Decimal('0.3000000000000000166533453694'))"
     },
     "metadata": {},
     "execution_count": 20
    }
   ],
   "source": [
    "# float型を引数に渡す\n",
    "d1 = Decimal(0.1)\n",
    "print(d1, d1 * 3)\n",
    "d1, d1 * 3"
   ]
  },
  {
   "cell_type": "code",
   "execution_count": 22,
   "metadata": {},
   "outputs": [
    {
     "output_type": "stream",
     "name": "stdout",
     "text": "3.14 -1.414\n"
    },
    {
     "output_type": "execute_result",
     "data": {
      "text/plain": "(Decimal('3.14'), Decimal('-1.414'))"
     },
     "metadata": {},
     "execution_count": 22
    }
   ],
   "source": [
    "# (符合、（それぞれの桁の値のタプル)、指数) のタプルを引数に渡す\n",
    "deci_pi = Decimal((0, (3, 1, 4), -2))\n",
    "n_sqrt_2 = Decimal((1, (1, 4, 1, 4), -3))\n",
    "\n",
    "print(deci_pi, n_sqrt_2)\n",
    "deci_pi, n_sqrt_2"
   ]
  },
  {
   "cell_type": "markdown",
   "metadata": {},
   "source": [
    "### float の混入を避ける"
   ]
  },
  {
   "cell_type": "code",
   "execution_count": 27,
   "metadata": {},
   "outputs": [
    {
     "output_type": "error",
     "ename": "FloatOperation",
     "evalue": "[<class 'decimal.FloatOperation'>]",
     "traceback": [
      "\u001b[1;31m---------------------------------------------------------------------------\u001b[0m",
      "\u001b[1;31mFloatOperation\u001b[0m                            Traceback (most recent call last)",
      "\u001b[1;32m<ipython-input-27-c7acfe96b0a7>\u001b[0m in \u001b[0;36m<module>\u001b[1;34m\u001b[0m\n\u001b[0;32m      2\u001b[0m \u001b[1;31m# float トラップを有効にする\u001b[0m\u001b[1;33m\u001b[0m\u001b[1;33m\u001b[0m\u001b[1;33m\u001b[0m\u001b[0m\n\u001b[0;32m      3\u001b[0m \u001b[0mgetcontext\u001b[0m\u001b[1;33m(\u001b[0m\u001b[1;33m)\u001b[0m\u001b[1;33m.\u001b[0m\u001b[0mtraps\u001b[0m\u001b[1;33m[\u001b[0m\u001b[0mFloatOperation\u001b[0m\u001b[1;33m]\u001b[0m \u001b[1;33m=\u001b[0m \u001b[1;32mTrue\u001b[0m\u001b[1;33m\u001b[0m\u001b[1;33m\u001b[0m\u001b[0m\n\u001b[1;32m----> 4\u001b[1;33m \u001b[0mDecimal\u001b[0m\u001b[1;33m(\u001b[0m\u001b[1;36m0.1\u001b[0m\u001b[1;33m)\u001b[0m\u001b[1;33m\u001b[0m\u001b[1;33m\u001b[0m\u001b[0m\n\u001b[0m",
      "\u001b[1;31mFloatOperation\u001b[0m: [<class 'decimal.FloatOperation'>]"
     ]
    }
   ],
   "source": [
    "from decimal import Decimal, getcontext, FloatOperation\n",
    "# float トラップを有効にする\n",
    "getcontext().traps[FloatOperation] = True\n",
    "Decimal(0.1)"
   ]
  },
  {
   "cell_type": "code",
   "execution_count": 28,
   "metadata": {},
   "outputs": [
    {
     "output_type": "execute_result",
     "data": {
      "text/plain": "Decimal('0.1000000000000000055511151231257827021181583404541015625')"
     },
     "metadata": {},
     "execution_count": 28
    }
   ],
   "source": [
    "Decimal(0.1)"
   ]
  },
  {
   "cell_type": "markdown",
   "metadata": {},
   "source": [
    "### 有効桁数を表記した計算"
   ]
  },
  {
   "cell_type": "code",
   "execution_count": 30,
   "metadata": {},
   "outputs": [
    {
     "output_type": "execute_result",
     "data": {
      "text/plain": "Decimal('2.500')"
     },
     "metadata": {},
     "execution_count": 30
    }
   ],
   "source": [
    "Decimal('1.300') + Decimal('1.200')"
   ]
  },
  {
   "cell_type": "code",
   "execution_count": 31,
   "metadata": {},
   "outputs": [
    {
     "output_type": "stream",
     "name": "stdout",
     "text": "2.500\n"
    }
   ],
   "source": [
    "print(Decimal('1.300') + Decimal('1.200'))"
   ]
  },
  {
   "cell_type": "code",
   "execution_count": 32,
   "metadata": {},
   "outputs": [
    {
     "output_type": "execute_result",
     "data": {
      "text/plain": "Decimal('1.56')"
     },
     "metadata": {},
     "execution_count": 32
    }
   ],
   "source": [
    "Decimal('1.3') * Decimal('1.2')"
   ]
  },
  {
   "cell_type": "code",
   "execution_count": 33,
   "metadata": {},
   "outputs": [
    {
     "output_type": "execute_result",
     "data": {
      "text/plain": "Decimal('1.5600')"
     },
     "metadata": {},
     "execution_count": 33
    }
   ],
   "source": [
    "Decimal('1.30') * Decimal('1.20')"
   ]
  },
  {
   "cell_type": "markdown",
   "metadata": {},
   "source": [
    "### 計算精度を指定した計算"
   ]
  },
  {
   "cell_type": "code",
   "execution_count": 34,
   "metadata": {},
   "outputs": [
    {
     "output_type": "stream",
     "name": "stdout",
     "text": "Context(prec=28, rounding=ROUND_HALF_EVEN, Emin=-999999, Emax=999999, capitals=1, clamp=0, flags=[], traps=[InvalidOperation, DivisionByZero, Overflow])\n"
    },
    {
     "output_type": "execute_result",
     "data": {
      "text/plain": "Decimal('0.1428571428571428571428571429')"
     },
     "metadata": {},
     "execution_count": 34
    }
   ],
   "source": [
    "from decimal import Decimal, getcontext\n",
    "print(getcontext())\n",
    "Decimal(1) / Decimal(7)"
   ]
  },
  {
   "cell_type": "code",
   "execution_count": 35,
   "metadata": {},
   "outputs": [
    {
     "output_type": "execute_result",
     "data": {
      "text/plain": "Decimal('0.142857')"
     },
     "metadata": {},
     "execution_count": 35
    }
   ],
   "source": [
    "getcontext().prec = 6\n",
    "Decimal(1) / Decimal(7)"
   ]
  },
  {
   "cell_type": "code",
   "execution_count": 36,
   "metadata": {},
   "outputs": [
    {
     "output_type": "execute_result",
     "data": {
      "text/plain": "Decimal('0.142857142857142857142857142857142857142857')"
     },
     "metadata": {},
     "execution_count": 36
    }
   ],
   "source": [
    "getcontext().prec = 42\n",
    "Decimal(1) / Decimal(7)"
   ]
  },
  {
   "cell_type": "markdown",
   "metadata": {},
   "source": [
    "### 数値を丸める"
   ]
  },
  {
   "cell_type": "code",
   "execution_count": 37,
   "metadata": {},
   "outputs": [
    {
     "output_type": "execute_result",
     "data": {
      "text/plain": "Decimal('7.32')"
     },
     "metadata": {},
     "execution_count": 37
    }
   ],
   "source": [
    "from decimal import Decimal, ROUND_DOWN\n",
    "Decimal('7.325').quantize(Decimal('.01'), rounding=ROUND_DOWN)"
   ]
  },
  {
   "cell_type": "code",
   "execution_count": 38,
   "metadata": {},
   "outputs": [
    {
     "output_type": "execute_result",
     "data": {
      "text/plain": "Decimal('7.33')"
     },
     "metadata": {},
     "execution_count": 38
    }
   ],
   "source": [
    "from decimal import Decimal, ROUND_HALF_UP\n",
    "Decimal('7.325').quantize(Decimal('.01'), rounding=ROUND_HALF_UP)"
   ]
  },
  {
   "cell_type": "markdown",
   "metadata": {},
   "source": [
    "## 数学関数"
   ]
  },
  {
   "cell_type": "code",
   "execution_count": 39,
   "metadata": {},
   "outputs": [
    {
     "output_type": "execute_result",
     "data": {
      "text/plain": "Decimal('1.414213562373095048801688724')"
     },
     "metadata": {},
     "execution_count": 39
    }
   ],
   "source": [
    "getcontext().prec = 28\n",
    "Decimal('2').sqrt()"
   ]
  },
  {
   "cell_type": "code",
   "execution_count": 40,
   "metadata": {},
   "outputs": [
    {
     "output_type": "execute_result",
     "data": {
      "text/plain": "Decimal('2.718281828459045235360287471')"
     },
     "metadata": {},
     "execution_count": 40
    }
   ],
   "source": [
    "Decimal('1').exp()"
   ]
  },
  {
   "cell_type": "code",
   "execution_count": 42,
   "metadata": {},
   "outputs": [
    {
     "output_type": "execute_result",
     "data": {
      "text/plain": "Decimal('1')"
     },
     "metadata": {},
     "execution_count": 42
    }
   ],
   "source": [
    "Decimal('10').log10()"
   ]
  },
  {
   "cell_type": "markdown",
   "metadata": {},
   "source": [
    "### 問題.1\n",
    "小数点以下に僅かな違いがある2つの大きな数の差を求め、差から僅かな違いを引いたとき、浮動小数点数型だとゼロになりません。たとえば、百億より 0.2 大きい数 10000000000.2 から百億 10000000000 を牽いたものを diff とし、 diff -0.2 を計算すると、次のようにかなり大きな差になります。"
   ]
  },
  {
   "cell_type": "code",
   "execution_count": 43,
   "metadata": {},
   "outputs": [
    {
     "output_type": "execute_result",
     "data": {
      "text/plain": "7.629394531138978e-07"
     },
     "metadata": {},
     "execution_count": 43
    }
   ],
   "source": [
    "diff = 10000000000.2 - 10000000000\n",
    "diff - 0.2"
   ]
  },
  {
   "cell_type": "code",
   "execution_count": 44,
   "metadata": {},
   "outputs": [
    {
     "output_type": "execute_result",
     "data": {
      "text/plain": "Decimal('0.0')"
     },
     "metadata": {},
     "execution_count": 44
    }
   ],
   "source": [
    "diff = Decimal('10000000000.2') - Decimal('10000000000')\n",
    "diff - Decimal('.2')"
   ]
  },
  {
   "cell_type": "code",
   "execution_count": 45,
   "metadata": {},
   "outputs": [
    {
     "output_type": "error",
     "ename": "TypeError",
     "evalue": "unsupported operand type(s) for -: 'decimal.Decimal' and 'float'",
     "traceback": [
      "\u001b[1;31m---------------------------------------------------------------------------\u001b[0m",
      "\u001b[1;31mTypeError\u001b[0m                                 Traceback (most recent call last)",
      "\u001b[1;32m<ipython-input-45-6f4e759a3725>\u001b[0m in \u001b[0;36m<module>\u001b[1;34m\u001b[0m\n\u001b[1;32m----> 1\u001b[1;33m \u001b[0mdiff\u001b[0m  \u001b[1;33m-\u001b[0m \u001b[1;36m0.2\u001b[0m\u001b[1;33m\u001b[0m\u001b[1;33m\u001b[0m\u001b[0m\n\u001b[0m",
      "\u001b[1;31mTypeError\u001b[0m: unsupported operand type(s) for -: 'decimal.Decimal' and 'float'"
     ]
    }
   ],
   "source": [
    "diff  - 0.2"
   ]
  },
  {
   "cell_type": "markdown",
   "metadata": {},
   "source": [
    "## 8.10 logging"
   ]
  },
  {
   "cell_type": "code",
   "execution_count": 1,
   "metadata": {},
   "outputs": [
    {
     "output_type": "stream",
     "name": "stderr",
     "text": "WARNING:root:warning level message\nERROR:root:error level message\nCRITICAL:root:critical level message\n"
    }
   ],
   "source": [
    "import logging\n",
    "logging.debug('debug level message')\n",
    "logging.info('info level message')\n",
    "logging.warning('warning level message')\n",
    "logging.error('error level message')\n",
    "logging.critical('critical level message')"
   ]
  },
  {
   "cell_type": "code",
   "execution_count": 9,
   "metadata": {},
   "outputs": [
    {
     "output_type": "stream",
     "name": "stderr",
     "text": "WARNING:root:test warning output\n"
    }
   ],
   "source": [
    "import logging\n",
    "logging.basicConfig(filename='test1.log', level=logging.DEBUG)\n",
    "logging.debug('logfile open')\n",
    "logging.info('test info output')\n",
    "logging.warning('test warning output')"
   ]
  },
  {
   "cell_type": "code",
   "execution_count": 13,
   "metadata": {},
   "outputs": [
    {
     "output_type": "stream",
     "name": "stderr",
     "text": "WARNING:root:test warning output : level = worning\n"
    }
   ],
   "source": [
    "import logging\n",
    "logging.basicConfig(filename='test1.log', level=logging.WARNING)\n",
    "logging.debug('logfile open : level = worning')\n",
    "logging.info('test info output : level = worning')\n",
    "logging.warning('test warning output : level = worning')"
   ]
  },
  {
   "cell_type": "code",
   "execution_count": 14,
   "metadata": {},
   "outputs": [
    {
     "output_type": "stream",
     "name": "stderr",
     "text": "WARNING:root:test warning format output\n"
    }
   ],
   "source": [
    "\n",
    "import logging\n",
    "logging.basicConfig(filename='test1.log', level=logging.WARNING, format='%(levelname)s:%(asctime)s:%(message)s')\n",
    "logging.warning('test warning format output')\n"
   ]
  },
  {
   "cell_type": "code",
   "execution_count": null,
   "metadata": {},
   "outputs": [],
   "source": []
  }
 ],
 "metadata": {
  "language_info": {
   "codemirror_mode": {
    "name": "ipython",
    "version": 3
   },
   "file_extension": ".py",
   "mimetype": "text/x-python",
   "name": "python",
   "nbconvert_exporter": "python",
   "pygments_lexer": "ipython3",
   "version": "3.7.4-final"
  },
  "orig_nbformat": 2,
  "kernelspec": {
   "name": "python37464bitmysqlconda36d802721702460fb1197994a1098f1e",
   "display_name": "Python 3.7.4 64-bit ('MySQL': conda)"
  }
 },
 "nbformat": 4,
 "nbformat_minor": 2
}