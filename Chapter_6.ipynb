{
 "cells": [
  {
   "cell_type": "markdown",
   "metadata": {},
   "source": [
    "# 6 クラス\n",
    "## 6.1 クラスの基本\n"
   ]
  },
  {
   "cell_type": "code",
   "execution_count": 2,
   "metadata": {},
   "outputs": [],
   "source": [
    "class Car:\n",
    "    pass"
   ]
  },
  {
   "cell_type": "code",
   "execution_count": 3,
   "metadata": {},
   "outputs": [
    {
     "data": {
      "text/plain": [
       "__main__.Car"
      ]
     },
     "execution_count": 3,
     "metadata": {},
     "output_type": "execute_result"
    }
   ],
   "source": [
    "my_car = Car()\n",
    "type(my_car)"
   ]
  },
  {
   "cell_type": "code",
   "execution_count": 4,
   "metadata": {},
   "outputs": [],
   "source": [
    "class Car:\n",
    "    num_wheels = 4"
   ]
  },
  {
   "cell_type": "code",
   "execution_count": 6,
   "metadata": {},
   "outputs": [
    {
     "data": {
      "text/plain": [
       "4"
      ]
     },
     "execution_count": 6,
     "metadata": {},
     "output_type": "execute_result"
    }
   ],
   "source": [
    "my_car = Car()\n",
    "my_car.num_wheels"
   ]
  },
  {
   "cell_type": "code",
   "execution_count": 12,
   "metadata": {},
   "outputs": [],
   "source": [
    "class Car:\n",
    "    weight = 4000\n",
    "    num_wheels = 4\n",
    "    \n",
    "    def calc_weight_per_wheel(self):\n",
    "        return 1000.0"
   ]
  },
  {
   "cell_type": "code",
   "execution_count": 14,
   "metadata": {},
   "outputs": [
    {
     "data": {
      "text/plain": [
       "1000.0"
      ]
     },
     "execution_count": 14,
     "metadata": {},
     "output_type": "execute_result"
    }
   ],
   "source": [
    "my_car = Car()\n",
    "my_car.calc_weight_per_wheel()"
   ]
  },
  {
   "cell_type": "code",
   "execution_count": 15,
   "metadata": {},
   "outputs": [],
   "source": [
    "class Car:\n",
    "    weight = 4000\n",
    "    num_wheels = 4\n",
    "    \n",
    "    def calc_weight_per_wheel(self):\n",
    "        return self.weight / self.num_wheels"
   ]
  },
  {
   "cell_type": "code",
   "execution_count": 16,
   "metadata": {},
   "outputs": [
    {
     "data": {
      "text/plain": [
       "1000.0"
      ]
     },
     "execution_count": 16,
     "metadata": {},
     "output_type": "execute_result"
    }
   ],
   "source": [
    "my_car = Car()\n",
    "my_car.calc_weight_per_wheel()"
   ]
  },
  {
   "cell_type": "code",
   "execution_count": 22,
   "metadata": {},
   "outputs": [],
   "source": [
    "class Car:\n",
    "    weight = 4000\n",
    "    num_wheels = 4\n",
    "    \n",
    "    def __init__(self, car_name='NoName'):\n",
    "        self.name = car_name\n",
    "    \n",
    "    def calc_weight_per_wheel(self):\n",
    "        return self.weight / self.num_wheels\n",
    "\n",
    "default_car = Car()"
   ]
  },
  {
   "cell_type": "code",
   "execution_count": 23,
   "metadata": {},
   "outputs": [
    {
     "data": {
      "text/plain": [
       "'NoName'"
      ]
     },
     "execution_count": 23,
     "metadata": {},
     "output_type": "execute_result"
    }
   ],
   "source": [
    "default_car.name"
   ]
  },
  {
   "cell_type": "code",
   "execution_count": 25,
   "metadata": {},
   "outputs": [
    {
     "data": {
      "text/plain": [
       "'DeLorean'"
      ]
     },
     "execution_count": 25,
     "metadata": {},
     "output_type": "execute_result"
    }
   ],
   "source": [
    "my_car = Car('DeLorean')\n",
    "my_car.name"
   ]
  },
  {
   "cell_type": "markdown",
   "metadata": {},
   "source": [
    "### 問題.1\n",
    "ねこは、ニャーと鳴く4本足の動物です。これをもとに、ねこのクラスを作って下さい。ただし、メソッドは作らず、データ属性のみで作成して下さい。"
   ]
  },
  {
   "cell_type": "code",
   "execution_count": 35,
   "metadata": {},
   "outputs": [
    {
     "data": {
      "text/plain": [
       "'鳴き声: ニャー, 足の数: 4, 動物: True'"
      ]
     },
     "execution_count": 35,
     "metadata": {},
     "output_type": "execute_result"
    }
   ],
   "source": [
    "class Cat:\n",
    "    voice = \"ニャー\"\n",
    "    num_of_legs = 4\n",
    "\n",
    "    def is_animal(self):\n",
    "        return True\n",
    "\n",
    "tama = Cat()\n",
    "\"鳴き声: {}, 足の数: {}, 動物: {}\".format(tama.voice, tama.num_of_legs, tama.is_animal())\n",
    "    "
   ]
  },
  {
   "cell_type": "markdown",
   "metadata": {},
   "source": [
    "### 問題.2\n",
    "次のような4つの属性をもつ、Person というクラスを作成して下さい。ただし、生成されるインスタンスは、様々な名前や国籍、生年、住所の場合があり得ることを想定して下さい。更に、これらの属性を示すための show_attribute() というメソッドを持たせて下さい。\n",
    "名前 国籍 生年 住所\n",
    "\n",
    "コーディングの際は、次のような英語名を使って下さい。\n",
    "\n",
    "|名前|英語|\n",
    "|---|---|\n",
    "|名前|name|\n",
    "|国籍|nationality|\n",
    "|生年|birth|\n",
    "|住所|address|"
   ]
  },
  {
   "cell_type": "code",
   "execution_count": 44,
   "metadata": {},
   "outputs": [],
   "source": [
    "class Person:\n",
    "    def __init__(self,\n",
    "                 name = \"\",\n",
    "                 nationality = \"\",\n",
    "                 birth = \"\",\n",
    "                 address = \"\"):\n",
    "        self.name = name\n",
    "        self.nationality = nationality\n",
    "        self.birth = birth\n",
    "        self.address = address\n",
    "\n",
    "    def show_attribute(self):\n",
    "        print(\"名前:\", self.name)\n",
    "        print(\"国籍:\", self.nationality)\n",
    "        print(\"生年:\", self.birth)\n",
    "        print(\"住所:\", self.address)\n"
   ]
  },
  {
   "cell_type": "code",
   "execution_count": 45,
   "metadata": {},
   "outputs": [
    {
     "name": "stdout",
     "output_type": "stream",
     "text": [
      "名前: Mike\n",
      "国籍: USA\n",
      "生年: 1970\n",
      "住所: NY\n"
     ]
    }
   ],
   "source": [
    "he = Person(\"Mike\", \"USA\", \"1970\", \"NY\")\n",
    "he.show_attribute()"
   ]
  },
  {
   "cell_type": "markdown",
   "metadata": {},
   "source": [
    "## 6.2 クラス変数とインスタンス変数"
   ]
  },
  {
   "cell_type": "markdown",
   "metadata": {},
   "source": [
    "### インスタンス変数"
   ]
  },
  {
   "cell_type": "code",
   "execution_count": 56,
   "metadata": {},
   "outputs": [],
   "source": [
    "class MyClass1:\n",
    "    def __init__(self, text=\"abc\"):\n",
    "        self.text = text\n",
    "\n",
    "a = MyClass1()\n",
    "b = MyClass1(text=\"ggg\")\n",
    "c = MyClass1(text=\"uds\")"
   ]
  },
  {
   "cell_type": "code",
   "execution_count": 58,
   "metadata": {},
   "outputs": [
    {
     "name": "stdout",
     "output_type": "stream",
     "text": [
      "abc\n",
      "ggg\n",
      "uds\n"
     ]
    }
   ],
   "source": [
    "print(a.text)\n",
    "print(b.text)\n",
    "print(c.text)"
   ]
  },
  {
   "cell_type": "code",
   "execution_count": 59,
   "metadata": {},
   "outputs": [
    {
     "data": {
      "text/plain": [
       "'xyz'"
      ]
     },
     "execution_count": 59,
     "metadata": {},
     "output_type": "execute_result"
    }
   ],
   "source": [
    "a.text = \"xyz\"\n",
    "a.text"
   ]
  },
  {
   "cell_type": "code",
   "execution_count": 60,
   "metadata": {},
   "outputs": [
    {
     "data": {
      "text/plain": [
       "'another text'"
      ]
     },
     "execution_count": 60,
     "metadata": {},
     "output_type": "execute_result"
    }
   ],
   "source": [
    "a.new_text = \"another text\"\n",
    "a.new_text"
   ]
  },
  {
   "cell_type": "markdown",
   "metadata": {},
   "source": [
    "### クラス変数"
   ]
  },
  {
   "cell_type": "code",
   "execution_count": 61,
   "metadata": {},
   "outputs": [
    {
     "name": "stdout",
     "output_type": "stream",
     "text": [
      "class_value\n"
     ]
    }
   ],
   "source": [
    "class MyClass2:\n",
    "    common_text = \"class_value\"\n",
    "\n",
    "print(MyClass2.common_text)"
   ]
  },
  {
   "cell_type": "code",
   "execution_count": 62,
   "metadata": {},
   "outputs": [
    {
     "data": {
      "text/plain": [
       "'New class value'"
      ]
     },
     "execution_count": 62,
     "metadata": {},
     "output_type": "execute_result"
    }
   ],
   "source": [
    "MyClass2.common_text = \"New class value\"\n",
    "MyClass2.common_text"
   ]
  },
  {
   "cell_type": "code",
   "execution_count": 63,
   "metadata": {},
   "outputs": [
    {
     "data": {
      "text/plain": [
       "'Another attribute member'"
      ]
     },
     "execution_count": 63,
     "metadata": {},
     "output_type": "execute_result"
    }
   ],
   "source": [
    "MyClass2.new_common_text = \"Another attribute member\"\n",
    "MyClass2.new_common_text"
   ]
  },
  {
   "cell_type": "markdown",
   "metadata": {},
   "source": [
    "### クラス変数の上書きに関する注意"
   ]
  },
  {
   "cell_type": "code",
   "execution_count": 66,
   "metadata": {},
   "outputs": [],
   "source": [
    "class Triangle:\n",
    "    num_tri = 0\n",
    "    \n",
    "    def __init__(self, base=0, height=0):\n",
    "        self.base = base\n",
    "        self.height = height\n",
    "        Triangle.num_tri += 1\n",
    "\n",
    "    def find_area(self):\n",
    "        b = self.base\n",
    "        h = self.height\n",
    "        return b * h / 2.0"
   ]
  },
  {
   "cell_type": "code",
   "execution_count": 67,
   "metadata": {},
   "outputs": [
    {
     "data": {
      "text/plain": [
       "0.5"
      ]
     },
     "execution_count": 67,
     "metadata": {},
     "output_type": "execute_result"
    }
   ],
   "source": [
    "t1 = Triangle(1, 1)\n",
    "t1.find_area()"
   ]
  },
  {
   "cell_type": "code",
   "execution_count": 68,
   "metadata": {},
   "outputs": [
    {
     "data": {
      "text/plain": [
       "1"
      ]
     },
     "execution_count": 68,
     "metadata": {},
     "output_type": "execute_result"
    }
   ],
   "source": [
    "Triangle.num_tri"
   ]
  },
  {
   "cell_type": "code",
   "execution_count": 69,
   "metadata": {},
   "outputs": [
    {
     "data": {
      "text/plain": [
       "2"
      ]
     },
     "execution_count": 69,
     "metadata": {},
     "output_type": "execute_result"
    }
   ],
   "source": [
    "t2 = Triangle(2, 2)\n",
    "Triangle.num_tri"
   ]
  },
  {
   "cell_type": "code",
   "execution_count": 70,
   "metadata": {},
   "outputs": [
    {
     "data": {
      "text/plain": [
       "3"
      ]
     },
     "execution_count": 70,
     "metadata": {},
     "output_type": "execute_result"
    }
   ],
   "source": [
    "t3 = Triangle(3, 5)\n",
    "Triangle.num_tri"
   ]
  },
  {
   "cell_type": "code",
   "execution_count": 72,
   "metadata": {},
   "outputs": [
    {
     "data": {
      "text/plain": [
       "(3, 3, 3, 3)"
      ]
     },
     "execution_count": 72,
     "metadata": {},
     "output_type": "execute_result"
    }
   ],
   "source": [
    "t1.num_tri, t2.num_tri, t3.num_tri, Triangle.num_tri"
   ]
  },
  {
   "cell_type": "code",
   "execution_count": 73,
   "metadata": {},
   "outputs": [
    {
     "data": {
      "text/plain": [
       "(5, 3, 3, 3)"
      ]
     },
     "execution_count": 73,
     "metadata": {},
     "output_type": "execute_result"
    }
   ],
   "source": [
    "t1.num_tri = 5\n",
    "t1.num_tri, t2.num_tri, t3.num_tri, Triangle.num_tri"
   ]
  },
  {
   "cell_type": "code",
   "execution_count": 74,
   "metadata": {},
   "outputs": [
    {
     "data": {
      "text/plain": [
       "(5, 6, 6, 6)"
      ]
     },
     "execution_count": 74,
     "metadata": {},
     "output_type": "execute_result"
    }
   ],
   "source": [
    "Triangle.num_tri = 6\n",
    "t1.num_tri, t2.num_tri, t3.num_tri, Triangle.num_tri"
   ]
  },
  {
   "cell_type": "markdown",
   "metadata": {},
   "source": [
    "### 変数やメソッドの隠蔽方法"
   ]
  },
  {
   "cell_type": "code",
   "execution_count": 75,
   "metadata": {},
   "outputs": [],
   "source": [
    "class Sample:\n",
    "    def __init__(self):\n",
    "        self.a = 1\n",
    "        self._b = 1\n",
    "        self.__c = 1\n",
    "        self.__d_ = 1\n",
    "        self.__e__ = 1\n",
    "    \n",
    "    def show_attribute(self):\n",
    "        a = self.a\n",
    "        b = self._b\n",
    "        c = self.__c\n",
    "        d = self.__d_\n",
    "        e = self.__e__\n",
    "        print(\"a: {}, b: {}, c: {}, d: {}, e: {}\".format(a, b, c, d, e))"
   ]
  },
  {
   "cell_type": "code",
   "execution_count": 77,
   "metadata": {},
   "outputs": [
    {
     "name": "stdout",
     "output_type": "stream",
     "text": [
      "a: 1, b: 1, c: 1, d: 1, e: 1\n"
     ]
    }
   ],
   "source": [
    "s = Sample()\n",
    "s.show_attribute()"
   ]
  },
  {
   "cell_type": "code",
   "execution_count": 78,
   "metadata": {},
   "outputs": [
    {
     "data": {
      "text/plain": [
       "1"
      ]
     },
     "execution_count": 78,
     "metadata": {},
     "output_type": "execute_result"
    }
   ],
   "source": [
    "s.a"
   ]
  },
  {
   "cell_type": "code",
   "execution_count": 79,
   "metadata": {},
   "outputs": [
    {
     "data": {
      "text/plain": [
       "1"
      ]
     },
     "execution_count": 79,
     "metadata": {},
     "output_type": "execute_result"
    }
   ],
   "source": [
    "s._b"
   ]
  },
  {
   "cell_type": "code",
   "execution_count": 80,
   "metadata": {},
   "outputs": [
    {
     "ename": "AttributeError",
     "evalue": "'Sample' object has no attribute '__c'",
     "output_type": "error",
     "traceback": [
      "\u001b[1;31m---------------------------------------------------------------------------\u001b[0m",
      "\u001b[1;31mAttributeError\u001b[0m                            Traceback (most recent call last)",
      "\u001b[1;32m<ipython-input-80-85e4a3ad4e9c>\u001b[0m in \u001b[0;36m<module>\u001b[1;34m\u001b[0m\n\u001b[1;32m----> 1\u001b[1;33m \u001b[0ms\u001b[0m\u001b[1;33m.\u001b[0m\u001b[0m__c\u001b[0m\u001b[1;33m\u001b[0m\u001b[1;33m\u001b[0m\u001b[0m\n\u001b[0m",
      "\u001b[1;31mAttributeError\u001b[0m: 'Sample' object has no attribute '__c'"
     ]
    }
   ],
   "source": [
    "s.__c"
   ]
  },
  {
   "cell_type": "code",
   "execution_count": 81,
   "metadata": {},
   "outputs": [
    {
     "ename": "AttributeError",
     "evalue": "'Sample' object has no attribute '__d_'",
     "output_type": "error",
     "traceback": [
      "\u001b[1;31m---------------------------------------------------------------------------\u001b[0m",
      "\u001b[1;31mAttributeError\u001b[0m                            Traceback (most recent call last)",
      "\u001b[1;32m<ipython-input-81-0ede55bd86f9>\u001b[0m in \u001b[0;36m<module>\u001b[1;34m\u001b[0m\n\u001b[1;32m----> 1\u001b[1;33m \u001b[0ms\u001b[0m\u001b[1;33m.\u001b[0m\u001b[0m__d_\u001b[0m\u001b[1;33m\u001b[0m\u001b[1;33m\u001b[0m\u001b[0m\n\u001b[0m",
      "\u001b[1;31mAttributeError\u001b[0m: 'Sample' object has no attribute '__d_'"
     ]
    }
   ],
   "source": [
    "s.__d_"
   ]
  },
  {
   "cell_type": "code",
   "execution_count": 82,
   "metadata": {},
   "outputs": [
    {
     "data": {
      "text/plain": [
       "1"
      ]
     },
     "execution_count": 82,
     "metadata": {},
     "output_type": "execute_result"
    }
   ],
   "source": [
    "s.__e__"
   ]
  },
  {
   "cell_type": "code",
   "execution_count": 83,
   "metadata": {},
   "outputs": [
    {
     "data": {
      "text/plain": [
       "['_Sample__c',\n",
       " '_Sample__d_',\n",
       " '__class__',\n",
       " '__delattr__',\n",
       " '__dict__',\n",
       " '__dir__',\n",
       " '__doc__',\n",
       " '__e__',\n",
       " '__eq__',\n",
       " '__format__',\n",
       " '__ge__',\n",
       " '__getattribute__',\n",
       " '__gt__',\n",
       " '__hash__',\n",
       " '__init__',\n",
       " '__init_subclass__',\n",
       " '__le__',\n",
       " '__lt__',\n",
       " '__module__',\n",
       " '__ne__',\n",
       " '__new__',\n",
       " '__reduce__',\n",
       " '__reduce_ex__',\n",
       " '__repr__',\n",
       " '__setattr__',\n",
       " '__sizeof__',\n",
       " '__str__',\n",
       " '__subclasshook__',\n",
       " '__weakref__',\n",
       " '_b',\n",
       " 'a',\n",
       " 'show_attribute']"
      ]
     },
     "execution_count": 83,
     "metadata": {},
     "output_type": "execute_result"
    }
   ],
   "source": [
    "dir(s)"
   ]
  },
  {
   "cell_type": "code",
   "execution_count": 86,
   "metadata": {},
   "outputs": [
    {
     "data": {
      "text/plain": [
       "(2, 2, 2, 2, 2)"
      ]
     },
     "execution_count": 86,
     "metadata": {},
     "output_type": "execute_result"
    }
   ],
   "source": [
    "s.a = 2\n",
    "s._b = 2\n",
    "s.__c = 2\n",
    "s.__d_ = 2\n",
    "s.__e__ = 2\n",
    "s.a, s._b, s.__c, s.__d_, s.__e__"
   ]
  },
  {
   "cell_type": "code",
   "execution_count": 87,
   "metadata": {},
   "outputs": [
    {
     "data": {
      "text/plain": [
       "(1, 1)"
      ]
     },
     "execution_count": 87,
     "metadata": {},
     "output_type": "execute_result"
    }
   ],
   "source": [
    "s._Sample__c, s._Sample__d_"
   ]
  },
  {
   "cell_type": "code",
   "execution_count": 88,
   "metadata": {},
   "outputs": [
    {
     "data": {
      "text/plain": [
       "['_Sample__c',\n",
       " '_Sample__d_',\n",
       " '__c',\n",
       " '__class__',\n",
       " '__d_',\n",
       " '__delattr__',\n",
       " '__dict__',\n",
       " '__dir__',\n",
       " '__doc__',\n",
       " '__e__',\n",
       " '__eq__',\n",
       " '__format__',\n",
       " '__ge__',\n",
       " '__getattribute__',\n",
       " '__gt__',\n",
       " '__hash__',\n",
       " '__init__',\n",
       " '__init_subclass__',\n",
       " '__le__',\n",
       " '__lt__',\n",
       " '__module__',\n",
       " '__ne__',\n",
       " '__new__',\n",
       " '__reduce__',\n",
       " '__reduce_ex__',\n",
       " '__repr__',\n",
       " '__setattr__',\n",
       " '__sizeof__',\n",
       " '__str__',\n",
       " '__subclasshook__',\n",
       " '__weakref__',\n",
       " '_b',\n",
       " 'a',\n",
       " 'show_attribute']"
      ]
     },
     "execution_count": 88,
     "metadata": {},
     "output_type": "execute_result"
    }
   ],
   "source": [
    "dir(s)"
   ]
  },
  {
   "cell_type": "markdown",
   "metadata": {},
   "source": [
    "### 問題.1\n",
    "円柱を表すクラスを作成してください。円柱を半径と高さによって特徴づけて、任意の半径と高さを持つ円柱について、表面積と体積を計算してください。"
   ]
  },
  {
   "cell_type": "code",
   "execution_count": 101,
   "metadata": {},
   "outputs": [],
   "source": [
    "class Cylinder:\n",
    "    ''' 円柱 '''\n",
    "    def __init__(self, radius, height):\n",
    "        self.radius = radius\n",
    "        self.height = height\n",
    "    \n",
    "    def calc_surface_area(self):\n",
    "        return self.radius * 2.0 * 3.14 * self.height\n",
    "    \n",
    "    def calc_volume(self):\n",
    "        return self.radius * self.radius * 3.14 * self.height\n"
   ]
  },
  {
   "cell_type": "code",
   "execution_count": 102,
   "metadata": {},
   "outputs": [
    {
     "data": {
      "text/plain": [
       "6.28"
      ]
     },
     "execution_count": 102,
     "metadata": {},
     "output_type": "execute_result"
    }
   ],
   "source": [
    "c = Cylinder(1, 1)\n",
    "c.calc_surface_area()"
   ]
  },
  {
   "cell_type": "markdown",
   "metadata": {},
   "source": []
  },
  {
   "cell_type": "code",
   "execution_count": 103,
   "metadata": {},
   "outputs": [
    {
     "data": {
      "text/plain": [
       "3.14"
      ]
     },
     "execution_count": 103,
     "metadata": {},
     "output_type": "execute_result"
    }
   ],
   "source": [
    "c.calc_volume()"
   ]
  },
  {
   "cell_type": "code",
   "execution_count": 106,
   "metadata": {},
   "outputs": [],
   "source": [
    "class Cylinder:\n",
    "    ''' 円柱 '''\n",
    "    pi = 3.1416\n",
    "\n",
    "    def __init__(self, radius, height):\n",
    "        self.radius = radius\n",
    "        self.height = height\n",
    "\n",
    "    def calc_base_area(self):\n",
    "        return self.radius * self.radius * 3.14\n",
    "\n",
    "    def calc_side_area(self):\n",
    "        return self.radius * 2.0 * 3.14 * self.height\n",
    "    \n",
    "    def calc_surface_area(self):\n",
    "        return self.calc_base_area() * 2 + self.calc_side_area()\n",
    "    \n",
    "    def calc_volume(self):\n",
    "        return self.calc_base_area()* self.height\n",
    "\n",
    "    def show_results(self):\n",
    "        r = self.radius\n",
    "        h = self.height\n",
    "        S = self.calc_surface_area()\n",
    "        V = self.calc_volume()\n",
    "        print(\"半径: {}, 高さ: {}, 表面積: {}, 体積: {}\".format(r, h, S, V))"
   ]
  },
  {
   "cell_type": "code",
   "execution_count": 107,
   "metadata": {},
   "outputs": [
    {
     "name": "stdout",
     "output_type": "stream",
     "text": [
      "半径: 2, 高さ: 2, 表面積: 50.24, 体積: 25.12\n"
     ]
    }
   ],
   "source": [
    "c2 = Cylinder(2, 2)\n",
    "c2.show_results()"
   ]
  },
  {
   "cell_type": "code",
   "execution_count": 109,
   "metadata": {},
   "outputs": [
    {
     "name": "stdout",
     "output_type": "stream",
     "text": [
      "半径: 1, 高さ: 1, 表面積: 12.56, 体積: 3.14\n"
     ]
    }
   ],
   "source": [
    "c1 = Cylinder(1, 1)\n",
    "c1.show_results()"
   ]
  },
  {
   "cell_type": "markdown",
   "metadata": {},
   "source": [
    "## 6.3 継承"
   ]
  },
  {
   "cell_type": "markdown",
   "metadata": {},
   "source": [
    "### もっとも単純な継承"
   ]
  },
  {
   "cell_type": "code",
   "execution_count": 4,
   "metadata": {},
   "outputs": [],
   "source": [
    "class Nigiri:\n",
    "    category = \"にぎり\"\n",
    "    top = \"ねた\"\n",
    "    base = \"しゃり\"\n",
    "    \n",
    "    def show_attributes(self):\n",
    "        print(\"top: {}, base: {}, category: {}\".format(self.top, self.base, self.category))\n",
    "    "
   ]
  },
  {
   "cell_type": "code",
   "execution_count": 5,
   "metadata": {},
   "outputs": [
    {
     "name": "stdout",
     "output_type": "stream",
     "text": [
      "top: ねた, base: しゃり, category: にぎり\n"
     ]
    }
   ],
   "source": [
    "n1 = Nigiri()\n",
    "n1.show_attributes()"
   ]
  },
  {
   "cell_type": "code",
   "execution_count": 6,
   "metadata": {},
   "outputs": [],
   "source": [
    "class Maguro(Nigiri):\n",
    "    pass"
   ]
  },
  {
   "cell_type": "code",
   "execution_count": 8,
   "metadata": {},
   "outputs": [
    {
     "name": "stdout",
     "output_type": "stream",
     "text": [
      "top: ねた, base: しゃり, category: にぎり\n"
     ]
    }
   ],
   "source": [
    "m1 = Maguro()\n",
    "m1.show_attributes()"
   ]
  },
  {
   "cell_type": "markdown",
   "metadata": {},
   "source": [
    "### クラス変数の上書き"
   ]
  },
  {
   "cell_type": "code",
   "execution_count": 9,
   "metadata": {},
   "outputs": [
    {
     "name": "stdout",
     "output_type": "stream",
     "text": [
      "top: まぐろ, base: しゃり, category: にぎり\n"
     ]
    }
   ],
   "source": [
    "class Maguro(Nigiri):\n",
    "    top = \"まぐろ\"\n",
    "    \n",
    "m3 = Maguro()\n",
    "m3.show_attributes()"
   ]
  },
  {
   "cell_type": "markdown",
   "metadata": {},
   "source": [
    "### クラス変数の追加"
   ]
  },
  {
   "cell_type": "code",
   "execution_count": 11,
   "metadata": {},
   "outputs": [
    {
     "name": "stdout",
     "output_type": "stream",
     "text": [
      "top: まぐろ, base: しゃり, category: にぎり\n"
     ]
    }
   ],
   "source": [
    "class Maguro(Nigiri):\n",
    "    top = \"まぐろ\"\n",
    "    price = 100\n",
    "\n",
    "m4 = Maguro()\n",
    "m4.show_attributes()"
   ]
  },
  {
   "cell_type": "markdown",
   "metadata": {},
   "source": [
    "### メソッドの上書き"
   ]
  },
  {
   "cell_type": "code",
   "execution_count": 12,
   "metadata": {},
   "outputs": [
    {
     "name": "stdout",
     "output_type": "stream",
     "text": [
      "top: まぐろ, base: しゃり\n",
      "price: 100円\n"
     ]
    }
   ],
   "source": [
    "class Maguro(Nigiri):\n",
    "    top = \"まぐろ\"\n",
    "    price = 100\n",
    "    \n",
    "    def show_attributes(self):\n",
    "        print(\"top: {}, base: {}\".format(self.top, self.base))\n",
    "        print(\"price: {}円\".format(self.price))\n",
    "\n",
    "m4 = Maguro()\n",
    "m4.show_attributes()"
   ]
  },
  {
   "cell_type": "markdown",
   "metadata": {},
   "source": [
    "### 親を呼び出す関数 super()"
   ]
  },
  {
   "cell_type": "code",
   "execution_count": 13,
   "metadata": {},
   "outputs": [
    {
     "name": "stdout",
     "output_type": "stream",
     "text": [
      "top: まぐろ, base: しゃり, category: にぎり\n",
      "price: 100円\n"
     ]
    }
   ],
   "source": [
    "class Maguro(Nigiri):\n",
    "    top = \"まぐろ\"\n",
    "    price = 100\n",
    "    \n",
    "    def show_attributes(self):\n",
    "        super().show_attributes()\n",
    "        print(\"price: {}円\".format(self.price))\n",
    "\n",
    "m5 = Maguro()\n",
    "m5.show_attributes()"
   ]
  },
  {
   "cell_type": "markdown",
   "metadata": {},
   "source": [
    "### メソッドの追加"
   ]
  },
  {
   "cell_type": "code",
   "execution_count": 15,
   "metadata": {},
   "outputs": [
    {
     "name": "stdout",
     "output_type": "stream",
     "text": [
      "top: まぐろ, base: しゃり, category: にぎり\n",
      "1皿(2かん)の値段: 200円\n"
     ]
    }
   ],
   "source": [
    "class Maguro(Nigiri):\n",
    "    top = \"まぐろ\"\n",
    "    price = 100\n",
    "    \n",
    "    def show_attributes(self):\n",
    "        super().show_attributes()\n",
    "\n",
    "    def show_one_dish_price(self, num_nigiri=2):\n",
    "        result = self.price * num_nigiri\n",
    "        print(\"1皿({}かん)の値段: {}円\".format(num_nigiri, result))\n",
    "\n",
    "m5 = Maguro()\n",
    "m5.show_attributes()\n",
    "m5.show_one_dish_price()"
   ]
  },
  {
   "cell_type": "markdown",
   "metadata": {},
   "source": [
    "### インスタンス変数の追加"
   ]
  },
  {
   "cell_type": "code",
   "execution_count": 17,
   "metadata": {},
   "outputs": [],
   "source": [
    "class NigiriNew(Nigiri):\n",
    "    \n",
    "    def __init__(self, wasabi=\"わさび抜き\"):\n",
    "        self.wasabi = wasabi\n",
    "        \n",
    "    def show_attributes(self):\n",
    "        super().show_attributes()\n",
    "        print(\"wasabi: {}\".format(self.wasabi))"
   ]
  },
  {
   "cell_type": "code",
   "execution_count": 18,
   "metadata": {},
   "outputs": [
    {
     "name": "stdout",
     "output_type": "stream",
     "text": [
      "top: まぐろ, base: しゃり, category: にぎり\n",
      "wasabi: わさび入り\n",
      "price: 100円\n"
     ]
    }
   ],
   "source": [
    "class Maguro(NigiriNew):\n",
    "    top = \"まぐろ\"\n",
    "    price = 100\n",
    "    \n",
    "    def show_attributes(self):\n",
    "        super().show_attributes()\n",
    "        print(\"price: {}円\".format(self.price))\n",
    "\n",
    "    def show_one_dish_price(self, num_nigiri=2):\n",
    "        result = self.price * num_nigiri\n",
    "        print(\"1皿({}かん)の値段: {}円\".format(num_nigiri, result))\n",
    "        \n",
    "m6 = Maguro(\"わさび入り\")\n",
    "m6.show_attributes()"
   ]
  },
  {
   "cell_type": "markdown",
   "metadata": {},
   "source": [
    "### 多重継承"
   ]
  },
  {
   "cell_type": "code",
   "execution_count": 20,
   "metadata": {},
   "outputs": [
    {
     "name": "stdout",
     "output_type": "stream",
     "text": [
      "Musician リズム・メロディー・ハーモニー\n",
      "コードを書く\n",
      "楽器を演奏する\n"
     ]
    }
   ],
   "source": [
    "class Programmer:\n",
    "    def __init__(self):\n",
    "        self.skill = \"プログラミング\"\n",
    "        print('Programmer', self.skill)\n",
    "    \n",
    "    def make_code(self):\n",
    "        print(\"コードを書く\")\n",
    "        \n",
    "class Musician:\n",
    "    def __init__(self):\n",
    "        self.skill = \"リズム・メロディー・ハーモニー\"\n",
    "        print('Musician', self.skill)\n",
    "        \n",
    "    def play_instrument(self):\n",
    "        print(\"楽器を演奏する\")\n",
    "        \n",
    "class MusicianProgrammer(Musician, Programmer):\n",
    "    pass\n",
    "\n",
    "mp1 = MusicianProgrammer()\n",
    "mp1.make_code()\n",
    "mp1.play_instrument()"
   ]
  },
  {
   "cell_type": "code",
   "execution_count": 21,
   "metadata": {},
   "outputs": [
    {
     "name": "stdout",
     "output_type": "stream",
     "text": [
      "Programmer プログラミング\n",
      "コードを書く\n",
      "楽器を演奏する\n"
     ]
    }
   ],
   "source": [
    "class MusicianProgrammer(Programmer, Musician):\n",
    "    pass\n",
    "\n",
    "mp1 = MusicianProgrammer()\n",
    "mp1.make_code()\n",
    "mp1.play_instrument()"
   ]
  },
  {
   "cell_type": "markdown",
   "metadata": {},
   "source": [
    "### 問題.1\n",
    "にぎり寿司のかつおのクラスを考えます。にぎり寿司のかつおは赤身をネタとしているところはまぐろとおなじですが、生姜とネギのトッピングが加わります。Nigiri のクラスを継承して、かつおのクラスを作って下さい。\n",
    "なお、show_attributes() というメソッドで特性を表示するようにして下さい。"
   ]
  },
  {
   "cell_type": "code",
   "execution_count": 28,
   "metadata": {},
   "outputs": [],
   "source": [
    "class Katsuo(Nigiri):\n",
    "    top = \"かつお\"\n",
    "    topping = \"生姜とネギ\"\n",
    "    price = 100\n",
    "    \n",
    "    def show_attributes(self):\n",
    "        super().show_attributes()\n",
    "        print(\"topping: {}\".format(self.topping))"
   ]
  },
  {
   "cell_type": "code",
   "execution_count": 29,
   "metadata": {},
   "outputs": [
    {
     "name": "stdout",
     "output_type": "stream",
     "text": [
      "top: かつお, base: しゃり, category: にぎり\n",
      "topping: 生姜とネギ\n"
     ]
    }
   ],
   "source": [
    "k1 = Katsuo()\n",
    "k1.show_attributes()"
   ]
  },
  {
   "cell_type": "markdown",
   "metadata": {},
   "source": [
    "### 問題.2\n",
    "長方形のクラスを継承して、製法家のクラスを作成して下さい。\n",
    "長方形は、幅と高さで特徴付けることが出来、正方形は幅のみで特徴付けるものとします。\n",
    "長方形も正方形も、週の長さと面積を計算できるメソッドをもつものとします。"
   ]
  },
  {
   "cell_type": "code",
   "execution_count": 35,
   "metadata": {},
   "outputs": [],
   "source": [
    "class Rectangle():\n",
    "    '''長方形'''\n",
    "    angle = 90\n",
    "    \n",
    "    def __init__(self, width, height):\n",
    "        self.name = \"Rectangle\"\n",
    "        self.width = width\n",
    "        self.height = height\n",
    "        self.perimeter = self.calc_perimeter()\n",
    "        self.area = self.calc_area()\n",
    "    \n",
    "    def calc_perimeter(self):\n",
    "        return (self.width + self.height) * 2\n",
    "    \n",
    "    def calc_area(self):\n",
    "        return self.width * self.height\n",
    "    \n",
    "    def show_attributes(self):\n",
    "        print(\"name: {}, width: {}, height: {}, angle: {}\".format(self.name, self.width, self.height, self.angle))\n",
    "        print(\"perimeter: {}, area: {}\".format(self.perimeter, self.area))"
   ]
  },
  {
   "cell_type": "code",
   "execution_count": 37,
   "metadata": {},
   "outputs": [
    {
     "name": "stdout",
     "output_type": "stream",
     "text": [
      "name: Rectangle, width: 3, height: 4, angle: 90\n",
      "perimeter: 14, area: 12\n"
     ]
    }
   ],
   "source": [
    "r1 = Rectangle(3, 4)\n",
    "r1.show_attributes()"
   ]
  },
  {
   "cell_type": "code",
   "execution_count": 41,
   "metadata": {},
   "outputs": [
    {
     "name": "stdout",
     "output_type": "stream",
     "text": [
      "name: Square, width: 4, height: 4, angle: 90\n",
      "perimeter: 16, area: 16\n"
     ]
    }
   ],
   "source": [
    "class Square(Rectangle):\n",
    "    '''正方形'''\n",
    "    def __init__(self, width):\n",
    "        super().__init__(width, width)\n",
    "        self.name = \"Square\"\n",
    "\n",
    "s1 = Square(4)\n",
    "s1.show_attributes()"
   ]
  },
  {
   "cell_type": "code",
   "execution_count": 45,
   "metadata": {},
   "outputs": [],
   "source": [
    "class Square2(Rectangle):\n",
    "    '''正方形'''\n",
    "    def __init__(self, width):\n",
    "        self.name = \"Square\"\n",
    "        self.width = width\n",
    "        self.height = width\n",
    "        self.perimeter = self.calc_perimeter()\n",
    "        self.area = self.calc_area()"
   ]
  },
  {
   "cell_type": "code",
   "execution_count": 46,
   "metadata": {},
   "outputs": [
    {
     "name": "stdout",
     "output_type": "stream",
     "text": [
      "name: Square, width: 5, height: 5, angle: 90\n",
      "perimeter: 20, area: 25\n"
     ]
    }
   ],
   "source": [
    "s2 = Square2(5)\n",
    "s2.show_attributes()"
   ]
  },
  {
   "cell_type": "markdown",
   "metadata": {},
   "source": [
    "## 6.4 反復子とジェネレータ"
   ]
  },
  {
   "cell_type": "markdown",
   "metadata": {},
   "source": [
    "### 反復子(イテレータ)とは ～ for の舞台裏"
   ]
  },
  {
   "cell_type": "code",
   "execution_count": 1,
   "metadata": {},
   "outputs": [
    {
     "name": "stdout",
     "output_type": "stream",
     "text": [
      "0 1 2 "
     ]
    }
   ],
   "source": [
    "for i in range(3):\n",
    "    print(i, end=\" \")"
   ]
  },
  {
   "cell_type": "code",
   "execution_count": 2,
   "metadata": {},
   "outputs": [
    {
     "name": "stdout",
     "output_type": "stream",
     "text": [
      "1 2 3 "
     ]
    }
   ],
   "source": [
    "for j in [1, 2, 3]:\n",
    "    print(j, end = \" \")"
   ]
  },
  {
   "cell_type": "code",
   "execution_count": 4,
   "metadata": {},
   "outputs": [
    {
     "name": "stdout",
     "output_type": "stream",
     "text": [
      "<list_iterator object at 0x0000018B69D2B710>\n"
     ]
    },
    {
     "data": {
      "text/plain": [
       "0"
      ]
     },
     "execution_count": 4,
     "metadata": {},
     "output_type": "execute_result"
    }
   ],
   "source": [
    "# シーケンスからイテレータオブジェクトを生成する\n",
    "itr = iter([0, 1, 2])\n",
    "\n",
    "# 次の値を参照する\n",
    "print(itr)\n",
    "next(itr)"
   ]
  },
  {
   "cell_type": "code",
   "execution_count": 5,
   "metadata": {},
   "outputs": [
    {
     "data": {
      "text/plain": [
       "1"
      ]
     },
     "execution_count": 5,
     "metadata": {},
     "output_type": "execute_result"
    }
   ],
   "source": [
    "# 次の値を参照する\n",
    "next(itr)"
   ]
  },
  {
   "cell_type": "code",
   "execution_count": 6,
   "metadata": {},
   "outputs": [
    {
     "data": {
      "text/plain": [
       "2"
      ]
     },
     "execution_count": 6,
     "metadata": {},
     "output_type": "execute_result"
    }
   ],
   "source": [
    "# 次の値を参照する\n",
    "next(itr)"
   ]
  },
  {
   "cell_type": "code",
   "execution_count": 7,
   "metadata": {},
   "outputs": [
    {
     "ename": "StopIteration",
     "evalue": "",
     "output_type": "error",
     "traceback": [
      "\u001b[1;31m---------------------------------------------------------------------------\u001b[0m",
      "\u001b[1;31mStopIteration\u001b[0m                             Traceback (most recent call last)",
      "\u001b[1;32m<ipython-input-7-3b66f7ac9fa9>\u001b[0m in \u001b[0;36m<module>\u001b[1;34m\u001b[0m\n\u001b[0;32m      1\u001b[0m \u001b[1;31m# 次の値を参照する\u001b[0m\u001b[1;33m\u001b[0m\u001b[1;33m\u001b[0m\u001b[1;33m\u001b[0m\u001b[0m\n\u001b[1;32m----> 2\u001b[1;33m \u001b[0mnext\u001b[0m\u001b[1;33m(\u001b[0m\u001b[0mitr\u001b[0m\u001b[1;33m)\u001b[0m\u001b[1;33m\u001b[0m\u001b[1;33m\u001b[0m\u001b[0m\n\u001b[0m",
      "\u001b[1;31mStopIteration\u001b[0m: "
     ]
    }
   ],
   "source": [
    "# 次の値を参照する\n",
    "next(itr)"
   ]
  },
  {
   "cell_type": "code",
   "execution_count": 8,
   "metadata": {},
   "outputs": [
    {
     "name": "stdout",
     "output_type": "stream",
     "text": [
      "0\n",
      "1\n",
      "2\n",
      "次はありません\n"
     ]
    }
   ],
   "source": [
    "itr = iter(range(3))\n",
    "d = \"次はありません\"\n",
    "print(next(itr, d))\n",
    "print(next(itr, d))\n",
    "print(next(itr, d))\n",
    "print(next(itr, d))"
   ]
  },
  {
   "cell_type": "markdown",
   "metadata": {},
   "source": [
    "### イテレータオブジェクトの作り方➀ ～ イテレータオブジェクトを生成するクラスを作る"
   ]
  },
  {
   "cell_type": "code",
   "execution_count": 12,
   "metadata": {},
   "outputs": [
    {
     "name": "stdout",
     "output_type": "stream",
     "text": [
      "s p a m "
     ]
    }
   ],
   "source": [
    "class MyIterator:\n",
    "    def __init__(self, data):\n",
    "        self.data = data\n",
    "        self.index = 0\n",
    "        \n",
    "    def __iter__(self):\n",
    "        # MyIterator が __next__() を実装しているので self をイテレータとして返す\n",
    "        return self\n",
    "    \n",
    "    def __next__(self):\n",
    "        if self.index == len(self.data):\n",
    "            raise StopIteration()\n",
    "        value = self.data[self.index]\n",
    "        self.index = self.index + 1\n",
    "        return value\n",
    "    \n",
    "# シーケンスの一例として文字列を渡す\n",
    "itr = MyIterator(\"spam\")\n",
    "for char in itr:\n",
    "    print(char, end = \" \")"
   ]
  },
  {
   "cell_type": "code",
   "execution_count": 19,
   "metadata": {},
   "outputs": [
    {
     "name": "stdout",
     "output_type": "stream",
     "text": [
      "m a p s "
     ]
    }
   ],
   "source": [
    "class Reverse:\n",
    "    def __init__(self, data):\n",
    "        self.data = data\n",
    "        self.index = len(data)\n",
    "        \n",
    "    def __iter__(self):\n",
    "        # MyIterator が __next__() を実装しているので self をイテレータとして返す\n",
    "        return self\n",
    "    \n",
    "    def __next__(self):\n",
    "        if self.index == 0:\n",
    "            raise StopIteration()\n",
    "        self.index = self.index - 1\n",
    "        return self.data[self.index]\n",
    "    \n",
    "# シーケンスの一例として文字列を渡す\n",
    "rev = Reverse(\"spam\")\n",
    "for char in rev:\n",
    "    print(char, end = \" \")"
   ]
  },
  {
   "cell_type": "markdown",
   "metadata": {},
   "source": [
    "### イテレータオブジェクトの作り方② ～ ジェネレータ関数を使って作る"
   ]
  },
  {
   "cell_type": "code",
   "execution_count": 21,
   "metadata": {},
   "outputs": [
    {
     "name": "stdout",
     "output_type": "stream",
     "text": [
      "f l o g "
     ]
    }
   ],
   "source": [
    "def reverse(data):\n",
    "    '''引数に受け取ったシーケンスを逆向きに返す'''\n",
    "    ret = []\n",
    "    for index in range(len(data)-1, -1, -1):\n",
    "        ret.append(data[index])\n",
    "    return ret\n",
    "\n",
    "# リストを for ループの in に添える（for ループで反復子が作られる）\n",
    "for char in reverse('golf'):\n",
    "    print(char, end=\" \")"
   ]
  },
  {
   "cell_type": "code",
   "execution_count": 24,
   "metadata": {},
   "outputs": [
    {
     "name": "stdout",
     "output_type": "stream",
     "text": [
      "f l o g "
     ]
    }
   ],
   "source": [
    "def reverse(data):\n",
    "    for index in range(len(data) - 1, -1, -1):\n",
    "        yield data[index]\n",
    "\n",
    "# ジェネレータを for ループの in に添える\n",
    "for char in reverse('golf'):\n",
    "    print(char, end=\" \")"
   ]
  },
  {
   "cell_type": "markdown",
   "metadata": {},
   "source": [
    "### イテレータオブジェクトの作り方③ ～ ジェネレータ式"
   ]
  },
  {
   "cell_type": "code",
   "execution_count": 26,
   "metadata": {},
   "outputs": [
    {
     "data": {
      "text/plain": [
       "['f', 'l', 'o', 'g']"
      ]
     },
     "execution_count": 26,
     "metadata": {},
     "output_type": "execute_result"
    }
   ],
   "source": [
    "data = 'golf'\n",
    "l = [data[i] for i in range(len(data) - 1, -1, -1)]\n",
    "l"
   ]
  },
  {
   "cell_type": "code",
   "execution_count": 27,
   "metadata": {},
   "outputs": [
    {
     "data": {
      "text/plain": [
       "<generator object <genexpr> at 0x0000018B69DD8E60>"
      ]
     },
     "execution_count": 27,
     "metadata": {},
     "output_type": "execute_result"
    }
   ],
   "source": [
    "g = (data[i] for i in range(len(data) - 1, -1, -1))\n",
    "g"
   ]
  },
  {
   "cell_type": "code",
   "execution_count": 28,
   "metadata": {},
   "outputs": [
    {
     "data": {
      "text/plain": [
       "['f', 'l', 'o', 'g']"
      ]
     },
     "execution_count": 28,
     "metadata": {},
     "output_type": "execute_result"
    }
   ],
   "source": [
    "list(g)"
   ]
  },
  {
   "cell_type": "markdown",
   "metadata": {},
   "source": [
    "### 問題.1\n",
    "100万行からなるファイルの最初の③行を表示するプログラムを作成して下さい。\n",
    "ただし、100万行からなるファイルは、下記の方法で作成したものを使います。"
   ]
  },
  {
   "cell_type": "code",
   "execution_count": 31,
   "metadata": {},
   "outputs": [],
   "source": [
    "import random\n",
    "# 何回実行しても同じ結果になるように乱数の種(seed)を固定する\n",
    "random.seed(1)\n",
    "msgs = [\"Hi\", \"Hello\", \"Good morning\", \"Good night\", \"See you later\", \"How are you\", \"Have a good day\"]\n",
    "with open(\"some.txt\", \"w\") as f:\n",
    "    for i in range(1000000):\n",
    "        f.write(\"{}, {}\\n\".format(i, random.choice(msgs)))"
   ]
  },
  {
   "cell_type": "code",
   "execution_count": 33,
   "metadata": {},
   "outputs": [
    {
     "name": "stdout",
     "output_type": "stream",
     "text": [
      "0, Hello\n",
      " 1, See you later\n",
      " 2, Have a good day\n",
      " "
     ]
    }
   ],
   "source": [
    "with open (\"some.txt\", \"r\") as f:\n",
    "    c = 0\n",
    "    for l in f:\n",
    "        print(l, end =\" \")\n",
    "        if c == 2:\n",
    "            break;\n",
    "        c = c + 1"
   ]
  },
  {
   "cell_type": "code",
   "execution_count": 36,
   "metadata": {},
   "outputs": [
    {
     "name": "stdout",
     "output_type": "stream",
     "text": [
      "0, Hello\n",
      "1, See you later\n",
      "2, Have a good day\n"
     ]
    }
   ],
   "source": [
    "with open (\"some.txt\", \"r\") as f:\n",
    "    for i, l in enumerate(f):\n",
    "        print(l, end = '')\n",
    "        if i == 2:\n",
    "            break"
   ]
  },
  {
   "cell_type": "markdown",
   "metadata": {},
   "source": [
    "### 問題.2\n",
    "素数を返すジェネレータ関数を作成して下さい。素数とは、その関数自身意外に約数を持たない自然数のことです。たとえば、最初の10個の素数は、\n",
    "\n",
    "2,3,5,7,11,13,17,23,29\n",
    "\n",
    "です。素数は無限個あることが証明されています。\n"
   ]
  },
  {
   "cell_type": "code",
   "execution_count": 38,
   "metadata": {},
   "outputs": [],
   "source": [
    "def gen_prime(x=2):\n",
    "    while True:\n",
    "        for i in range(2, x):\n",
    "            if x % i == 0:\n",
    "                break\n",
    "        else:\n",
    "            yield x\n",
    "        x += 1\n",
    "            "
   ]
  },
  {
   "cell_type": "code",
   "execution_count": 40,
   "metadata": {},
   "outputs": [
    {
     "name": "stdout",
     "output_type": "stream",
     "text": [
      "2 3 5 7 11 13 17 19 23 29 "
     ]
    }
   ],
   "source": [
    "i =gen_prime()\n",
    "for c in range(10):\n",
    "    print(next(i), end = \" \")"
   ]
  },
  {
   "cell_type": "markdown",
   "metadata": {},
   "source": [
    "## 6.5 モジュールファイルを作る"
   ]
  },
  {
   "cell_type": "markdown",
   "metadata": {},
   "source": [
    "### 関数が定義されたモジュールファイル"
   ]
  },
  {
   "cell_type": "code",
   "execution_count": 41,
   "metadata": {},
   "outputs": [],
   "source": [
    "def func(v):\n",
    "    i = v + 3\n",
    "    return i"
   ]
  },
  {
   "cell_type": "code",
   "execution_count": 44,
   "metadata": {},
   "outputs": [
    {
     "data": {
      "text/plain": [
       "8"
      ]
     },
     "execution_count": 44,
     "metadata": {},
     "output_type": "execute_result"
    }
   ],
   "source": [
    "import my_module\n",
    "my_module.func(5)"
   ]
  },
  {
   "cell_type": "markdown",
   "metadata": {},
   "source": [
    "### 関数とクラスが定義されたモジュールファイル"
   ]
  },
  {
   "cell_type": "code",
   "execution_count": 49,
   "metadata": {},
   "outputs": [
    {
     "name": "stdout",
     "output_type": "stream",
     "text": [
      "a = 3, b = 5, sum: 8\n"
     ]
    },
    {
     "data": {
      "text/plain": [
       "13"
      ]
     },
     "execution_count": 49,
     "metadata": {},
     "output_type": "execute_result"
    }
   ],
   "source": [
    "import my_module1\n",
    "my_class = my_module1.MyClass(3, 5)\n",
    "my_class.show_attributes()\n",
    "my_module1.func(10)"
   ]
  },
  {
   "cell_type": "markdown",
   "metadata": {},
   "source": [
    "### スクリプトとモジュール"
   ]
  },
  {
   "cell_type": "code",
   "execution_count": 52,
   "metadata": {},
   "outputs": [
    {
     "name": "stdout",
     "output_type": "stream",
     "text": [
      "__name__: __main__\n",
      "a = 3, b = 5, sum: 8\n"
     ]
    }
   ],
   "source": [
    "!python my_module2.py"
   ]
  },
  {
   "cell_type": "code",
   "execution_count": 54,
   "metadata": {},
   "outputs": [
    {
     "name": "stdout",
     "output_type": "stream",
     "text": [
      "a = 3, b = 5, sum: 8\n"
     ]
    }
   ],
   "source": [
    "import my_module2\n",
    "my_class = my_module2.MyClass(3, 5)\n",
    "my_class.show_attributes()"
   ]
  },
  {
   "cell_type": "code",
   "execution_count": 55,
   "metadata": {},
   "outputs": [
    {
     "name": "stdout",
     "output_type": "stream",
     "text": [
      "This is 'my_package.module_a'.\n"
     ]
    }
   ],
   "source": [
    "import my_package.module_a\n",
    "\n",
    "my_package.module_a.func_in_module_under_dir()"
   ]
  },
  {
   "cell_type": "markdown",
   "metadata": {},
   "source": [
    "### 問題.1\n",
    "数学関数 my_pow() が含まれる、my_math.py というモジュールファイルを作成して下さい。\n",
    "数学関数 my_pow() は、引数を2つ受け取り、値を1つ返します。\n",
    "第一引数を x、第二引数を y とすると、 x の y 乗 (x^y) を返すものとします。\n",
    "このモジュールファイルをインポートして、引数に x = 2 と y = 5 を与え、結果が 32 になることを確認して下さい。"
   ]
  },
  {
   "cell_type": "code",
   "execution_count": 56,
   "metadata": {},
   "outputs": [
    {
     "data": {
      "text/plain": [
       "32"
      ]
     },
     "execution_count": 56,
     "metadata": {},
     "output_type": "execute_result"
    }
   ],
   "source": [
    "import my_math\n",
    "my_math.my_pow(2, 5)"
   ]
  },
  {
   "cell_type": "code",
   "execution_count": 57,
   "metadata": {},
   "outputs": [
    {
     "data": {
      "text/plain": [
       "1.4142135623730951"
      ]
     },
     "execution_count": 57,
     "metadata": {},
     "output_type": "execute_result"
    }
   ],
   "source": [
    "my_math.my_pow(2, 0.5)"
   ]
  },
  {
   "cell_type": "code",
   "execution_count": 60,
   "metadata": {},
   "outputs": [
    {
     "data": {
      "text/plain": [
       "(1.2246467991473532e-16+2j)"
      ]
     },
     "execution_count": 60,
     "metadata": {},
     "output_type": "execute_result"
    }
   ],
   "source": [
    "ans = my_math.my_pow(-4, 0.5)\n",
    "ans"
   ]
  },
  {
   "cell_type": "code",
   "execution_count": 61,
   "metadata": {},
   "outputs": [
    {
     "name": "stdout",
     "output_type": "stream",
     "text": [
      "実数成分: 1.2246467991473532e-16, 虚数成分: 2.0\n"
     ]
    }
   ],
   "source": [
    "print(\"実数成分: {}, 虚数成分: {}\".format(ans.real, ans.imag))"
   ]
  },
  {
   "cell_type": "markdown",
   "metadata": {},
   "source": [
    "### 問題.2\n",
    "上記と同じ関数を含む my_math2.py という名前のモジュールファイルを作成し、スクリプトとして実行したときは my_pow() のテストコードが実行され、モジュールとして実行されたときはテストコードが実行されないようにして下さい。\n",
    "テストコードは、引数に2と5を与えて結果が32になることを確認するものです。"
   ]
  },
  {
   "cell_type": "code",
   "execution_count": 68,
   "metadata": {},
   "outputs": [
    {
     "name": "stdout",
     "output_type": "stream",
     "text": [
      "Test my_pow(2, 5) --> 32, exp: 32 ----Test OK\n"
     ]
    }
   ],
   "source": [
    "!python my_math2.py"
   ]
  },
  {
   "cell_type": "code",
   "execution_count": 69,
   "metadata": {},
   "outputs": [
    {
     "data": {
      "text/plain": [
       "32"
      ]
     },
     "execution_count": 69,
     "metadata": {},
     "output_type": "execute_result"
    }
   ],
   "source": [
    "import my_math2\n",
    "my_math2.my_pow(2, 5)"
   ]
  },
  {
   "cell_type": "markdown",
   "metadata": {},
   "source": [
    "## 6.6 スコープと名前空間"
   ]
  },
  {
   "cell_type": "markdown",
   "metadata": {},
   "source": [
    "### 名前空間"
   ]
  },
  {
   "cell_type": "code",
   "execution_count": 4,
   "metadata": {},
   "outputs": [
    {
     "data": {
      "text/plain": [
       "['__annotations__',\n",
       " '__call__',\n",
       " '__class__',\n",
       " '__closure__',\n",
       " '__code__',\n",
       " '__defaults__',\n",
       " '__delattr__',\n",
       " '__dict__',\n",
       " '__dir__',\n",
       " '__doc__',\n",
       " '__eq__',\n",
       " '__format__',\n",
       " '__ge__',\n",
       " '__get__',\n",
       " '__getattribute__',\n",
       " '__globals__',\n",
       " '__gt__',\n",
       " '__hash__',\n",
       " '__init__',\n",
       " '__init_subclass__',\n",
       " '__kwdefaults__',\n",
       " '__le__',\n",
       " '__lt__',\n",
       " '__module__',\n",
       " '__name__',\n",
       " '__ne__',\n",
       " '__new__',\n",
       " '__qualname__',\n",
       " '__reduce__',\n",
       " '__reduce_ex__',\n",
       " '__repr__',\n",
       " '__setattr__',\n",
       " '__sizeof__',\n",
       " '__str__',\n",
       " '__subclasshook__']"
      ]
     },
     "execution_count": 4,
     "metadata": {},
     "output_type": "execute_result"
    }
   ],
   "source": [
    "import my_math\n",
    "dir(my_math.my_pow)"
   ]
  },
  {
   "cell_type": "code",
   "execution_count": 6,
   "metadata": {},
   "outputs": [
    {
     "name": "stdout",
     "output_type": "stream",
     "text": [
      "['__builtins__', '__cached__', '__doc__', '__file__', '__loader__', '__name__', '__package__', '__spec__', 'func']\n"
     ]
    }
   ],
   "source": [
    "import my_module\n",
    "my_module_attribute = dir(my_module)\n",
    "print(my_module_attribute)"
   ]
  },
  {
   "cell_type": "markdown",
   "metadata": {},
   "source": [
    "### スコープ"
   ]
  },
  {
   "cell_type": "code",
   "execution_count": 9,
   "metadata": {},
   "outputs": [
    {
     "name": "stdout",
     "output_type": "stream",
     "text": [
      "In the global  : initial  initial  initial  initial \n",
      "After local    : test     test     test     test    \n",
      "After nonlocal : test     test     nonlocal test    \n",
      "After global   : test     test     nonlocal test    \n",
      "After func call: initial  initial  initial  global   \n"
     ]
    }
   ],
   "source": [
    "# グローバルスコープ\n",
    "def scope_test():\n",
    "    # ネステッドスコープ（scope_test のローカルスコープ）\n",
    "    def do_local():\n",
    "        # ローカルスコープ\n",
    "        s1 = \"local    \"\n",
    "    def do_nonlocal():\n",
    "        # ローカルスコープからネステッドスコープを移す\n",
    "        nonlocal s2\n",
    "        # ネステッドスコープ\n",
    "        s2 = \"nonlocal\"\n",
    "    def do_global():\n",
    "        # ローカルからグローバルへスコープを映す\n",
    "        global s3\n",
    "        # グローバルスコープ\n",
    "        s3 = \"global   \"\n",
    "    # ネステッドスコープ（scope_test のローカルスコープ）\n",
    "    s0 = s1 = s2 = s3 = \"test    \"\n",
    "    do_local()\n",
    "    print(\"After local    :\", s0, s1, s2, s3)\n",
    "    do_nonlocal()\n",
    "    print(\"After nonlocal :\", s0, s1, s2, s3)\n",
    "    do_global()\n",
    "    print(\"After global   :\", s0, s1, s2, s3)\n",
    "    \n",
    "# グローバルスコープ\n",
    "s0 = s1 = s2 = s3 = \"initial \"\n",
    "print(\"In the global  :\", s0, s1, s2, s3)\n",
    "scope_test()\n",
    "print(\"After func call:\", s0, s1, s2, s3)\n"
   ]
  },
  {
   "cell_type": "markdown",
   "metadata": {},
   "source": [
    "### 問題.1\n",
    "次のスクリプトの実行結果は、どうなりますか？"
   ]
  },
  {
   "cell_type": "code",
   "execution_count": 10,
   "metadata": {},
   "outputs": [
    {
     "name": "stdout",
     "output_type": "stream",
     "text": [
      "In event1: Happy  -> After event1: Happy \n",
      "In event2: Sad    -> After event2: Happy \n",
      "In event3: Tired  -> After event3: Tired \n",
      "In event4: Excite -> After event4: Tired \n",
      "In event5: Scare  -> After event5: Tired \n"
     ]
    }
   ],
   "source": [
    "x = 'Happy '\n",
    "def event1():\n",
    "    print(\"In event1:\", x, end=\" -> \")\n",
    "\n",
    "def event2():\n",
    "    x = 'Sad   '\n",
    "    print(\"In event2:\", x, end=\" -> \")\n",
    "\n",
    "def event3():\n",
    "    global x\n",
    "    x = 'Tired '\n",
    "    print(\"In event3:\", x, end=\" -> \")\n",
    "\n",
    "def event4():\n",
    "    x = 'Excite'\n",
    "    def happening():\n",
    "        print(\"In event4:\", x, end=\" -> \")\n",
    "    happening()\n",
    "\n",
    "def event5():\n",
    "    x = 'Fun   '\n",
    "    def happening():\n",
    "        nonlocal x\n",
    "        x = 'Scare '\n",
    "    happening()\n",
    "    print(\"In event5:\", x, end=\" -> \")\n",
    "\n",
    "func_list = [event1, event2, event3, event4, event5]\n",
    "for f in func_list:\n",
    "    f()\n",
    "    print(\"After {}: {}\".format(f.__name__, x))\n",
    "\n",
    "# In event1: Happy -> After event1: Happy\n",
    "# In event2: Sad ->  After event2: Happy\n",
    "# In event3: Tired -> After event3: Tired\n",
    "# In event4: Excite -> After event4: Tired\n",
    "# In event5: Fun -> After event15  Scare"
   ]
  },
  {
   "cell_type": "code",
   "execution_count": null,
   "metadata": {},
   "outputs": [],
   "source": []
  }
 ],
 "metadata": {
  "kernelspec": {
   "display_name": "Python 3",
   "language": "python",
   "name": "python3"
  },
  "language_info": {
   "codemirror_mode": {
    "name": "ipython",
    "version": 3
   },
   "file_extension": ".py",
   "mimetype": "text/x-python",
   "name": "python",
   "nbconvert_exporter": "python",
   "pygments_lexer": "ipython3",
   "version": "3.6.8"
  }
 },
 "nbformat": 4,
 "nbformat_minor": 2
}
