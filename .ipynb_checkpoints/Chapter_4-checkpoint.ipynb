{
 "cells": [
  {
   "cell_type": "markdown",
   "metadata": {},
   "source": [
    "## 4.3 引数リスト"
   ]
  },
  {
   "cell_type": "code",
   "execution_count": null,
   "metadata": {
    "collapsed": true
   },
   "outputs": [],
   "source": [
    "def show_args(*args):\n",
    "    '''与えられた複数の位置引数をタプルにまとめて受け取りそのタプルを表示して返す'''\n",
    "    print('Positional arguments:', args)\n",
    "    return args"
   ]
  },
  {
   "cell_type": "code",
   "execution_count": null,
   "metadata": {
    "collapsed": true
   },
   "outputs": [],
   "source": [
    "show_args(1, 2, 3, 'da!')"
   ]
  },
  {
   "cell_type": "code",
   "execution_count": null,
   "metadata": {
    "collapsed": true
   },
   "outputs": [],
   "source": [
    "def show_kwargs(**kwargs):\n",
    "    '''与えられた複数のキーワード引数を辞書にまとめて受け取りその辞書を表示して返す'''\n",
    "    print('Keyword arguments:', kwargs)\n",
    "    return kwargs"
   ]
  },
  {
   "cell_type": "code",
   "execution_count": null,
   "metadata": {
    "collapsed": true
   },
   "outputs": [],
   "source": [
    "show_kwargs(pasta='ペンネ', drink='赤ワイン', main_dish='肉料理', n_customers=3)"
   ]
  },
  {
   "cell_type": "code",
   "execution_count": null,
   "metadata": {
    "collapsed": true
   },
   "outputs": [],
   "source": [
    "positional_args = (4, 5, 6, 'ya')\n",
    "show_args(*positional_args)"
   ]
  },
  {
   "cell_type": "code",
   "execution_count": null,
   "metadata": {
    "collapsed": true
   },
   "outputs": [],
   "source": [
    "keyword_args = {'pasta': 'ペンネ', 'drink': '赤ワイン', 'main_dish': '肉料理', 'n_customers': 3}\n",
    "show_kwargs(**keyword_args)"
   ]
  },
  {
   "cell_type": "markdown",
   "metadata": {},
   "source": [
    "### 問題.1\n",
    "任意の数の単語と、区切り文字 separator を受け取り、区切り文字でつなげる関数を作成して下さい。たとえば、引数に4個の単語 'a', 'b', 'c', 'd' と区切り文字 '_' を渡すと、'a_b_c_d' を返すようにします。"
   ]
  },
  {
   "cell_type": "code",
   "execution_count": null,
   "metadata": {
    "collapsed": true
   },
   "outputs": [],
   "source": [
    "def join_args(*args, separator=','):\n",
    "    print('_'.join(args))\n",
    "join_args( 'a', 'b', 'c', 'd', separator='_' )\n"
   ]
  },
  {
   "cell_type": "code",
   "execution_count": null,
   "metadata": {
    "collapsed": true
   },
   "outputs": [],
   "source": [
    "def join_args(*args, separator=','):\n",
    "    return separator.join(args)\n"
   ]
  },
  {
   "cell_type": "code",
   "execution_count": null,
   "metadata": {
    "collapsed": true
   },
   "outputs": [],
   "source": [
    "join_args('a', 'b', 'c', 'd', separator='_')"
   ]
  },
  {
   "cell_type": "markdown",
   "metadata": {},
   "source": [
    "### 問題. 2\n",
    "任意個数の数字からなるリストを引数として受け取り、それらを二乗した数字からなるリストを返す関数を作成してください。たとえば、1, 2, 3, 4 を受け取ったら、1, 4, 9, 16 を返します。更に、100個の数字からなるリストをその関数に渡して結果を表示してください。"
   ]
  },
  {
   "cell_type": "code",
   "execution_count": null,
   "metadata": {
    "collapsed": true
   },
   "outputs": [],
   "source": [
    "def pow_args(args):\n",
    "    result = []\n",
    "    for a in args:\n",
    "        result.append(a ** 2)\n",
    "    return result\n"
   ]
  },
  {
   "cell_type": "code",
   "execution_count": null,
   "metadata": {
    "collapsed": true
   },
   "outputs": [],
   "source": [
    "pow_args([1, 2, 3, 4])"
   ]
  },
  {
   "cell_type": "code",
   "execution_count": null,
   "metadata": {
    "collapsed": true
   },
   "outputs": [],
   "source": [
    "pow_args(list(range(100)))"
   ]
  },
  {
   "cell_type": "markdown",
   "metadata": {},
   "source": [
    "## 4.4 関数とスコープ\n",
    "### 問題. 1\n",
    "関数を3つ作って選挙の時に使う投票箱を作って下さい。\n",
    "ただし、投票箱は次のような機能を持つものとします。\n",
    "\n",
    "1. vote_num という変数を定義します。\n",
    "2. 投票する vote() を実行すると　vote_num の数が1つ増えます。\n",
    "3. 箱を空にする reset_box() を実行すると vote_num の数は 0 になります。\n",
    "4. 箱を確認する check_box() を実行すると、箱の中の票数を表示します。\n",
    "\n",
    "ここでは、上記の3つの関数の中で grobal文を積極的に使うようにしてください。"
   ]
  },
  {
   "cell_type": "code",
   "execution_count": null,
   "metadata": {
    "collapsed": true
   },
   "outputs": [],
   "source": [
    "vote_num = 0\n",
    "\n",
    "def vote():\n",
    "    global vote_num\n",
    "    vote_num += 1\n",
    "\n",
    "def reset_box():\n",
    "    global vote_num\n",
    "    vote_num = 0\n",
    "\n",
    "def check_box():\n",
    "    print(vote_num)"
   ]
  },
  {
   "cell_type": "code",
   "execution_count": null,
   "metadata": {
    "collapsed": true
   },
   "outputs": [],
   "source": [
    "vote()"
   ]
  },
  {
   "cell_type": "code",
   "execution_count": null,
   "metadata": {
    "collapsed": true
   },
   "outputs": [],
   "source": [
    "check_box()"
   ]
  },
  {
   "cell_type": "code",
   "execution_count": null,
   "metadata": {
    "collapsed": true
   },
   "outputs": [],
   "source": [
    "reset_box()"
   ]
  },
  {
   "cell_type": "markdown",
   "metadata": {},
   "source": [
    "### 問題. 2\n",
    "再び、選挙の時に使う投票箱を作ってください。ただし、今回は global 宣言を使わないでください。"
   ]
  },
  {
   "cell_type": "code",
   "execution_count": null,
   "metadata": {
    "collapsed": true
   },
   "outputs": [],
   "source": [
    "vote_num = 0\n",
    "\n",
    "def vote(vote_n):\n",
    "    vote_n += 1\n",
    "    return vote_n\n",
    "\n",
    "def reset_box(vote_n):\n",
    "    vote_n = 0\n",
    "    return vote_n\n",
    "\n",
    "def check_box(vote_n):\n",
    "    print(vote_n)\n"
   ]
  },
  {
   "cell_type": "code",
   "execution_count": null,
   "metadata": {
    "collapsed": true
   },
   "outputs": [],
   "source": [
    "vote_num = vote(vote_num)"
   ]
  },
  {
   "cell_type": "code",
   "execution_count": null,
   "metadata": {
    "collapsed": true
   },
   "outputs": [],
   "source": [
    "check_box(vote_num)"
   ]
  },
  {
   "cell_type": "markdown",
   "metadata": {},
   "source": [
    "## 4.5 関数はオブジェクト"
   ]
  },
  {
   "cell_type": "code",
   "execution_count": null,
   "metadata": {
    "collapsed": true
   },
   "outputs": [],
   "source": [
    "def multi_func(number):\n",
    "    if number == 0:\n",
    "        print('min', end = ' ')\n",
    "        return min\n",
    "    if number == 1:\n",
    "        print('max', end = ' ')\n",
    "        return max\n",
    "    else:\n",
    "        print('sum', end = ' ')\n",
    "        return sum"
   ]
  },
  {
   "cell_type": "code",
   "execution_count": null,
   "metadata": {
    "collapsed": true
   },
   "outputs": [],
   "source": [
    "num_list = [1, 2, 3, 4]\n",
    "for i in [0, 1, 2]:\n",
    "    print(multi_func(i)(num_list))"
   ]
  },
  {
   "cell_type": "markdown",
   "metadata": {},
   "source": [
    "### 問題. 1\n",
    "　組み込み関数 sum(), min(), max()は、いずれも引数に反復可能体(iterable)を受け取り、それぞれ、総和、最小値、最大値の計算結果を返します。引数に与える反復可能体の要素は通常は数値で、返す結果も数値です。\n",
    "　これらの組み込み関数を要素とするリストを作成し、このリストに関してループ処理を行い、1から10までの自然数について上記3つの組み込み関数で処理した結果を表示して下さい。"
   ]
  },
  {
   "cell_type": "code",
   "execution_count": null,
   "metadata": {
    "collapsed": true
   },
   "outputs": [],
   "source": [
    "func_list = [sum, min, max]\n",
    "numbers = range(1, 11)\n",
    "for func in func_list:\n",
    "    print(func(range(1,11)))\n",
    "    print(\"Function: {}, Result: {}\".format(func.__name__, func(range(1, 11))))"
   ]
  },
  {
   "cell_type": "markdown",
   "metadata": {},
   "source": [
    "### 問題. 2\n",
    "　組み込み関数 map は第一引数に関数、第二引数に反復可能体（iterable）を受け取り、反復可能体のおのおのの要素を使って関数による計算を施し、計算結果を与える反復子（iterator）を返します。mapを使うと for ループの階層構造を減らすことが出来、しかも高速に動作するというメリットがあります。\n",
    "　mapを使って、下記に示す3つ一組の数字文字列からなる4つの座標のリスト"
   ]
  },
  {
   "cell_type": "code",
   "execution_count": null,
   "metadata": {
    "collapsed": true
   },
   "outputs": [],
   "source": [
    "s_coordi_list = [\"1.0, 2.2, 3.5\", \"2.1, 3.2, 5.5\", \"1.2, 1.3, 2.2\", \"2.1, 3.1, 4.5\"]"
   ]
  },
  {
   "cell_type": "markdown",
   "metadata": {},
   "source": [
    "を、下記に示す3つ一組の数値リストからなる4つの座標のリストに変換して下さい。"
   ]
  },
  {
   "cell_type": "code",
   "execution_count": null,
   "metadata": {
    "collapsed": true
   },
   "outputs": [],
   "source": [
    "f_coordi_list = [[1.0, 2.2, 3.5], [2.1, 3.2, 5.5], [1.2, 1.3, 2.2], [2.1, 3.1, 4.5]]"
   ]
  },
  {
   "cell_type": "markdown",
   "metadata": {},
   "source": [
    "ただし、for ループを使わないで下さい。"
   ]
  },
  {
   "cell_type": "code",
   "execution_count": null,
   "metadata": {
    "collapsed": true
   },
   "outputs": [],
   "source": [
    "print(map(split(\",\"), s_coordi_list))"
   ]
  },
  {
   "cell_type": "code",
   "execution_count": null,
   "metadata": {
    "collapsed": true
   },
   "outputs": [],
   "source": [
    "def splitstr(string):\n",
    "    strings = string.split(\",\")\n",
    "    return list(map(float, strings))\n",
    "\n",
    "print(list(map(splitstr, s_coordi_list)))"
   ]
  },
  {
   "cell_type": "code",
   "execution_count": null,
   "metadata": {
    "collapsed": true
   },
   "outputs": [],
   "source": [
    "list(map(split(\",\"), s_coordi_list))"
   ]
  },
  {
   "cell_type": "markdown",
   "metadata": {},
   "source": [
    "## 4.6 ラムダ式"
   ]
  },
  {
   "cell_type": "markdown",
   "metadata": {},
   "source": [
    "### 問題. 1\n",
    "1から7までの数字(整数)が `range(1,8)` という反復可能体（`iterable`）で与えられたとき、それをゼロ埋めされた4桁の数字文字列の反復可能体に変換して下さい。その際、`for`文を使わずに、`map()`関数とラムダ式を使って簡潔に記述して下さい。"
   ]
  },
  {
   "cell_type": "code",
   "execution_count": null,
   "metadata": {
    "collapsed": true
   },
   "outputs": [],
   "source": [
    "list(range(1,8))"
   ]
  },
  {
   "cell_type": "code",
   "execution_count": null,
   "metadata": {
    "collapsed": true
   },
   "outputs": [],
   "source": [
    "list(map(lambda x:\"{:04}\".format(x), range(1,8)))"
   ]
  },
  {
   "cell_type": "markdown",
   "metadata": {},
   "source": [
    "### 問題.2\n",
    "生徒10人のデータを次のようにランダムに生成し、生徒名、身長、体重からなるタプルをいくつか格納した `studentis_data` が与えられたとき、`students_data` の要素を身長順と体重順に並べ替えて下さい。"
   ]
  },
  {
   "cell_type": "code",
   "execution_count": 1,
   "metadata": {
    "collapsed": false
   },
   "outputs": [
    {
     "name": "stdout",
     "output_type": "stream",
     "text": [
      "i, name, height, weight\n",
      "0 n34 160 62\n",
      "1 n13 190 68\n",
      "...\n",
      "9 n11 181 59\n"
     ]
    }
   ],
   "source": [
    "import random\n",
    "def generate_students_data(num_students=10):\n",
    "    '''生徒名、身長、体重からなるデータをランダムに生成する\n",
    "    \n",
    "    引数：num_studennts: 生徒の人数を取る\n",
    "    戻り；num_students個のタプル（生徒名、身長、体重）からなるリスト\n",
    "    \n",
    "    データの内容\n",
    "        生徒名　'nXX', X は 10 から 50 の番号\n",
    "        身長　'150-190 cm からランダムに選んだ値\n",
    "        体重　'50-80 kg からランダムに選んだ値\n",
    "    '''\n",
    "    students_data = []\n",
    "    for i in range(num_students):\n",
    "        name = 'n' + str(random.randint(10, 50))\n",
    "        height = random.randint(150, 190)\n",
    "        weight = random.randint(50, 80)\n",
    "        students_data.append((name, height, weight))\n",
    "        if i == 0: print('i, name, height, weight')\n",
    "        if i < 2 or i == num_students - 1:\n",
    "            print(i, name, height, weight)\n",
    "        elif i == 2:\n",
    "            print('...')\n",
    "    return students_data\n",
    "\n",
    "students_data = generate_students_data(10)"
   ]
  },
  {
   "cell_type": "code",
   "execution_count": 2,
   "metadata": {
    "collapsed": false
   },
   "outputs": [
    {
     "data": {
      "text/plain": [
       "[('n34', 160, 62),\n",
       " ('n13', 190, 68),\n",
       " ('n24', 174, 79),\n",
       " ('n43', 171, 71),\n",
       " ('n19', 160, 59),\n",
       " ('n23', 151, 65),\n",
       " ('n31', 158, 50),\n",
       " ('n49', 187, 68),\n",
       " ('n24', 161, 61),\n",
       " ('n11', 181, 59)]"
      ]
     },
     "execution_count": 2,
     "metadata": {},
     "output_type": "execute_result"
    }
   ],
   "source": [
    "students_data"
   ]
  },
  {
   "cell_type": "code",
   "execution_count": 3,
   "metadata": {
    "collapsed": false
   },
   "outputs": [
    {
     "data": {
      "text/plain": [
       "[('n23', 151, 65),\n",
       " ('n31', 158, 50),\n",
       " ('n34', 160, 62),\n",
       " ('n19', 160, 59),\n",
       " ('n24', 161, 61),\n",
       " ('n43', 171, 71),\n",
       " ('n24', 174, 79),\n",
       " ('n11', 181, 59),\n",
       " ('n49', 187, 68),\n",
       " ('n13', 190, 68)]"
      ]
     },
     "execution_count": 3,
     "metadata": {},
     "output_type": "execute_result"
    }
   ],
   "source": [
    "sorted(students_data, key = lambda x: x[1])"
   ]
  },
  {
   "cell_type": "code",
   "execution_count": 4,
   "metadata": {
    "collapsed": false
   },
   "outputs": [
    {
     "data": {
      "text/plain": [
       "[('n31', 158, 50),\n",
       " ('n19', 160, 59),\n",
       " ('n11', 181, 59),\n",
       " ('n24', 161, 61),\n",
       " ('n34', 160, 62),\n",
       " ('n23', 151, 65),\n",
       " ('n13', 190, 68),\n",
       " ('n49', 187, 68),\n",
       " ('n43', 171, 71),\n",
       " ('n24', 174, 79)]"
      ]
     },
     "execution_count": 4,
     "metadata": {},
     "output_type": "execute_result"
    }
   ],
   "source": [
    "sorted(students_data, key = lambda x: x[2])"
   ]
  },
  {
   "cell_type": "code",
   "execution_count": 5,
   "metadata": {
    "collapsed": false
   },
   "outputs": [
    {
     "data": {
      "text/plain": [
       "[('n11', 181, 59),\n",
       " ('n13', 190, 68),\n",
       " ('n19', 160, 59),\n",
       " ('n23', 151, 65),\n",
       " ('n24', 174, 79),\n",
       " ('n24', 161, 61),\n",
       " ('n31', 158, 50),\n",
       " ('n34', 160, 62),\n",
       " ('n43', 171, 71),\n",
       " ('n49', 187, 68)]"
      ]
     },
     "execution_count": 5,
     "metadata": {},
     "output_type": "execute_result"
    }
   ],
   "source": [
    "sorted(students_data, key = lambda x: x[0])"
   ]
  },
  {
   "cell_type": "markdown",
   "metadata": {},
   "source": [
    "## 4.7 関数の中の関数"
   ]
  },
  {
   "cell_type": "code",
   "execution_count": 7,
   "metadata": {
    "collapsed": true
   },
   "outputs": [],
   "source": [
    "def outer(a, b):\n",
    "    print('outer function (a, b) = ({}, {})'.format(a, b))\n",
    "    def inner(c, d):\n",
    "        print('inner function (c, d) = ({}, {})'.format(c, d))\n",
    "        return c * d\n",
    "    return inner(a, b)"
   ]
  },
  {
   "cell_type": "code",
   "execution_count": 9,
   "metadata": {
    "collapsed": false
   },
   "outputs": [
    {
     "name": "stdout",
     "output_type": "stream",
     "text": [
      "outer function (a, b) = (4, 7)\n",
      "inner function (c, d) = (4, 7)\n",
      "28\n"
     ]
    }
   ],
   "source": [
    "a = outer(4, 7)\n",
    "print(a)"
   ]
  },
  {
   "cell_type": "code",
   "execution_count": 10,
   "metadata": {
    "collapsed": false
   },
   "outputs": [
    {
     "data": {
      "text/plain": [
       "\"We are the knights who say: 'Ni!'\""
      ]
     },
     "execution_count": 10,
     "metadata": {},
     "output_type": "execute_result"
    }
   ],
   "source": [
    "def knights(saying):\n",
    "    def inner(quote):\n",
    "        return \"We are the knights who say: '%s'\" % quote\n",
    "    return inner(saying)\n",
    "\n",
    "knights('Ni!')"
   ]
  },
  {
   "cell_type": "code",
   "execution_count": 15,
   "metadata": {
    "collapsed": true
   },
   "outputs": [],
   "source": [
    "def make_circle_area_func(pi = 3.14):\n",
    "    '''円の面積を計算する関数を作る'''\n",
    "    \n",
    "    def circle_area(radius):\n",
    "        '''円の面積を計算する'''\n",
    "        \n",
    "        return radius * radius * pi\n",
    "    \n",
    "    return circle_area\n",
    "\n",
    "# pi が　初期設定 (3.14) のとき\n",
    "circle_area_default = make_circle_area_func()\n",
    "# pi が 3.1415926535 のとき\n",
    "circle_area_precise = make_circle_area_func(pi = 3.1415926535)"
   ]
  },
  {
   "cell_type": "code",
   "execution_count": 16,
   "metadata": {
    "collapsed": false
   },
   "outputs": [
    {
     "data": {
      "text/plain": [
       "(function, function)"
      ]
     },
     "execution_count": 16,
     "metadata": {},
     "output_type": "execute_result"
    }
   ],
   "source": [
    "type(circle_area_default), type(circle_area_precise)"
   ]
  },
  {
   "cell_type": "code",
   "execution_count": 17,
   "metadata": {
    "collapsed": false
   },
   "outputs": [
    {
     "name": "stdout",
     "output_type": "stream",
     "text": [
      "12.56\n",
      "12.566370614\n"
     ]
    }
   ],
   "source": [
    "# 判型２の円の面積、pi の制度が異なる\n",
    "print(circle_area_default(2))\n",
    "print(circle_area_precise(2))"
   ]
  },
  {
   "cell_type": "code",
   "execution_count": 18,
   "metadata": {
    "collapsed": false
   },
   "outputs": [
    {
     "name": "stdout",
     "output_type": "stream",
     "text": [
      "1\n",
      "2\n",
      "3\n"
     ]
    }
   ],
   "source": [
    "def makecounter():\n",
    "    '''呼ばれるたびにカウントを１ずつ増やすカウンタ関数を生成する'''\n",
    "    n = 0\n",
    "    def count():\n",
    "        nonlocal n\n",
    "        n += 1\n",
    "        return n\n",
    "    return count\n",
    "\n",
    "counter = makecounter()\n",
    "print(counter())\n",
    "print(counter())\n",
    "print(counter())"
   ]
  },
  {
   "cell_type": "code",
   "execution_count": 20,
   "metadata": {
    "collapsed": false
   },
   "outputs": [
    {
     "name": "stdout",
     "output_type": "stream",
     "text": [
      "==== flag: Red\n",
      "Selection is 0 which may be the default\n",
      "====\n",
      "==== flag: Blue\n",
      "Your choise is 1\n",
      "====\n"
     ]
    }
   ],
   "source": [
    "def show_message(num=0):\n",
    "    \"\"\"入力値に応じて違うメッセージを表示する\n",
    "    \n",
    "    入力：0 or それ以外\n",
    "    \"\"\"\n",
    "    \n",
    "    if num == 0:\n",
    "        flag = \"Red\"\n",
    "        print(\"==== flag:\", flag)\n",
    "        print(\"Selection is\", num, \"which may be the default\")\n",
    "        print(\"====\")\n",
    "    else:\n",
    "        flag = \"Blue\"\n",
    "        print(\"==== flag:\", flag)\n",
    "        print(\"Your choise is\", num)\n",
    "        print(\"====\")\n",
    "        \n",
    "show_message(0)\n",
    "show_message(1)"
   ]
  },
  {
   "cell_type": "code",
   "execution_count": 21,
   "metadata": {
    "collapsed": false
   },
   "outputs": [
    {
     "name": "stdout",
     "output_type": "stream",
     "text": [
      "==== flag Red\n",
      "Selection is  0 which may be the default\n",
      "====\n",
      "==== flag Blue\n",
      "Your choice is  1\n",
      "====\n"
     ]
    }
   ],
   "source": [
    "def show_message(num=0):\n",
    "    \"\"\"入力値に応じて違うメッセージを表示する\n",
    "    \n",
    "    入力：0 or それ以外\n",
    "    \"\"\"\n",
    "    \n",
    "    def decolate(func):\n",
    "        if num == 0:\n",
    "            flag = \"Red\"\n",
    "        else:\n",
    "            flag = \"Blue\"\n",
    "        \n",
    "        print(\"==== flag\", flag)\n",
    "        func()\n",
    "        print(\"====\")\n",
    "        \n",
    "    def show_selection(num=num):\n",
    "        if num == 0:\n",
    "            print(\"Selection is \", num, \"which may be the default\")\n",
    "        else:\n",
    "            print(\"Your choice is \", num)\n",
    "    \n",
    "    decolate(show_selection)\n",
    "    \n",
    "show_message(0)\n",
    "show_message(1)"
   ]
  },
  {
   "cell_type": "markdown",
   "metadata": {},
   "source": [
    "### 問題.1\n",
    "２つの数値を受け取り、それらを足し合わせた値を返す関数を返す関数を作成して下さい。"
   ]
  },
  {
   "cell_type": "code",
   "execution_count": 23,
   "metadata": {
    "collapsed": false
   },
   "outputs": [
    {
     "name": "stdout",
     "output_type": "stream",
     "text": [
      "3\n"
     ]
    }
   ],
   "source": [
    "def make_add_function():\n",
    "    def add_function(a, b):\n",
    "        return a + b\n",
    "    return add_function\n",
    "\n",
    "add = make_add_function()\n",
    "\n",
    "print(add(1, 2))"
   ]
  },
  {
   "cell_type": "markdown",
   "metadata": {},
   "source": [
    "## 4.8 デコレータ"
   ]
  },
  {
   "cell_type": "code",
   "execution_count": 24,
   "metadata": {
    "collapsed": true
   },
   "outputs": [],
   "source": [
    "def show_how_it_works(func):\n",
    "    def my_function(*args, **kwargs):\n",
    "        print('Running function:', func.__name__)\n",
    "        print('Positional arguments:', args)\n",
    "        print('Keyword arguments:', kwargs)\n",
    "        result = func(*args, **kwargs)\n",
    "        print('Result:', result)\n",
    "        return result\n",
    "    return my_function"
   ]
  },
  {
   "cell_type": "code",
   "execution_count": 25,
   "metadata": {
    "collapsed": false
   },
   "outputs": [
    {
     "data": {
      "text/plain": [
       "9"
      ]
     },
     "execution_count": 25,
     "metadata": {},
     "output_type": "execute_result"
    }
   ],
   "source": [
    "def add_two_numbers(a, b):\n",
    "    return a + b\n",
    "\n",
    "add_two_numbers(1, 8)"
   ]
  },
  {
   "cell_type": "code",
   "execution_count": 28,
   "metadata": {
    "collapsed": false
   },
   "outputs": [
    {
     "name": "stdout",
     "output_type": "stream",
     "text": [
      "Running function: add_two_numbers\n",
      "Positional arguments: (1, 8)\n",
      "Keyword arguments: {}\n",
      "Result: 9\n"
     ]
    },
    {
     "data": {
      "text/plain": [
       "9"
      ]
     },
     "execution_count": 28,
     "metadata": {},
     "output_type": "execute_result"
    }
   ],
   "source": [
    "decolated_func = show_how_it_works(add_two_numbers)\n",
    "decolated_func(1, 8)"
   ]
  },
  {
   "cell_type": "code",
   "execution_count": 29,
   "metadata": {
    "collapsed": false
   },
   "outputs": [
    {
     "name": "stdout",
     "output_type": "stream",
     "text": [
      "Running function: add_two_numbers\n",
      "Positional arguments: (1, 8)\n",
      "Keyword arguments: {}\n",
      "Result: 9\n"
     ]
    },
    {
     "data": {
      "text/plain": [
       "9"
      ]
     },
     "execution_count": 29,
     "metadata": {},
     "output_type": "execute_result"
    }
   ],
   "source": [
    "add_two_numbers = decolated_func\n",
    "add_two_numbers(1, 8)"
   ]
  },
  {
   "cell_type": "code",
   "execution_count": 30,
   "metadata": {
    "collapsed": false
   },
   "outputs": [
    {
     "name": "stdout",
     "output_type": "stream",
     "text": [
      "Running function: add_two_numbers\n",
      "Positional arguments: (1, 8)\n",
      "Keyword arguments: {}\n",
      "Result: 9\n"
     ]
    },
    {
     "data": {
      "text/plain": [
       "9"
      ]
     },
     "execution_count": 30,
     "metadata": {},
     "output_type": "execute_result"
    }
   ],
   "source": [
    "@show_how_it_works\n",
    "def add_two_numbers(a, b):\n",
    "    return a + b\n",
    "\n",
    "add_two_numbers(1, 8)"
   ]
  },
  {
   "cell_type": "code",
   "execution_count": 37,
   "metadata": {
    "collapsed": false
   },
   "outputs": [
    {
     "name": "stderr",
     "output_type": "stream",
     "text": [
      "UsageError: Line magic function `%%time` not found.\n"
     ]
    }
   ],
   "source": [
    "def fib(n):\n",
    "    if n < 2:\n",
    "        return n\n",
    "    return fib(n-1) + fib(n-2)\n",
    "\n",
    "%%time\n",
    "[fib(n) for n in range(16)]"
   ]
  },
  {
   "cell_type": "code",
   "execution_count": 32,
   "metadata": {
    "collapsed": true
   },
   "outputs": [],
   "source": [
    "from functools import lru_cache\n",
    "\n",
    "@lru_cache(maxsize=None)\n",
    "def fib(n):\n",
    "    if n < 2:\n",
    "        return n\n",
    "    return fib(n-1) + fib(n-2)"
   ]
  },
  {
   "cell_type": "code",
   "execution_count": 33,
   "metadata": {
    "collapsed": false
   },
   "outputs": [
    {
     "name": "stdout",
     "output_type": "stream",
     "text": [
      "Wall time: 0 ns\n"
     ]
    },
    {
     "data": {
      "text/plain": [
       "[0, 1, 1, 2, 3, 5, 8, 13, 21, 34, 55, 89, 144, 233, 377, 610]"
      ]
     },
     "execution_count": 33,
     "metadata": {},
     "output_type": "execute_result"
    }
   ],
   "source": [
    "%%time\n",
    "[fib(n) for n in range(16)]"
   ]
  },
  {
   "cell_type": "markdown",
   "metadata": {},
   "source": [
    "### 問題.1\n",
    "関数が呼ばれたときに `== begin`、終了したときに `== end` と表示する `show_begin_end` というデコレータを作成して下さい。"
   ]
  },
  {
   "cell_type": "code",
   "execution_count": 50,
   "metadata": {
    "collapsed": false
   },
   "outputs": [
    {
     "name": "stdout",
     "output_type": "stream",
     "text": [
      "== begin\n",
      "6\n",
      "== end\n"
     ]
    },
    {
     "data": {
      "text/plain": [
       "6"
      ]
     },
     "execution_count": 50,
     "metadata": {},
     "output_type": "execute_result"
    }
   ],
   "source": [
    "def show_begin_end(func):\n",
    "    '''呼ばれた関数の始めと終わりを表示するデコレータ'''\n",
    "    def my_func(*args, **kwargs):\n",
    "        '''関数を実行する前とあとにメッセージを表示'''\n",
    "        print(\"== begin\")\n",
    "        r = func(*args, **kwargs)\n",
    "        print(r)\n",
    "        print(\"== end\")\n",
    "        return r\n",
    "    return my_func\n",
    "\n",
    "@show_begin_end\n",
    "def add_two_numbers(a, b):\n",
    "    return a + b\n",
    "\n",
    "add_two_numbers(2, 4)\n"
   ]
  },
  {
   "cell_type": "code",
   "execution_count": 51,
   "metadata": {
    "collapsed": false
   },
   "outputs": [
    {
     "name": "stdout",
     "output_type": "stream",
     "text": [
      "Sleeping...\n",
      "Done Sleeping\n"
     ]
    }
   ],
   "source": [
    "import time\n",
    "\n",
    "def sleep_for_a_while():\n",
    "    '''しばらく眠る'''\n",
    "    print(\"Sleeping...\")\n",
    "    time.sleep(2) # sleep for a while: interrupt me!\n",
    "    print(\"Done Sleeping\")\n",
    "\n",
    "sleep_for_a_while()"
   ]
  },
  {
   "cell_type": "code",
   "execution_count": 52,
   "metadata": {
    "collapsed": false
   },
   "outputs": [
    {
     "name": "stdout",
     "output_type": "stream",
     "text": [
      "== begin\n",
      "Sleeping...\n",
      "Done Sleeping\n",
      "None\n",
      "== end\n"
     ]
    }
   ],
   "source": [
    "@show_begin_end\n",
    "def sleep_for_a_while():\n",
    "    '''しばらく眠る'''\n",
    "    print(\"Sleeping...\")\n",
    "    time.sleep(2) # sleep for a while: interrupt me!\n",
    "    print(\"Done Sleeping\")\n",
    "\n",
    "sleep_for_a_while()"
   ]
  },
  {
   "cell_type": "code",
   "execution_count": 53,
   "metadata": {
    "collapsed": false
   },
   "outputs": [
    {
     "name": "stdout",
     "output_type": "stream",
     "text": [
      "Help on function my_func in module __main__:\n",
      "\n",
      "my_func(*args, **kwargs)\n",
      "    関数を実行する前とあとにメッセージを表示\n",
      "\n"
     ]
    }
   ],
   "source": [
    "help(sleep_for_a_while)"
   ]
  },
  {
   "cell_type": "code",
   "execution_count": 56,
   "metadata": {
    "collapsed": false
   },
   "outputs": [
    {
     "name": "stdout",
     "output_type": "stream",
     "text": [
      "== begin\n",
      "Sleeping...\n",
      "Done Sleeping\n",
      "None\n",
      "== end\n"
     ]
    }
   ],
   "source": [
    "from functools import wraps\n",
    "def show_begin_end(func):\n",
    "    '''呼ばれた関数の始めと終わりを表示するデコレータ'''\n",
    "    @wraps(func)\n",
    "    def my_func(*args, **kwargs):\n",
    "        '''関数を実行する前とあとにメッセージを表示'''\n",
    "        print(\"== begin\")\n",
    "        r = func(*args, **kwargs)\n",
    "        print(r)\n",
    "        print(\"== end\")\n",
    "        return r\n",
    "    return my_func\n",
    "\n",
    "@show_begin_end\n",
    "def sleep_for_a_while():\n",
    "    '''しばらく眠る'''\n",
    "    print(\"Sleeping...\")\n",
    "    time.sleep(2) # sleep for a while: interrupt me!\n",
    "    print(\"Done Sleeping\")\n",
    "\n",
    "sleep_for_a_while()"
   ]
  },
  {
   "cell_type": "code",
   "execution_count": 57,
   "metadata": {
    "collapsed": false
   },
   "outputs": [
    {
     "name": "stdout",
     "output_type": "stream",
     "text": [
      "Help on function sleep_for_a_while in module __main__:\n",
      "\n",
      "sleep_for_a_while()\n",
      "    しばらく眠る\n",
      "\n"
     ]
    }
   ],
   "source": [
    "help(sleep_for_a_while)"
   ]
  },
  {
   "cell_type": "markdown",
   "metadata": {},
   "source": [
    "## 4.9 コーディングスタイル"
   ]
  },
  {
   "cell_type": "markdown",
   "metadata": {},
   "source": [
    "### 問題.1"
   ]
  },
  {
   "cell_type": "code",
   "execution_count": null,
   "metadata": {
    "collapsed": true
   },
   "outputs": [],
   "source": [
    "spam(ham[1], {eggs: 2})"
   ]
  },
  {
   "cell_type": "code",
   "execution_count": null,
   "metadata": {
    "collapsed": true
   },
   "outputs": [],
   "source": [
    "foo =(0.)"
   ]
  },
  {
   "cell_type": "code",
   "execution_count": null,
   "metadata": {
    "collapsed": true
   },
   "outputs": [],
   "source": [
    "if x == 4:\n",
    "    print(x, y);\n",
    "    x, y = y, x"
   ]
  },
  {
   "cell_type": "markdown",
   "metadata": {},
   "source": [
    "### 問題.2"
   ]
  },
  {
   "cell_type": "code",
   "execution_count": null,
   "metadata": {
    "collapsed": true
   },
   "outputs": [],
   "source": [
    "import os, sys\n",
    "MAX = 2\n",
    "print(sys.getdefaultcoding())\n",
    "print(os.path.basename(os.getcwd()))\n",
    "for i in range(3):\n",
    "    print(i, end = \" \")\n",
    "    if MAX > i:\n",
    "        print(MAX)\n",
    "    else:\n",
    "        print(\"#\")\n"
   ]
  },
  {
   "cell_type": "code",
   "execution_count": null,
   "metadata": {
    "collapsed": true
   },
   "outputs": [],
   "source": []
  }
 ],
 "metadata": {
  "kernelspec": {
   "display_name": "Python 2",
   "language": "python",
   "name": "python2"
  },
  "language_info": {
   "codemirror_mode": {
    "name": "ipython",
    "version": 3
   },
   "file_extension": ".py",
   "mimetype": "text/x-python",
   "name": "python",
   "nbconvert_exporter": "python",
   "pygments_lexer": "ipython3",
   "version": "3.6.8"
  }
 },
 "nbformat": 4,
 "nbformat_minor": 2
}
